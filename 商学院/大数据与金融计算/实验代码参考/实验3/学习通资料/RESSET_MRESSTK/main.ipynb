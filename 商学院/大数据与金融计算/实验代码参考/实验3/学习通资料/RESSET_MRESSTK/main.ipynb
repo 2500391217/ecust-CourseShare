{
 "cells": [
  {
   "cell_type": "code",
   "execution_count": 3,
   "metadata": {
    "collapsed": true
   },
   "outputs": [],
   "source": [
    "import numpy as np\n",
    "import pandas as pd"
   ]
  },
  {
   "cell_type": "code",
   "execution_count": 9,
   "outputs": [
    {
     "data": {
      "text/plain": "         code        date  close        tshare  monret     pe\n0           1  2000-01-28  18.53  1.071634e+09  0.0619  51.79\n1           1  2000-02-29  18.32  1.071634e+09 -0.0113  51.20\n2           1  2000-03-31  18.37  1.071634e+09  0.0027  51.34\n3           1  2000-04-28  19.05  1.071634e+09  0.0370  56.44\n4           1  2000-05-31  18.00  1.071634e+09 -0.0551  53.33\n...       ...         ...    ...           ...     ...    ...\n92793  990018  2006-05-29  15.47  1.804400e+09  0.4365  52.96\n92794  990018  2006-06-30  17.15  1.804400e+09  0.1086  58.71\n92795  990018  2006-07-31  16.96  1.804400e+09 -0.0111  34.15\n92796  990018  2006-08-31  16.32  1.804400e+09 -0.0377  32.86\n92797  990018  2006-09-25  16.37  1.804400e+09  0.0031  32.96\n\n[592798 rows x 6 columns]",
      "text/html": "<div>\n<style scoped>\n    .dataframe tbody tr th:only-of-type {\n        vertical-align: middle;\n    }\n\n    .dataframe tbody tr th {\n        vertical-align: top;\n    }\n\n    .dataframe thead th {\n        text-align: right;\n    }\n</style>\n<table border=\"1\" class=\"dataframe\">\n  <thead>\n    <tr style=\"text-align: right;\">\n      <th></th>\n      <th>code</th>\n      <th>date</th>\n      <th>close</th>\n      <th>tshare</th>\n      <th>monret</th>\n      <th>pe</th>\n    </tr>\n  </thead>\n  <tbody>\n    <tr>\n      <th>0</th>\n      <td>1</td>\n      <td>2000-01-28</td>\n      <td>18.53</td>\n      <td>1.071634e+09</td>\n      <td>0.0619</td>\n      <td>51.79</td>\n    </tr>\n    <tr>\n      <th>1</th>\n      <td>1</td>\n      <td>2000-02-29</td>\n      <td>18.32</td>\n      <td>1.071634e+09</td>\n      <td>-0.0113</td>\n      <td>51.20</td>\n    </tr>\n    <tr>\n      <th>2</th>\n      <td>1</td>\n      <td>2000-03-31</td>\n      <td>18.37</td>\n      <td>1.071634e+09</td>\n      <td>0.0027</td>\n      <td>51.34</td>\n    </tr>\n    <tr>\n      <th>3</th>\n      <td>1</td>\n      <td>2000-04-28</td>\n      <td>19.05</td>\n      <td>1.071634e+09</td>\n      <td>0.0370</td>\n      <td>56.44</td>\n    </tr>\n    <tr>\n      <th>4</th>\n      <td>1</td>\n      <td>2000-05-31</td>\n      <td>18.00</td>\n      <td>1.071634e+09</td>\n      <td>-0.0551</td>\n      <td>53.33</td>\n    </tr>\n    <tr>\n      <th>...</th>\n      <td>...</td>\n      <td>...</td>\n      <td>...</td>\n      <td>...</td>\n      <td>...</td>\n      <td>...</td>\n    </tr>\n    <tr>\n      <th>92793</th>\n      <td>990018</td>\n      <td>2006-05-29</td>\n      <td>15.47</td>\n      <td>1.804400e+09</td>\n      <td>0.4365</td>\n      <td>52.96</td>\n    </tr>\n    <tr>\n      <th>92794</th>\n      <td>990018</td>\n      <td>2006-06-30</td>\n      <td>17.15</td>\n      <td>1.804400e+09</td>\n      <td>0.1086</td>\n      <td>58.71</td>\n    </tr>\n    <tr>\n      <th>92795</th>\n      <td>990018</td>\n      <td>2006-07-31</td>\n      <td>16.96</td>\n      <td>1.804400e+09</td>\n      <td>-0.0111</td>\n      <td>34.15</td>\n    </tr>\n    <tr>\n      <th>92796</th>\n      <td>990018</td>\n      <td>2006-08-31</td>\n      <td>16.32</td>\n      <td>1.804400e+09</td>\n      <td>-0.0377</td>\n      <td>32.86</td>\n    </tr>\n    <tr>\n      <th>92797</th>\n      <td>990018</td>\n      <td>2006-09-25</td>\n      <td>16.37</td>\n      <td>1.804400e+09</td>\n      <td>0.0031</td>\n      <td>32.96</td>\n    </tr>\n  </tbody>\n</table>\n<p>592798 rows × 6 columns</p>\n</div>"
     },
     "execution_count": 9,
     "metadata": {},
     "output_type": "execute_result"
    }
   ],
   "source": [
    "data=pd.read_csv('RESSET_MRESSTK_1.csv',usecols=[0,2,3,4,5,6],encoding='GB2312')\n",
    "data.columns=['code','date','close','tshare','monret','pe']\n",
    "for i in range(2,7):\n",
    "    filename='RESSET_MRESSTK_'+str(i)+'.csv'\n",
    "    trans=pd.read_csv(filename,usecols=[0,2,3,4,5,6],encoding='utf-8')\n",
    "    trans.columns=['code','date','close','tshare','monret','pe']\n",
    "    data=pd.concat([data,trans])\n",
    "data"
   ],
   "metadata": {
    "collapsed": false
   }
  },
  {
   "cell_type": "code",
   "execution_count": 55,
   "outputs": [
    {
     "data": {
      "text/plain": "         code       date  close        tshare  monret     pe  yearmonth  \\\n0           1 2000-01-28  18.53  1.071634e+09  0.0619  51.79     200001   \n1           1 2000-02-29  18.32  1.071634e+09 -0.0113  51.20     200002   \n2           1 2000-03-31  18.37  1.071634e+09  0.0027  51.34     200003   \n3           1 2000-04-28  19.05  1.071634e+09  0.0370  56.44     200004   \n4           1 2000-05-31  18.00  1.071634e+09 -0.0551  53.33     200005   \n...       ...        ...    ...           ...     ...    ...        ...   \n92793  990018 2006-05-29  15.47  1.804400e+09  0.4365  52.96     200605   \n92794  990018 2006-06-30  17.15  1.804400e+09  0.1086  58.71     200606   \n92795  990018 2006-07-31  16.96  1.804400e+09 -0.0111  34.15     200607   \n92796  990018 2006-08-31  16.32  1.804400e+09 -0.0377  32.86     200608   \n92797  990018 2006-09-25  16.37  1.804400e+09  0.0031  32.96     200609   \n\n           tstksize     stkep  \n0      1.985739e+10  0.019309  \n1      1.963234e+10  0.019531  \n2      1.968592e+10  0.019478  \n3      2.041464e+10  0.017718  \n4      1.928942e+10  0.018751  \n...             ...       ...  \n92793  2.791407e+10  0.018882  \n92794  3.094546e+10  0.017033  \n92795  3.060262e+10  0.029283  \n92796  2.944781e+10  0.030432  \n92797  2.953803e+10  0.030340  \n\n[571553 rows x 9 columns]",
      "text/html": "<div>\n<style scoped>\n    .dataframe tbody tr th:only-of-type {\n        vertical-align: middle;\n    }\n\n    .dataframe tbody tr th {\n        vertical-align: top;\n    }\n\n    .dataframe thead th {\n        text-align: right;\n    }\n</style>\n<table border=\"1\" class=\"dataframe\">\n  <thead>\n    <tr style=\"text-align: right;\">\n      <th></th>\n      <th>code</th>\n      <th>date</th>\n      <th>close</th>\n      <th>tshare</th>\n      <th>monret</th>\n      <th>pe</th>\n      <th>yearmonth</th>\n      <th>tstksize</th>\n      <th>stkep</th>\n    </tr>\n  </thead>\n  <tbody>\n    <tr>\n      <th>0</th>\n      <td>1</td>\n      <td>2000-01-28</td>\n      <td>18.53</td>\n      <td>1.071634e+09</td>\n      <td>0.0619</td>\n      <td>51.79</td>\n      <td>200001</td>\n      <td>1.985739e+10</td>\n      <td>0.019309</td>\n    </tr>\n    <tr>\n      <th>1</th>\n      <td>1</td>\n      <td>2000-02-29</td>\n      <td>18.32</td>\n      <td>1.071634e+09</td>\n      <td>-0.0113</td>\n      <td>51.20</td>\n      <td>200002</td>\n      <td>1.963234e+10</td>\n      <td>0.019531</td>\n    </tr>\n    <tr>\n      <th>2</th>\n      <td>1</td>\n      <td>2000-03-31</td>\n      <td>18.37</td>\n      <td>1.071634e+09</td>\n      <td>0.0027</td>\n      <td>51.34</td>\n      <td>200003</td>\n      <td>1.968592e+10</td>\n      <td>0.019478</td>\n    </tr>\n    <tr>\n      <th>3</th>\n      <td>1</td>\n      <td>2000-04-28</td>\n      <td>19.05</td>\n      <td>1.071634e+09</td>\n      <td>0.0370</td>\n      <td>56.44</td>\n      <td>200004</td>\n      <td>2.041464e+10</td>\n      <td>0.017718</td>\n    </tr>\n    <tr>\n      <th>4</th>\n      <td>1</td>\n      <td>2000-05-31</td>\n      <td>18.00</td>\n      <td>1.071634e+09</td>\n      <td>-0.0551</td>\n      <td>53.33</td>\n      <td>200005</td>\n      <td>1.928942e+10</td>\n      <td>0.018751</td>\n    </tr>\n    <tr>\n      <th>...</th>\n      <td>...</td>\n      <td>...</td>\n      <td>...</td>\n      <td>...</td>\n      <td>...</td>\n      <td>...</td>\n      <td>...</td>\n      <td>...</td>\n      <td>...</td>\n    </tr>\n    <tr>\n      <th>92793</th>\n      <td>990018</td>\n      <td>2006-05-29</td>\n      <td>15.47</td>\n      <td>1.804400e+09</td>\n      <td>0.4365</td>\n      <td>52.96</td>\n      <td>200605</td>\n      <td>2.791407e+10</td>\n      <td>0.018882</td>\n    </tr>\n    <tr>\n      <th>92794</th>\n      <td>990018</td>\n      <td>2006-06-30</td>\n      <td>17.15</td>\n      <td>1.804400e+09</td>\n      <td>0.1086</td>\n      <td>58.71</td>\n      <td>200606</td>\n      <td>3.094546e+10</td>\n      <td>0.017033</td>\n    </tr>\n    <tr>\n      <th>92795</th>\n      <td>990018</td>\n      <td>2006-07-31</td>\n      <td>16.96</td>\n      <td>1.804400e+09</td>\n      <td>-0.0111</td>\n      <td>34.15</td>\n      <td>200607</td>\n      <td>3.060262e+10</td>\n      <td>0.029283</td>\n    </tr>\n    <tr>\n      <th>92796</th>\n      <td>990018</td>\n      <td>2006-08-31</td>\n      <td>16.32</td>\n      <td>1.804400e+09</td>\n      <td>-0.0377</td>\n      <td>32.86</td>\n      <td>200608</td>\n      <td>2.944781e+10</td>\n      <td>0.030432</td>\n    </tr>\n    <tr>\n      <th>92797</th>\n      <td>990018</td>\n      <td>2006-09-25</td>\n      <td>16.37</td>\n      <td>1.804400e+09</td>\n      <td>0.0031</td>\n      <td>32.96</td>\n      <td>200609</td>\n      <td>2.953803e+10</td>\n      <td>0.030340</td>\n    </tr>\n  </tbody>\n</table>\n<p>571553 rows × 9 columns</p>\n</div>"
     },
     "execution_count": 55,
     "metadata": {},
     "output_type": "execute_result"
    }
   ],
   "source": [
    "data['date'] = pd.to_datetime(data['date'])\n",
    "data['yearmonth'] = data['date'].dt.strftime('%Y%m').astype(int)\n",
    "data['tstksize'] = data['close']*data['tshare']\n",
    "data['stkep'] = 1/data['pe']\n",
    "#data.dropna(inplace = True, subset=['tstksize', 'stkep'])##直接全部drop不是更好？ 597685行  和下面这代码不一样结果\n",
    "##data.dropna(inplace = True)\n",
    "data.dropna(inplace = True)\n",
    "data"
   ],
   "metadata": {
    "collapsed": false
   }
  },
  {
   "cell_type": "markdown",
   "source": [],
   "metadata": {
    "collapsed": false
   }
  },
  {
   "cell_type": "code",
   "execution_count": 56,
   "outputs": [
    {
     "name": "stdout",
     "output_type": "stream",
     "text": [
      "264\n",
      "[2, 3]\n"
     ]
    }
   ],
   "source": [
    "uym = np.unique(data['yearmonth'].values)##有没有可能有些code不全有date。这没什么关系，因为后面是根据每个时点作为一组，在其中进行排序划分\n",
    "print(len(uym))\n",
    "uym"
   ],
   "metadata": {
    "collapsed": false
   }
  },
  {
   "cell_type": "code",
   "execution_count": 63,
   "outputs": [],
   "source": [
    "class sort_portfolio:\n",
    "\n",
    "    def __init__(self, data, months, gnum):\n",
    "        self.data = data\n",
    "        self.months = months\n",
    "        self.gnum = gnum\n",
    "\n",
    "    def data_months(self):\n",
    "        dm = self.data.loc[self.data['yearmonth'] == self.months[0], ['code', 'tstksize', 'stkep']]\n",
    "        dm.dropna(inplace = True)\n",
    "        for i in range(1, len(self.months)):\n",
    "            ind = self.data['yearmonth'] == self.months[i]\n",
    "            dm = pd.merge(left = dm,\n",
    "                         right = self.data.loc[ind, ['code', 'monret']],\n",
    "                         on='code',\n",
    "                         how='left',\n",
    "                         sort=True)\n",
    "        dm.columns = ['stk', 'size6', 'ep6', 'ret7', 'ret8', 'ret9', 'ret10', 'ret11',\n",
    "                      'ret12', 'retn1', 'retn2', 'retn3', 'retn4', 'retn5', 'retn6']\n",
    "        return dm\n",
    "    def sort_single_ind(self):\n",
    "        L = np.sum(self.data['yearmonth'] == self.months[0])##算出有多少个股票\n",
    "        n = np.fix(L/self.gnum).astype(int)\n",
    "        x = np.ones(L)\n",
    "        i = 0\n",
    "        while i < self.gnum:\n",
    "            if i == self.gnum-1:\n",
    "                x[i*n:] = x[i*n:]*i##当i == self.gnum-1，就说明到最后一组了，很有可能后面不够了。但是其实没有关系，因为就算超过最大值了，也只会取到最后的值\n",
    "            else:\n",
    "                x[i*n:(i+1)*n] = x[i*n:(i+1)*n]*i\n",
    "            i = i+1\n",
    "        ssi = x.astype(int)\n",
    "        return ssi\n",
    "\n",
    "    def sort_double_ind(self):\n",
    "        L = np.sum(self.data['yearmonth'] == self.months[0])\n",
    "        l = np.fix(L/self.gnum).astype(int)\n",
    "        n = np.fix(L/(self.gnum**2)).astype(int)\n",
    "        x = np.ones(L)\n",
    "        i = 0\n",
    "        while i < self.gnum:\n",
    "            j = 0\n",
    "            while j < self.gnum:\n",
    "                if j == self.gnum-1:\n",
    "                    if i == self.gnum-1:\n",
    "                        x[(i*l+j*n):] = x[(i*l+j*n):]*j\n",
    "                    else:\n",
    "                        x[(i*l+j*n):((i+1)*l)] = x[(i*l+j*n):((i+1)*l)]*j\n",
    "                else:\n",
    "                    x[(i*l+j*n):(i*l+(j+1)*n)] = x[(i*l+j*n):(i*l+(j+1)*n)]*j\n",
    "                j=j+1\n",
    "            i=i+1\n",
    "        sdi = x.astype(int)\n",
    "        return sdi\n",
    "\n",
    "    def sequence_sort(self):\n",
    "        dm = self.data_months()\n",
    "        ssi = self.sort_single_ind()\n",
    "        sdi = self.sort_double_ind()\n",
    "        dm.sort_values(by=['size6'], ascending=True, inplace=True)\n",
    "        dm['sinsort'] = ssi\n",
    "        dm.sort_values(by=['sinsort', 'ep6'], ascending=[True, True], inplace=True)\n",
    "        dm['dousort'] = sdi\n",
    "        return dm\n",
    "\n",
    "\n",
    "    def sequence_sort_mreturn(self):\n",
    "        sp = self.sequence_sort()\n",
    "        spmreturn = sp.loc[:, ['ret7', 'sinsort', 'dousort']].dropna().groupby(\n",
    "                    by=['sinsort', 'dousort'])['ret7'].mean()\n",
    "        lret = ['ret8', 'ret9', 'ret10', 'ret11', 'ret12', 'retn1', 'retn2', 'retn3', 'retn4', 'retn5', 'retn6']\n",
    "        for i in lret:\n",
    "            a = sp.loc[:, [i, 'sinsort', 'dousort']].dropna().groupby(\n",
    "                by=['sinsort', 'dousort'])[i].mean()\n",
    "            spmreturn = pd.concat([spmreturn, a], axis=1)\n",
    "        spmreturn['mret'] = spmreturn.apply(lambda x: x.mean(), axis=1)\n",
    "        return spmreturn"
   ],
   "metadata": {
    "collapsed": false
   }
  },
  {
   "cell_type": "code",
   "execution_count": 64,
   "outputs": [
    {
     "name": "stdout",
     "output_type": "stream",
     "text": [
      "[200006 200007 200008 200009 200010 200011 200012 200101 200102 200103\n",
      " 200104 200105 200106]\n"
     ]
    },
    {
     "name": "stderr",
     "output_type": "stream",
     "text": [
      "E:\\Python37\\lib\\site-packages\\ipykernel_launcher.py:17: FutureWarning: Passing 'suffixes' which cause duplicate columns {'monret_x'} in the result is deprecated and will raise a MergeError in a future version.\n",
      "  app.launch_new_instance()\n"
     ]
    },
    {
     "data": {
      "text/plain": "        stk         size6       ep6    ret7    ret8    ret9   ret10   ret11  \\\n0         1  1.942873e+10  0.018619  0.0210 -0.0411 -0.0445  0.0348 -0.0081   \n1         2  5.386597e+09  0.031437  0.0274 -0.0483 -0.0528  0.0671  0.0606   \n2         4  9.068779e+08  0.005057  0.2618  0.1707  0.0068 -0.1572  0.1719   \n3         5  2.547178e+09  0.013019 -0.0357 -0.0064 -0.1565  0.0592  0.0522   \n4         6  2.122505e+09  0.024839  0.0468 -0.1137 -0.1154  0.0429  0.0691   \n..      ...           ...       ...     ...     ...     ...     ...     ...   \n945  900950  2.544366e+07 -0.016466  0.1579  0.1273  0.1048  0.0730  0.0544   \n946  900951  1.500000e+07 -0.020859  0.3333  0.4000 -0.1714  0.2155  0.0071   \n947  900952  4.173600e+07  0.065833  0.0372 -0.1436 -0.0299  0.0864  0.1023   \n948  900953  5.376000e+07  0.055279  0.1518 -0.0233  0.0317  0.1000  0.0350   \n949  900956  2.875000e+07 -0.012514  0.1280 -0.0780 -0.0231  0.1181  0.0423   \n\n      ret12   retn1   retn2   retn3   retn4   retn5   retn6  \n0   -0.0626  0.0317 -0.0594  0.1512 -0.0425  0.0431 -0.0549  \n1   -0.0007  0.0672 -0.0777  0.0988 -0.0364 -0.0261  0.0430  \n2    0.0319 -0.1515 -0.1071  0.1432  0.0101 -0.0031  0.0083  \n3   -0.0371  0.1177 -0.0938  0.1137     NaN     NaN     NaN  \n4    0.0810  0.0379 -0.0452  0.0695  0.0236 -0.0265 -0.0007  \n..      ...     ...     ...     ...     ...     ...     ...  \n945  0.1677 -0.0387 -0.0632  0.8405  0.3567  0.4079 -0.0881  \n946  0.3028 -0.0081  0.0054  0.8943  0.2203  0.3916 -0.0110  \n947  0.3041 -0.0316  0.0857  0.9718  0.3060  0.3022 -0.0767  \n948  0.2230 -0.0608  0.0794  0.8801  0.2768  0.2622 -0.0468  \n949  0.2838 -0.0895  0.0462  1.0912  0.2312  0.2918  0.0233  \n\n[950 rows x 15 columns]",
      "text/html": "<div>\n<style scoped>\n    .dataframe tbody tr th:only-of-type {\n        vertical-align: middle;\n    }\n\n    .dataframe tbody tr th {\n        vertical-align: top;\n    }\n\n    .dataframe thead th {\n        text-align: right;\n    }\n</style>\n<table border=\"1\" class=\"dataframe\">\n  <thead>\n    <tr style=\"text-align: right;\">\n      <th></th>\n      <th>stk</th>\n      <th>size6</th>\n      <th>ep6</th>\n      <th>ret7</th>\n      <th>ret8</th>\n      <th>ret9</th>\n      <th>ret10</th>\n      <th>ret11</th>\n      <th>ret12</th>\n      <th>retn1</th>\n      <th>retn2</th>\n      <th>retn3</th>\n      <th>retn4</th>\n      <th>retn5</th>\n      <th>retn6</th>\n    </tr>\n  </thead>\n  <tbody>\n    <tr>\n      <th>0</th>\n      <td>1</td>\n      <td>1.942873e+10</td>\n      <td>0.018619</td>\n      <td>0.0210</td>\n      <td>-0.0411</td>\n      <td>-0.0445</td>\n      <td>0.0348</td>\n      <td>-0.0081</td>\n      <td>-0.0626</td>\n      <td>0.0317</td>\n      <td>-0.0594</td>\n      <td>0.1512</td>\n      <td>-0.0425</td>\n      <td>0.0431</td>\n      <td>-0.0549</td>\n    </tr>\n    <tr>\n      <th>1</th>\n      <td>2</td>\n      <td>5.386597e+09</td>\n      <td>0.031437</td>\n      <td>0.0274</td>\n      <td>-0.0483</td>\n      <td>-0.0528</td>\n      <td>0.0671</td>\n      <td>0.0606</td>\n      <td>-0.0007</td>\n      <td>0.0672</td>\n      <td>-0.0777</td>\n      <td>0.0988</td>\n      <td>-0.0364</td>\n      <td>-0.0261</td>\n      <td>0.0430</td>\n    </tr>\n    <tr>\n      <th>2</th>\n      <td>4</td>\n      <td>9.068779e+08</td>\n      <td>0.005057</td>\n      <td>0.2618</td>\n      <td>0.1707</td>\n      <td>0.0068</td>\n      <td>-0.1572</td>\n      <td>0.1719</td>\n      <td>0.0319</td>\n      <td>-0.1515</td>\n      <td>-0.1071</td>\n      <td>0.1432</td>\n      <td>0.0101</td>\n      <td>-0.0031</td>\n      <td>0.0083</td>\n    </tr>\n    <tr>\n      <th>3</th>\n      <td>5</td>\n      <td>2.547178e+09</td>\n      <td>0.013019</td>\n      <td>-0.0357</td>\n      <td>-0.0064</td>\n      <td>-0.1565</td>\n      <td>0.0592</td>\n      <td>0.0522</td>\n      <td>-0.0371</td>\n      <td>0.1177</td>\n      <td>-0.0938</td>\n      <td>0.1137</td>\n      <td>NaN</td>\n      <td>NaN</td>\n      <td>NaN</td>\n    </tr>\n    <tr>\n      <th>4</th>\n      <td>6</td>\n      <td>2.122505e+09</td>\n      <td>0.024839</td>\n      <td>0.0468</td>\n      <td>-0.1137</td>\n      <td>-0.1154</td>\n      <td>0.0429</td>\n      <td>0.0691</td>\n      <td>0.0810</td>\n      <td>0.0379</td>\n      <td>-0.0452</td>\n      <td>0.0695</td>\n      <td>0.0236</td>\n      <td>-0.0265</td>\n      <td>-0.0007</td>\n    </tr>\n    <tr>\n      <th>...</th>\n      <td>...</td>\n      <td>...</td>\n      <td>...</td>\n      <td>...</td>\n      <td>...</td>\n      <td>...</td>\n      <td>...</td>\n      <td>...</td>\n      <td>...</td>\n      <td>...</td>\n      <td>...</td>\n      <td>...</td>\n      <td>...</td>\n      <td>...</td>\n      <td>...</td>\n    </tr>\n    <tr>\n      <th>945</th>\n      <td>900950</td>\n      <td>2.544366e+07</td>\n      <td>-0.016466</td>\n      <td>0.1579</td>\n      <td>0.1273</td>\n      <td>0.1048</td>\n      <td>0.0730</td>\n      <td>0.0544</td>\n      <td>0.1677</td>\n      <td>-0.0387</td>\n      <td>-0.0632</td>\n      <td>0.8405</td>\n      <td>0.3567</td>\n      <td>0.4079</td>\n      <td>-0.0881</td>\n    </tr>\n    <tr>\n      <th>946</th>\n      <td>900951</td>\n      <td>1.500000e+07</td>\n      <td>-0.020859</td>\n      <td>0.3333</td>\n      <td>0.4000</td>\n      <td>-0.1714</td>\n      <td>0.2155</td>\n      <td>0.0071</td>\n      <td>0.3028</td>\n      <td>-0.0081</td>\n      <td>0.0054</td>\n      <td>0.8943</td>\n      <td>0.2203</td>\n      <td>0.3916</td>\n      <td>-0.0110</td>\n    </tr>\n    <tr>\n      <th>947</th>\n      <td>900952</td>\n      <td>4.173600e+07</td>\n      <td>0.065833</td>\n      <td>0.0372</td>\n      <td>-0.1436</td>\n      <td>-0.0299</td>\n      <td>0.0864</td>\n      <td>0.1023</td>\n      <td>0.3041</td>\n      <td>-0.0316</td>\n      <td>0.0857</td>\n      <td>0.9718</td>\n      <td>0.3060</td>\n      <td>0.3022</td>\n      <td>-0.0767</td>\n    </tr>\n    <tr>\n      <th>948</th>\n      <td>900953</td>\n      <td>5.376000e+07</td>\n      <td>0.055279</td>\n      <td>0.1518</td>\n      <td>-0.0233</td>\n      <td>0.0317</td>\n      <td>0.1000</td>\n      <td>0.0350</td>\n      <td>0.2230</td>\n      <td>-0.0608</td>\n      <td>0.0794</td>\n      <td>0.8801</td>\n      <td>0.2768</td>\n      <td>0.2622</td>\n      <td>-0.0468</td>\n    </tr>\n    <tr>\n      <th>949</th>\n      <td>900956</td>\n      <td>2.875000e+07</td>\n      <td>-0.012514</td>\n      <td>0.1280</td>\n      <td>-0.0780</td>\n      <td>-0.0231</td>\n      <td>0.1181</td>\n      <td>0.0423</td>\n      <td>0.2838</td>\n      <td>-0.0895</td>\n      <td>0.0462</td>\n      <td>1.0912</td>\n      <td>0.2312</td>\n      <td>0.2918</td>\n      <td>0.0233</td>\n    </tr>\n  </tbody>\n</table>\n<p>950 rows × 15 columns</p>\n</div>"
     },
     "execution_count": 64,
     "metadata": {},
     "output_type": "execute_result"
    }
   ],
   "source": [
    "print(uym[5:5+13])\n",
    "sp = sort_portfolio(data, uym[5:5+13], 5)\n",
    "sp.data_months()"
   ],
   "metadata": {
    "collapsed": false
   }
  },
  {
   "cell_type": "code",
   "execution_count": 65,
   "outputs": [
    {
     "name": "stderr",
     "output_type": "stream",
     "text": [
      "E:\\Python37\\lib\\site-packages\\ipykernel_launcher.py:17: FutureWarning: Passing 'suffixes' which cause duplicate columns {'monret_x'} in the result is deprecated and will raise a MergeError in a future version.\n",
      "  app.launch_new_instance()\n"
     ]
    },
    {
     "data": {
      "text/plain": "        stk         size6       ep6    ret7    ret8    ret9   ret10   ret11  \\\n915  900915  8.142000e+06 -0.990099  0.3051  0.3506  0.0192  0.0943  0.2759   \n925  900926  1.038400e+07 -0.719424  0.3898  0.6707  0.0438 -0.0280  0.2014   \n907  900906  1.585584e+07 -0.469484  0.2424  0.3049 -0.0280  0.0865  0.2566   \n434  200025  4.752000e+07 -0.315457  0.0000  0.0944 -0.0761 -0.0055  0.0000   \n927  900928  1.992906e+07 -0.243902  0.1183  0.2500  0.0615  0.1232  0.0258   \n..      ...           ...       ...     ...     ...     ...     ...     ...   \n322     825  2.463750e+09  0.047237  0.0898 -0.0363 -0.0565  0.0046  0.0015   \n190     629  2.122584e+09  0.049554  0.1596 -0.0749 -0.0972  0.0942  0.0219   \n241     709  2.180531e+09  0.053248  0.0851 -0.0229 -0.0642  0.0106  0.0705   \n302     800  3.341520e+09  0.054645  0.1879 -0.0934 -0.0923 -0.0051  0.0988   \n475  600006  1.836000e+09  0.056243  0.1732  0.0028 -0.1125 -0.0047  0.1887   \n\n      ret12   retn1   retn2   retn3   retn4   retn5   retn6  sinsort  dousort  \n915  0.2635 -0.0909 -0.0471  0.5833 -0.0351     NaN     NaN        0        0  \n925  0.4910 -0.0542  0.0276  1.1736  0.1711  0.1031  0.1001        0        0  \n907  0.2535 -0.0787 -0.0366  0.7184  0.3904  0.3921 -0.1047        0        0  \n434  0.2707 -0.0174 -0.1018  1.4877  0.3366  0.6800 -0.0741        0        0  \n927  0.3396 -0.1127  0.0238  0.6744  0.1713  0.3926 -0.1126        0        0  \n..      ...     ...     ...     ...     ...     ...     ...      ...      ...  \n322 -0.0107  0.0498 -0.0134  0.0571  0.0213 -0.0128  0.0086        4        4  \n190 -0.0294  0.1143  0.0198  0.0703 -0.0838 -0.0235  0.0468        4        4  \n241 -0.0244  0.0350  0.0217  0.0567 -0.0604 -0.0155  0.0411        4        4  \n302  0.0031  0.0912 -0.0212  0.0810 -0.0643  0.0014 -0.0271        4        4  \n475 -0.0040  0.1262  0.0554  0.0190  0.0351  0.0689  0.0525        4        4  \n\n[950 rows x 17 columns]",
      "text/html": "<div>\n<style scoped>\n    .dataframe tbody tr th:only-of-type {\n        vertical-align: middle;\n    }\n\n    .dataframe tbody tr th {\n        vertical-align: top;\n    }\n\n    .dataframe thead th {\n        text-align: right;\n    }\n</style>\n<table border=\"1\" class=\"dataframe\">\n  <thead>\n    <tr style=\"text-align: right;\">\n      <th></th>\n      <th>stk</th>\n      <th>size6</th>\n      <th>ep6</th>\n      <th>ret7</th>\n      <th>ret8</th>\n      <th>ret9</th>\n      <th>ret10</th>\n      <th>ret11</th>\n      <th>ret12</th>\n      <th>retn1</th>\n      <th>retn2</th>\n      <th>retn3</th>\n      <th>retn4</th>\n      <th>retn5</th>\n      <th>retn6</th>\n      <th>sinsort</th>\n      <th>dousort</th>\n    </tr>\n  </thead>\n  <tbody>\n    <tr>\n      <th>915</th>\n      <td>900915</td>\n      <td>8.142000e+06</td>\n      <td>-0.990099</td>\n      <td>0.3051</td>\n      <td>0.3506</td>\n      <td>0.0192</td>\n      <td>0.0943</td>\n      <td>0.2759</td>\n      <td>0.2635</td>\n      <td>-0.0909</td>\n      <td>-0.0471</td>\n      <td>0.5833</td>\n      <td>-0.0351</td>\n      <td>NaN</td>\n      <td>NaN</td>\n      <td>0</td>\n      <td>0</td>\n    </tr>\n    <tr>\n      <th>925</th>\n      <td>900926</td>\n      <td>1.038400e+07</td>\n      <td>-0.719424</td>\n      <td>0.3898</td>\n      <td>0.6707</td>\n      <td>0.0438</td>\n      <td>-0.0280</td>\n      <td>0.2014</td>\n      <td>0.4910</td>\n      <td>-0.0542</td>\n      <td>0.0276</td>\n      <td>1.1736</td>\n      <td>0.1711</td>\n      <td>0.1031</td>\n      <td>0.1001</td>\n      <td>0</td>\n      <td>0</td>\n    </tr>\n    <tr>\n      <th>907</th>\n      <td>900906</td>\n      <td>1.585584e+07</td>\n      <td>-0.469484</td>\n      <td>0.2424</td>\n      <td>0.3049</td>\n      <td>-0.0280</td>\n      <td>0.0865</td>\n      <td>0.2566</td>\n      <td>0.2535</td>\n      <td>-0.0787</td>\n      <td>-0.0366</td>\n      <td>0.7184</td>\n      <td>0.3904</td>\n      <td>0.3921</td>\n      <td>-0.1047</td>\n      <td>0</td>\n      <td>0</td>\n    </tr>\n    <tr>\n      <th>434</th>\n      <td>200025</td>\n      <td>4.752000e+07</td>\n      <td>-0.315457</td>\n      <td>0.0000</td>\n      <td>0.0944</td>\n      <td>-0.0761</td>\n      <td>-0.0055</td>\n      <td>0.0000</td>\n      <td>0.2707</td>\n      <td>-0.0174</td>\n      <td>-0.1018</td>\n      <td>1.4877</td>\n      <td>0.3366</td>\n      <td>0.6800</td>\n      <td>-0.0741</td>\n      <td>0</td>\n      <td>0</td>\n    </tr>\n    <tr>\n      <th>927</th>\n      <td>900928</td>\n      <td>1.992906e+07</td>\n      <td>-0.243902</td>\n      <td>0.1183</td>\n      <td>0.2500</td>\n      <td>0.0615</td>\n      <td>0.1232</td>\n      <td>0.0258</td>\n      <td>0.3396</td>\n      <td>-0.1127</td>\n      <td>0.0238</td>\n      <td>0.6744</td>\n      <td>0.1713</td>\n      <td>0.3926</td>\n      <td>-0.1126</td>\n      <td>0</td>\n      <td>0</td>\n    </tr>\n    <tr>\n      <th>...</th>\n      <td>...</td>\n      <td>...</td>\n      <td>...</td>\n      <td>...</td>\n      <td>...</td>\n      <td>...</td>\n      <td>...</td>\n      <td>...</td>\n      <td>...</td>\n      <td>...</td>\n      <td>...</td>\n      <td>...</td>\n      <td>...</td>\n      <td>...</td>\n      <td>...</td>\n      <td>...</td>\n      <td>...</td>\n    </tr>\n    <tr>\n      <th>322</th>\n      <td>825</td>\n      <td>2.463750e+09</td>\n      <td>0.047237</td>\n      <td>0.0898</td>\n      <td>-0.0363</td>\n      <td>-0.0565</td>\n      <td>0.0046</td>\n      <td>0.0015</td>\n      <td>-0.0107</td>\n      <td>0.0498</td>\n      <td>-0.0134</td>\n      <td>0.0571</td>\n      <td>0.0213</td>\n      <td>-0.0128</td>\n      <td>0.0086</td>\n      <td>4</td>\n      <td>4</td>\n    </tr>\n    <tr>\n      <th>190</th>\n      <td>629</td>\n      <td>2.122584e+09</td>\n      <td>0.049554</td>\n      <td>0.1596</td>\n      <td>-0.0749</td>\n      <td>-0.0972</td>\n      <td>0.0942</td>\n      <td>0.0219</td>\n      <td>-0.0294</td>\n      <td>0.1143</td>\n      <td>0.0198</td>\n      <td>0.0703</td>\n      <td>-0.0838</td>\n      <td>-0.0235</td>\n      <td>0.0468</td>\n      <td>4</td>\n      <td>4</td>\n    </tr>\n    <tr>\n      <th>241</th>\n      <td>709</td>\n      <td>2.180531e+09</td>\n      <td>0.053248</td>\n      <td>0.0851</td>\n      <td>-0.0229</td>\n      <td>-0.0642</td>\n      <td>0.0106</td>\n      <td>0.0705</td>\n      <td>-0.0244</td>\n      <td>0.0350</td>\n      <td>0.0217</td>\n      <td>0.0567</td>\n      <td>-0.0604</td>\n      <td>-0.0155</td>\n      <td>0.0411</td>\n      <td>4</td>\n      <td>4</td>\n    </tr>\n    <tr>\n      <th>302</th>\n      <td>800</td>\n      <td>3.341520e+09</td>\n      <td>0.054645</td>\n      <td>0.1879</td>\n      <td>-0.0934</td>\n      <td>-0.0923</td>\n      <td>-0.0051</td>\n      <td>0.0988</td>\n      <td>0.0031</td>\n      <td>0.0912</td>\n      <td>-0.0212</td>\n      <td>0.0810</td>\n      <td>-0.0643</td>\n      <td>0.0014</td>\n      <td>-0.0271</td>\n      <td>4</td>\n      <td>4</td>\n    </tr>\n    <tr>\n      <th>475</th>\n      <td>600006</td>\n      <td>1.836000e+09</td>\n      <td>0.056243</td>\n      <td>0.1732</td>\n      <td>0.0028</td>\n      <td>-0.1125</td>\n      <td>-0.0047</td>\n      <td>0.1887</td>\n      <td>-0.0040</td>\n      <td>0.1262</td>\n      <td>0.0554</td>\n      <td>0.0190</td>\n      <td>0.0351</td>\n      <td>0.0689</td>\n      <td>0.0525</td>\n      <td>4</td>\n      <td>4</td>\n    </tr>\n  </tbody>\n</table>\n<p>950 rows × 17 columns</p>\n</div>"
     },
     "execution_count": 65,
     "metadata": {},
     "output_type": "execute_result"
    }
   ],
   "source": [
    "sp.sequence_sort()"
   ],
   "metadata": {
    "collapsed": false
   }
  },
  {
   "cell_type": "code",
   "execution_count": 66,
   "outputs": [
    {
     "name": "stderr",
     "output_type": "stream",
     "text": [
      "E:\\Python37\\lib\\site-packages\\ipykernel_launcher.py:17: FutureWarning: Passing 'suffixes' which cause duplicate columns {'monret_x'} in the result is deprecated and will raise a MergeError in a future version.\n",
      "  app.launch_new_instance()\n"
     ]
    },
    {
     "data": {
      "text/plain": "                     ret7      ret8      ret9     ret10     ret11     ret12  \\\nsinsort dousort                                                               \n0       0        0.151432  0.133645  0.009450  0.061500  0.070413  0.082708   \n        1        0.067492  0.045516 -0.040279  0.070713  0.063850  0.044595   \n        2        0.029908  0.026773 -0.023862  0.077095  0.062868  0.075029   \n        3        0.058742  0.033461 -0.028766  0.074634  0.069924  0.127318   \n        4        0.044184  0.020995 -0.077255  0.084105  0.064945  0.172776   \n1       0        0.139982  0.052213 -0.037438  0.066354  0.051376 -0.022311   \n        1        0.052395  0.032505 -0.016979  0.044368  0.078127 -0.007886   \n        2        0.047634  0.017376 -0.034524  0.058347  0.049937  0.020853   \n        3        0.041529  0.012916 -0.026413  0.048668  0.093179  0.020676   \n        4        0.051768 -0.014042 -0.051671  0.058637  0.063911  0.029542   \n2       0        0.032176  0.068400 -0.013695  0.051521  0.064137 -0.012266   \n        1        0.031382 -0.005650 -0.040224  0.022126  0.077345 -0.017071   \n        2        0.042134  0.005171 -0.035189  0.038395  0.057742  0.016495   \n        3        0.040089 -0.000326 -0.042395  0.032884  0.063253  0.013545   \n        4        0.086755 -0.036142 -0.047718  0.040624  0.067139  0.025971   \n3       0        0.049642 -0.009334 -0.058713  0.040889  0.066166 -0.011626   \n        1        0.023366 -0.014982 -0.042455  0.008218  0.059326  0.008421   \n        2        0.041445 -0.008721 -0.045053  0.048074  0.058126  0.004484   \n        3        0.033587 -0.018963 -0.069684  0.036171  0.066550  0.012876   \n        4        0.052789 -0.031113 -0.067166  0.018845  0.071355  0.023074   \n4       0        0.019876 -0.022721 -0.040434  0.009903  0.035026 -0.036408   \n        1        0.023032 -0.045750 -0.045716 -0.002313  0.057205 -0.004137   \n        2        0.038424  0.008182 -0.032032  0.001118  0.043308 -0.018629   \n        3        0.035005 -0.024808 -0.057897  0.007382  0.040566 -0.003797   \n        4        0.078050 -0.019332 -0.082408  0.015800  0.071679  0.001063   \n\n                    retn1     retn2     retn3     retn4     retn5     retn6  \\\nsinsort dousort                                                               \n0       0       -0.044237 -0.067926  0.427571  0.114558  0.205778 -0.021728   \n        1       -0.044616 -0.054645  0.240392  0.076316  0.153997 -0.035558   \n        2       -0.038147 -0.043892  0.315939  0.064513  0.141132 -0.021161   \n        3       -0.032697 -0.012624  0.551766  0.075342  0.196279 -0.041282   \n        4       -0.010937  0.045863  1.081932  0.138605  0.244211 -0.098176   \n1       0       -0.012237 -0.100247  0.182011  0.027332  0.117717 -0.011750   \n        1       -0.026987 -0.065621  0.101492  0.022968  0.079986  0.009749   \n        2        0.000324 -0.074274  0.079034  0.015847  0.071192  0.018216   \n        3       -0.007818 -0.049808  0.105650  0.010700  0.073211  0.011624   \n        4       -0.000474 -0.036134  0.284471  0.013747  0.106308 -0.011876   \n2       0       -0.027361 -0.089711  0.100082  0.021726  0.059781 -0.009105   \n        1       -0.000982 -0.081176  0.081416 -0.006308  0.070637  0.006239   \n        2       -0.016908 -0.059616  0.068332 -0.005037  0.058579  0.028647   \n        3        0.006795 -0.062853  0.095271 -0.013061  0.045989  0.018905   \n        4        0.004642 -0.034387  0.068987 -0.019026  0.049703  0.028918   \n3       0        0.004497 -0.054484  0.080282 -0.010816  0.041984 -0.003674   \n        1       -0.016442 -0.053763  0.066024  0.006371  0.038779 -0.014021   \n        2        0.005274 -0.063479  0.064268 -0.014379  0.054295  0.006526   \n        3        0.010989 -0.051245  0.069721 -0.025503  0.027750  0.007626   \n        4        0.013471 -0.038239  0.080908 -0.034516  0.023505  0.030884   \n4       0       -0.015047 -0.048200  0.046708 -0.022529 -0.004724  0.014103   \n        1       -0.029434 -0.081808  0.071092  0.004408 -0.012157 -0.004884   \n        2       -0.024082 -0.063508  0.065739 -0.026851 -0.000722 -0.009881   \n        3        0.002613 -0.048608  0.058455 -0.023943 -0.006168  0.005962   \n        4        0.015276 -0.024208  0.069542 -0.026895  0.005439 -0.000539   \n\n                     mret  \nsinsort dousort            \n0       0        0.093597  \n        1        0.048981  \n        2        0.055516  \n        3        0.089341  \n        4        0.142604  \n1       0        0.037750  \n        1        0.025343  \n        2        0.022497  \n        3        0.027843  \n        4        0.041182  \n2       0        0.020474  \n        1        0.011478  \n        2        0.016562  \n        3        0.016508  \n        4        0.019622  \n3       0        0.011234  \n        1        0.005737  \n        2        0.012572  \n        3        0.008323  \n        4        0.011983  \n4       0       -0.005371  \n        1       -0.005872  \n        2       -0.001578  \n        3       -0.001270  \n        4        0.008622  ",
      "text/html": "<div>\n<style scoped>\n    .dataframe tbody tr th:only-of-type {\n        vertical-align: middle;\n    }\n\n    .dataframe tbody tr th {\n        vertical-align: top;\n    }\n\n    .dataframe thead th {\n        text-align: right;\n    }\n</style>\n<table border=\"1\" class=\"dataframe\">\n  <thead>\n    <tr style=\"text-align: right;\">\n      <th></th>\n      <th></th>\n      <th>ret7</th>\n      <th>ret8</th>\n      <th>ret9</th>\n      <th>ret10</th>\n      <th>ret11</th>\n      <th>ret12</th>\n      <th>retn1</th>\n      <th>retn2</th>\n      <th>retn3</th>\n      <th>retn4</th>\n      <th>retn5</th>\n      <th>retn6</th>\n      <th>mret</th>\n    </tr>\n    <tr>\n      <th>sinsort</th>\n      <th>dousort</th>\n      <th></th>\n      <th></th>\n      <th></th>\n      <th></th>\n      <th></th>\n      <th></th>\n      <th></th>\n      <th></th>\n      <th></th>\n      <th></th>\n      <th></th>\n      <th></th>\n      <th></th>\n    </tr>\n  </thead>\n  <tbody>\n    <tr>\n      <th rowspan=\"5\" valign=\"top\">0</th>\n      <th>0</th>\n      <td>0.151432</td>\n      <td>0.133645</td>\n      <td>0.009450</td>\n      <td>0.061500</td>\n      <td>0.070413</td>\n      <td>0.082708</td>\n      <td>-0.044237</td>\n      <td>-0.067926</td>\n      <td>0.427571</td>\n      <td>0.114558</td>\n      <td>0.205778</td>\n      <td>-0.021728</td>\n      <td>0.093597</td>\n    </tr>\n    <tr>\n      <th>1</th>\n      <td>0.067492</td>\n      <td>0.045516</td>\n      <td>-0.040279</td>\n      <td>0.070713</td>\n      <td>0.063850</td>\n      <td>0.044595</td>\n      <td>-0.044616</td>\n      <td>-0.054645</td>\n      <td>0.240392</td>\n      <td>0.076316</td>\n      <td>0.153997</td>\n      <td>-0.035558</td>\n      <td>0.048981</td>\n    </tr>\n    <tr>\n      <th>2</th>\n      <td>0.029908</td>\n      <td>0.026773</td>\n      <td>-0.023862</td>\n      <td>0.077095</td>\n      <td>0.062868</td>\n      <td>0.075029</td>\n      <td>-0.038147</td>\n      <td>-0.043892</td>\n      <td>0.315939</td>\n      <td>0.064513</td>\n      <td>0.141132</td>\n      <td>-0.021161</td>\n      <td>0.055516</td>\n    </tr>\n    <tr>\n      <th>3</th>\n      <td>0.058742</td>\n      <td>0.033461</td>\n      <td>-0.028766</td>\n      <td>0.074634</td>\n      <td>0.069924</td>\n      <td>0.127318</td>\n      <td>-0.032697</td>\n      <td>-0.012624</td>\n      <td>0.551766</td>\n      <td>0.075342</td>\n      <td>0.196279</td>\n      <td>-0.041282</td>\n      <td>0.089341</td>\n    </tr>\n    <tr>\n      <th>4</th>\n      <td>0.044184</td>\n      <td>0.020995</td>\n      <td>-0.077255</td>\n      <td>0.084105</td>\n      <td>0.064945</td>\n      <td>0.172776</td>\n      <td>-0.010937</td>\n      <td>0.045863</td>\n      <td>1.081932</td>\n      <td>0.138605</td>\n      <td>0.244211</td>\n      <td>-0.098176</td>\n      <td>0.142604</td>\n    </tr>\n    <tr>\n      <th rowspan=\"5\" valign=\"top\">1</th>\n      <th>0</th>\n      <td>0.139982</td>\n      <td>0.052213</td>\n      <td>-0.037438</td>\n      <td>0.066354</td>\n      <td>0.051376</td>\n      <td>-0.022311</td>\n      <td>-0.012237</td>\n      <td>-0.100247</td>\n      <td>0.182011</td>\n      <td>0.027332</td>\n      <td>0.117717</td>\n      <td>-0.011750</td>\n      <td>0.037750</td>\n    </tr>\n    <tr>\n      <th>1</th>\n      <td>0.052395</td>\n      <td>0.032505</td>\n      <td>-0.016979</td>\n      <td>0.044368</td>\n      <td>0.078127</td>\n      <td>-0.007886</td>\n      <td>-0.026987</td>\n      <td>-0.065621</td>\n      <td>0.101492</td>\n      <td>0.022968</td>\n      <td>0.079986</td>\n      <td>0.009749</td>\n      <td>0.025343</td>\n    </tr>\n    <tr>\n      <th>2</th>\n      <td>0.047634</td>\n      <td>0.017376</td>\n      <td>-0.034524</td>\n      <td>0.058347</td>\n      <td>0.049937</td>\n      <td>0.020853</td>\n      <td>0.000324</td>\n      <td>-0.074274</td>\n      <td>0.079034</td>\n      <td>0.015847</td>\n      <td>0.071192</td>\n      <td>0.018216</td>\n      <td>0.022497</td>\n    </tr>\n    <tr>\n      <th>3</th>\n      <td>0.041529</td>\n      <td>0.012916</td>\n      <td>-0.026413</td>\n      <td>0.048668</td>\n      <td>0.093179</td>\n      <td>0.020676</td>\n      <td>-0.007818</td>\n      <td>-0.049808</td>\n      <td>0.105650</td>\n      <td>0.010700</td>\n      <td>0.073211</td>\n      <td>0.011624</td>\n      <td>0.027843</td>\n    </tr>\n    <tr>\n      <th>4</th>\n      <td>0.051768</td>\n      <td>-0.014042</td>\n      <td>-0.051671</td>\n      <td>0.058637</td>\n      <td>0.063911</td>\n      <td>0.029542</td>\n      <td>-0.000474</td>\n      <td>-0.036134</td>\n      <td>0.284471</td>\n      <td>0.013747</td>\n      <td>0.106308</td>\n      <td>-0.011876</td>\n      <td>0.041182</td>\n    </tr>\n    <tr>\n      <th rowspan=\"5\" valign=\"top\">2</th>\n      <th>0</th>\n      <td>0.032176</td>\n      <td>0.068400</td>\n      <td>-0.013695</td>\n      <td>0.051521</td>\n      <td>0.064137</td>\n      <td>-0.012266</td>\n      <td>-0.027361</td>\n      <td>-0.089711</td>\n      <td>0.100082</td>\n      <td>0.021726</td>\n      <td>0.059781</td>\n      <td>-0.009105</td>\n      <td>0.020474</td>\n    </tr>\n    <tr>\n      <th>1</th>\n      <td>0.031382</td>\n      <td>-0.005650</td>\n      <td>-0.040224</td>\n      <td>0.022126</td>\n      <td>0.077345</td>\n      <td>-0.017071</td>\n      <td>-0.000982</td>\n      <td>-0.081176</td>\n      <td>0.081416</td>\n      <td>-0.006308</td>\n      <td>0.070637</td>\n      <td>0.006239</td>\n      <td>0.011478</td>\n    </tr>\n    <tr>\n      <th>2</th>\n      <td>0.042134</td>\n      <td>0.005171</td>\n      <td>-0.035189</td>\n      <td>0.038395</td>\n      <td>0.057742</td>\n      <td>0.016495</td>\n      <td>-0.016908</td>\n      <td>-0.059616</td>\n      <td>0.068332</td>\n      <td>-0.005037</td>\n      <td>0.058579</td>\n      <td>0.028647</td>\n      <td>0.016562</td>\n    </tr>\n    <tr>\n      <th>3</th>\n      <td>0.040089</td>\n      <td>-0.000326</td>\n      <td>-0.042395</td>\n      <td>0.032884</td>\n      <td>0.063253</td>\n      <td>0.013545</td>\n      <td>0.006795</td>\n      <td>-0.062853</td>\n      <td>0.095271</td>\n      <td>-0.013061</td>\n      <td>0.045989</td>\n      <td>0.018905</td>\n      <td>0.016508</td>\n    </tr>\n    <tr>\n      <th>4</th>\n      <td>0.086755</td>\n      <td>-0.036142</td>\n      <td>-0.047718</td>\n      <td>0.040624</td>\n      <td>0.067139</td>\n      <td>0.025971</td>\n      <td>0.004642</td>\n      <td>-0.034387</td>\n      <td>0.068987</td>\n      <td>-0.019026</td>\n      <td>0.049703</td>\n      <td>0.028918</td>\n      <td>0.019622</td>\n    </tr>\n    <tr>\n      <th rowspan=\"5\" valign=\"top\">3</th>\n      <th>0</th>\n      <td>0.049642</td>\n      <td>-0.009334</td>\n      <td>-0.058713</td>\n      <td>0.040889</td>\n      <td>0.066166</td>\n      <td>-0.011626</td>\n      <td>0.004497</td>\n      <td>-0.054484</td>\n      <td>0.080282</td>\n      <td>-0.010816</td>\n      <td>0.041984</td>\n      <td>-0.003674</td>\n      <td>0.011234</td>\n    </tr>\n    <tr>\n      <th>1</th>\n      <td>0.023366</td>\n      <td>-0.014982</td>\n      <td>-0.042455</td>\n      <td>0.008218</td>\n      <td>0.059326</td>\n      <td>0.008421</td>\n      <td>-0.016442</td>\n      <td>-0.053763</td>\n      <td>0.066024</td>\n      <td>0.006371</td>\n      <td>0.038779</td>\n      <td>-0.014021</td>\n      <td>0.005737</td>\n    </tr>\n    <tr>\n      <th>2</th>\n      <td>0.041445</td>\n      <td>-0.008721</td>\n      <td>-0.045053</td>\n      <td>0.048074</td>\n      <td>0.058126</td>\n      <td>0.004484</td>\n      <td>0.005274</td>\n      <td>-0.063479</td>\n      <td>0.064268</td>\n      <td>-0.014379</td>\n      <td>0.054295</td>\n      <td>0.006526</td>\n      <td>0.012572</td>\n    </tr>\n    <tr>\n      <th>3</th>\n      <td>0.033587</td>\n      <td>-0.018963</td>\n      <td>-0.069684</td>\n      <td>0.036171</td>\n      <td>0.066550</td>\n      <td>0.012876</td>\n      <td>0.010989</td>\n      <td>-0.051245</td>\n      <td>0.069721</td>\n      <td>-0.025503</td>\n      <td>0.027750</td>\n      <td>0.007626</td>\n      <td>0.008323</td>\n    </tr>\n    <tr>\n      <th>4</th>\n      <td>0.052789</td>\n      <td>-0.031113</td>\n      <td>-0.067166</td>\n      <td>0.018845</td>\n      <td>0.071355</td>\n      <td>0.023074</td>\n      <td>0.013471</td>\n      <td>-0.038239</td>\n      <td>0.080908</td>\n      <td>-0.034516</td>\n      <td>0.023505</td>\n      <td>0.030884</td>\n      <td>0.011983</td>\n    </tr>\n    <tr>\n      <th rowspan=\"5\" valign=\"top\">4</th>\n      <th>0</th>\n      <td>0.019876</td>\n      <td>-0.022721</td>\n      <td>-0.040434</td>\n      <td>0.009903</td>\n      <td>0.035026</td>\n      <td>-0.036408</td>\n      <td>-0.015047</td>\n      <td>-0.048200</td>\n      <td>0.046708</td>\n      <td>-0.022529</td>\n      <td>-0.004724</td>\n      <td>0.014103</td>\n      <td>-0.005371</td>\n    </tr>\n    <tr>\n      <th>1</th>\n      <td>0.023032</td>\n      <td>-0.045750</td>\n      <td>-0.045716</td>\n      <td>-0.002313</td>\n      <td>0.057205</td>\n      <td>-0.004137</td>\n      <td>-0.029434</td>\n      <td>-0.081808</td>\n      <td>0.071092</td>\n      <td>0.004408</td>\n      <td>-0.012157</td>\n      <td>-0.004884</td>\n      <td>-0.005872</td>\n    </tr>\n    <tr>\n      <th>2</th>\n      <td>0.038424</td>\n      <td>0.008182</td>\n      <td>-0.032032</td>\n      <td>0.001118</td>\n      <td>0.043308</td>\n      <td>-0.018629</td>\n      <td>-0.024082</td>\n      <td>-0.063508</td>\n      <td>0.065739</td>\n      <td>-0.026851</td>\n      <td>-0.000722</td>\n      <td>-0.009881</td>\n      <td>-0.001578</td>\n    </tr>\n    <tr>\n      <th>3</th>\n      <td>0.035005</td>\n      <td>-0.024808</td>\n      <td>-0.057897</td>\n      <td>0.007382</td>\n      <td>0.040566</td>\n      <td>-0.003797</td>\n      <td>0.002613</td>\n      <td>-0.048608</td>\n      <td>0.058455</td>\n      <td>-0.023943</td>\n      <td>-0.006168</td>\n      <td>0.005962</td>\n      <td>-0.001270</td>\n    </tr>\n    <tr>\n      <th>4</th>\n      <td>0.078050</td>\n      <td>-0.019332</td>\n      <td>-0.082408</td>\n      <td>0.015800</td>\n      <td>0.071679</td>\n      <td>0.001063</td>\n      <td>0.015276</td>\n      <td>-0.024208</td>\n      <td>0.069542</td>\n      <td>-0.026895</td>\n      <td>0.005439</td>\n      <td>-0.000539</td>\n      <td>0.008622</td>\n    </tr>\n  </tbody>\n</table>\n</div>"
     },
     "execution_count": 66,
     "metadata": {},
     "output_type": "execute_result"
    }
   ],
   "source": [
    "sp.sequence_sort_mreturn()"
   ],
   "metadata": {
    "collapsed": false
   }
  },
  {
   "cell_type": "code",
   "execution_count": 68,
   "outputs": [
    {
     "name": "stderr",
     "output_type": "stream",
     "text": [
      "E:\\Python37\\lib\\site-packages\\ipykernel_launcher.py:17: FutureWarning: Passing 'suffixes' which cause duplicate columns {'monret_x'} in the result is deprecated and will raise a MergeError in a future version.\n",
      "  app.launch_new_instance()\n"
     ]
    },
    {
     "data": {
      "text/plain": "                   200006    200106    200206    200306    200406    200506  \\\nsinsort dousort                                                               \n0       0        0.093597 -0.021995 -0.026883 -0.023502 -0.037301  0.046782   \n        1        0.048981 -0.023297 -0.023558 -0.019235 -0.031713  0.042067   \n        2        0.055516 -0.023141 -0.025105 -0.020707 -0.033495  0.043425   \n        3        0.089341 -0.019015 -0.022886 -0.016855 -0.029608  0.038498   \n        4        0.142604 -0.022905 -0.019197 -0.011121 -0.022004  0.034566   \n1       0        0.037750 -0.021207 -0.025861 -0.022200 -0.045921  0.043654   \n        1        0.025343 -0.019438 -0.027229 -0.017842 -0.031102  0.039372   \n        2        0.022497 -0.017301 -0.024836 -0.018014 -0.037441  0.039598   \n        3        0.027843 -0.019848 -0.022047 -0.012902 -0.026114  0.038767   \n        4        0.041182 -0.017743 -0.017486 -0.006732 -0.016443  0.045876   \n2       0        0.020474 -0.020476 -0.026063 -0.023374 -0.042902  0.036110   \n        1        0.011478 -0.022425 -0.021050 -0.018822 -0.028126  0.042113   \n        2        0.016562 -0.023573 -0.020560 -0.018332 -0.027272  0.035675   \n        3        0.016508 -0.018726 -0.017442 -0.009355 -0.020101  0.050329   \n        4        0.019622 -0.018544 -0.013345 -0.001332 -0.015303  0.040701   \n3       0        0.011234 -0.015985 -0.028253 -0.017372 -0.028746  0.033861   \n        1        0.005737 -0.022469 -0.019021 -0.014911 -0.031290  0.044497   \n        2        0.012572 -0.017929 -0.020070 -0.011735 -0.032414  0.048638   \n        3        0.008323 -0.018186 -0.020186 -0.005392 -0.018992  0.040353   \n        4        0.011983 -0.014322 -0.006049 -0.000020 -0.018392  0.033529   \n4       0       -0.005371 -0.019442 -0.018912 -0.024081 -0.028089  0.037185   \n        1       -0.005872 -0.018993 -0.022213 -0.010271 -0.020710  0.042642   \n        2       -0.001578 -0.012820 -0.014503 -0.007793 -0.016512  0.036348   \n        3       -0.001270 -0.011244 -0.008988 -0.000310 -0.009637  0.034580   \n        4        0.008622 -0.009237 -0.004910  0.006356 -0.009874  0.027724   \n\n                   200606    200706    200806    200906  ...    201106  \\\nsinsort dousort                                          ...             \n0       0        0.109080 -0.001380  0.055228  0.015534  ... -0.007321   \n        1        0.111025 -0.004689  0.046802  0.022339  ... -0.009218   \n        2        0.097414  0.000050  0.050527  0.024425  ... -0.008531   \n        3        0.074116  0.003206  0.052264  0.023590  ... -0.010284   \n        4        0.094213 -0.002541  0.027980  0.018361  ... -0.010843   \n1       0        0.089824 -0.002921  0.047789  0.004571  ... -0.021244   \n        1        0.091156 -0.005369  0.045643  0.017066  ... -0.018245   \n        2        0.075056 -0.001729  0.046631  0.018329  ... -0.011660   \n        3        0.079919 -0.001796  0.049728  0.028495  ... -0.009038   \n        4        0.073499  0.003251  0.045131  0.017298  ... -0.013687   \n2       0        0.090917 -0.008944  0.045795  0.008929  ... -0.026264   \n        1        0.076479 -0.007201  0.039690  0.007526  ... -0.015175   \n        2        0.074638 -0.002289  0.037931  0.020604  ... -0.011911   \n        3        0.087001 -0.001589  0.042958  0.026219  ... -0.015023   \n        4        0.083209 -0.001780  0.045418  0.020147  ... -0.017455   \n3       0        0.080814 -0.018624  0.030866  0.004419  ... -0.025258   \n        1        0.082026 -0.022995  0.023195  0.011340  ... -0.017042   \n        2        0.066871 -0.010255  0.025126  0.008861  ... -0.016899   \n        3        0.079886 -0.004730  0.040476  0.018073  ... -0.015669   \n        4        0.086323 -0.004943  0.034018  0.010521  ... -0.019293   \n4       0        0.082050 -0.026597  0.023287 -0.003168  ... -0.022930   \n        1        0.082713 -0.012998  0.019979 -0.008540  ... -0.013615   \n        2        0.092741 -0.018992  0.028091 -0.003400  ... -0.016747   \n        3        0.092762 -0.007688  0.027638 -0.002109  ... -0.020722   \n        4        0.097038 -0.005838  0.030277 -0.006996  ... -0.015691   \n\n                   201206    201306    201406    201506    201606    201706  \\\nsinsort dousort                                                               \n0       0        0.010891  0.036775  0.113586  0.017423  0.006463 -0.030198   \n        1        0.009172  0.047927  0.106607  0.020378 -0.001408 -0.022253   \n        2        0.008561  0.056765  0.111732  0.025078 -0.001234 -0.015474   \n        3        0.005694  0.054561  0.107367  0.027272  0.001102 -0.021313   \n        4        0.008322  0.032417  0.089103  0.002821  0.003965 -0.014647   \n1       0        0.003572  0.027279  0.093833  0.006454 -0.001997 -0.032155   \n        1        0.007589  0.035100  0.098438  0.012684 -0.010841 -0.021364   \n        2        0.010642  0.041267  0.099608  0.011118 -0.008809 -0.027149   \n        3        0.003293  0.036716  0.090635  0.009738 -0.003796 -0.023231   \n        4        0.003750  0.033717  0.091796  0.003072  0.008736 -0.020418   \n2       0       -0.002330  0.021983  0.098084 -0.009467 -0.010930 -0.029837   \n        1        0.010125  0.032692  0.090901 -0.005144 -0.020027 -0.021314   \n        2        0.011379  0.032260  0.086088  0.001075 -0.011005 -0.018716   \n        3        0.002504  0.033928  0.089358 -0.002117 -0.003467 -0.025867   \n        4        0.000116  0.020262  0.086168 -0.007031  0.006039 -0.019023   \n3       0        0.000615  0.020126  0.087632 -0.015810 -0.016450 -0.026822   \n        1        0.004923  0.026736  0.083365 -0.010454 -0.023300 -0.017318   \n        2        0.005924  0.023576  0.074725 -0.009536 -0.014268 -0.018444   \n        3       -0.005721  0.022956  0.082773 -0.013498 -0.005488 -0.014846   \n        4       -0.001819  0.016038  0.086383 -0.011930  0.006112 -0.014682   \n4       0       -0.002051  0.012358  0.080821 -0.030371 -0.009400 -0.014001   \n        1        0.002058  0.013196  0.064010 -0.021488 -0.008390 -0.011615   \n        2       -0.007535  0.013181  0.067881 -0.018477  0.004493 -0.011855   \n        3       -0.012325  0.005212  0.077520 -0.021724  0.014148 -0.014493   \n        4       -0.010740  0.004661  0.082476 -0.022516  0.015251 -0.003408   \n\n                   201806    201906    202006  \nsinsort dousort                                \n0       0        0.020380  0.000430  0.042120  \n        1        0.015578  0.014785  0.019865  \n        2        0.012164  0.016280  0.018867  \n        3        0.010888  0.013034  0.013943  \n        4        0.009188 -0.001042  0.024060  \n1       0        0.010752  0.000111  0.025345  \n        1        0.005353  0.004959  0.008971  \n        2        0.009593  0.015867  0.016366  \n        3        0.007482  0.008727  0.018016  \n        4        0.009894  0.013024  0.015358  \n2       0       -0.000504  0.001706  0.014113  \n        1        0.002847  0.011204  0.004453  \n        2        0.002361  0.015967  0.010434  \n        3        0.003568  0.019744  0.017134  \n        4        0.003815  0.006889  0.019325  \n3       0        0.002152  0.003493  0.012674  \n        1       -0.001890  0.016999  0.005768  \n        2        0.003652  0.017540  0.013213  \n        3        0.001517  0.013102  0.018284  \n        4        0.003706  0.004469  0.020785  \n4       0        0.001937  0.020241  0.020146  \n        1        0.003490  0.028266  0.008926  \n        2       -0.001843  0.016943  0.007685  \n        3        0.004813  0.003660  0.018783  \n        4        0.006861 -0.006125  0.020109  \n\n[25 rows x 21 columns]",
      "text/html": "<div>\n<style scoped>\n    .dataframe tbody tr th:only-of-type {\n        vertical-align: middle;\n    }\n\n    .dataframe tbody tr th {\n        vertical-align: top;\n    }\n\n    .dataframe thead th {\n        text-align: right;\n    }\n</style>\n<table border=\"1\" class=\"dataframe\">\n  <thead>\n    <tr style=\"text-align: right;\">\n      <th></th>\n      <th></th>\n      <th>200006</th>\n      <th>200106</th>\n      <th>200206</th>\n      <th>200306</th>\n      <th>200406</th>\n      <th>200506</th>\n      <th>200606</th>\n      <th>200706</th>\n      <th>200806</th>\n      <th>200906</th>\n      <th>...</th>\n      <th>201106</th>\n      <th>201206</th>\n      <th>201306</th>\n      <th>201406</th>\n      <th>201506</th>\n      <th>201606</th>\n      <th>201706</th>\n      <th>201806</th>\n      <th>201906</th>\n      <th>202006</th>\n    </tr>\n    <tr>\n      <th>sinsort</th>\n      <th>dousort</th>\n      <th></th>\n      <th></th>\n      <th></th>\n      <th></th>\n      <th></th>\n      <th></th>\n      <th></th>\n      <th></th>\n      <th></th>\n      <th></th>\n      <th></th>\n      <th></th>\n      <th></th>\n      <th></th>\n      <th></th>\n      <th></th>\n      <th></th>\n      <th></th>\n      <th></th>\n      <th></th>\n      <th></th>\n    </tr>\n  </thead>\n  <tbody>\n    <tr>\n      <th rowspan=\"5\" valign=\"top\">0</th>\n      <th>0</th>\n      <td>0.093597</td>\n      <td>-0.021995</td>\n      <td>-0.026883</td>\n      <td>-0.023502</td>\n      <td>-0.037301</td>\n      <td>0.046782</td>\n      <td>0.109080</td>\n      <td>-0.001380</td>\n      <td>0.055228</td>\n      <td>0.015534</td>\n      <td>...</td>\n      <td>-0.007321</td>\n      <td>0.010891</td>\n      <td>0.036775</td>\n      <td>0.113586</td>\n      <td>0.017423</td>\n      <td>0.006463</td>\n      <td>-0.030198</td>\n      <td>0.020380</td>\n      <td>0.000430</td>\n      <td>0.042120</td>\n    </tr>\n    <tr>\n      <th>1</th>\n      <td>0.048981</td>\n      <td>-0.023297</td>\n      <td>-0.023558</td>\n      <td>-0.019235</td>\n      <td>-0.031713</td>\n      <td>0.042067</td>\n      <td>0.111025</td>\n      <td>-0.004689</td>\n      <td>0.046802</td>\n      <td>0.022339</td>\n      <td>...</td>\n      <td>-0.009218</td>\n      <td>0.009172</td>\n      <td>0.047927</td>\n      <td>0.106607</td>\n      <td>0.020378</td>\n      <td>-0.001408</td>\n      <td>-0.022253</td>\n      <td>0.015578</td>\n      <td>0.014785</td>\n      <td>0.019865</td>\n    </tr>\n    <tr>\n      <th>2</th>\n      <td>0.055516</td>\n      <td>-0.023141</td>\n      <td>-0.025105</td>\n      <td>-0.020707</td>\n      <td>-0.033495</td>\n      <td>0.043425</td>\n      <td>0.097414</td>\n      <td>0.000050</td>\n      <td>0.050527</td>\n      <td>0.024425</td>\n      <td>...</td>\n      <td>-0.008531</td>\n      <td>0.008561</td>\n      <td>0.056765</td>\n      <td>0.111732</td>\n      <td>0.025078</td>\n      <td>-0.001234</td>\n      <td>-0.015474</td>\n      <td>0.012164</td>\n      <td>0.016280</td>\n      <td>0.018867</td>\n    </tr>\n    <tr>\n      <th>3</th>\n      <td>0.089341</td>\n      <td>-0.019015</td>\n      <td>-0.022886</td>\n      <td>-0.016855</td>\n      <td>-0.029608</td>\n      <td>0.038498</td>\n      <td>0.074116</td>\n      <td>0.003206</td>\n      <td>0.052264</td>\n      <td>0.023590</td>\n      <td>...</td>\n      <td>-0.010284</td>\n      <td>0.005694</td>\n      <td>0.054561</td>\n      <td>0.107367</td>\n      <td>0.027272</td>\n      <td>0.001102</td>\n      <td>-0.021313</td>\n      <td>0.010888</td>\n      <td>0.013034</td>\n      <td>0.013943</td>\n    </tr>\n    <tr>\n      <th>4</th>\n      <td>0.142604</td>\n      <td>-0.022905</td>\n      <td>-0.019197</td>\n      <td>-0.011121</td>\n      <td>-0.022004</td>\n      <td>0.034566</td>\n      <td>0.094213</td>\n      <td>-0.002541</td>\n      <td>0.027980</td>\n      <td>0.018361</td>\n      <td>...</td>\n      <td>-0.010843</td>\n      <td>0.008322</td>\n      <td>0.032417</td>\n      <td>0.089103</td>\n      <td>0.002821</td>\n      <td>0.003965</td>\n      <td>-0.014647</td>\n      <td>0.009188</td>\n      <td>-0.001042</td>\n      <td>0.024060</td>\n    </tr>\n    <tr>\n      <th rowspan=\"5\" valign=\"top\">1</th>\n      <th>0</th>\n      <td>0.037750</td>\n      <td>-0.021207</td>\n      <td>-0.025861</td>\n      <td>-0.022200</td>\n      <td>-0.045921</td>\n      <td>0.043654</td>\n      <td>0.089824</td>\n      <td>-0.002921</td>\n      <td>0.047789</td>\n      <td>0.004571</td>\n      <td>...</td>\n      <td>-0.021244</td>\n      <td>0.003572</td>\n      <td>0.027279</td>\n      <td>0.093833</td>\n      <td>0.006454</td>\n      <td>-0.001997</td>\n      <td>-0.032155</td>\n      <td>0.010752</td>\n      <td>0.000111</td>\n      <td>0.025345</td>\n    </tr>\n    <tr>\n      <th>1</th>\n      <td>0.025343</td>\n      <td>-0.019438</td>\n      <td>-0.027229</td>\n      <td>-0.017842</td>\n      <td>-0.031102</td>\n      <td>0.039372</td>\n      <td>0.091156</td>\n      <td>-0.005369</td>\n      <td>0.045643</td>\n      <td>0.017066</td>\n      <td>...</td>\n      <td>-0.018245</td>\n      <td>0.007589</td>\n      <td>0.035100</td>\n      <td>0.098438</td>\n      <td>0.012684</td>\n      <td>-0.010841</td>\n      <td>-0.021364</td>\n      <td>0.005353</td>\n      <td>0.004959</td>\n      <td>0.008971</td>\n    </tr>\n    <tr>\n      <th>2</th>\n      <td>0.022497</td>\n      <td>-0.017301</td>\n      <td>-0.024836</td>\n      <td>-0.018014</td>\n      <td>-0.037441</td>\n      <td>0.039598</td>\n      <td>0.075056</td>\n      <td>-0.001729</td>\n      <td>0.046631</td>\n      <td>0.018329</td>\n      <td>...</td>\n      <td>-0.011660</td>\n      <td>0.010642</td>\n      <td>0.041267</td>\n      <td>0.099608</td>\n      <td>0.011118</td>\n      <td>-0.008809</td>\n      <td>-0.027149</td>\n      <td>0.009593</td>\n      <td>0.015867</td>\n      <td>0.016366</td>\n    </tr>\n    <tr>\n      <th>3</th>\n      <td>0.027843</td>\n      <td>-0.019848</td>\n      <td>-0.022047</td>\n      <td>-0.012902</td>\n      <td>-0.026114</td>\n      <td>0.038767</td>\n      <td>0.079919</td>\n      <td>-0.001796</td>\n      <td>0.049728</td>\n      <td>0.028495</td>\n      <td>...</td>\n      <td>-0.009038</td>\n      <td>0.003293</td>\n      <td>0.036716</td>\n      <td>0.090635</td>\n      <td>0.009738</td>\n      <td>-0.003796</td>\n      <td>-0.023231</td>\n      <td>0.007482</td>\n      <td>0.008727</td>\n      <td>0.018016</td>\n    </tr>\n    <tr>\n      <th>4</th>\n      <td>0.041182</td>\n      <td>-0.017743</td>\n      <td>-0.017486</td>\n      <td>-0.006732</td>\n      <td>-0.016443</td>\n      <td>0.045876</td>\n      <td>0.073499</td>\n      <td>0.003251</td>\n      <td>0.045131</td>\n      <td>0.017298</td>\n      <td>...</td>\n      <td>-0.013687</td>\n      <td>0.003750</td>\n      <td>0.033717</td>\n      <td>0.091796</td>\n      <td>0.003072</td>\n      <td>0.008736</td>\n      <td>-0.020418</td>\n      <td>0.009894</td>\n      <td>0.013024</td>\n      <td>0.015358</td>\n    </tr>\n    <tr>\n      <th rowspan=\"5\" valign=\"top\">2</th>\n      <th>0</th>\n      <td>0.020474</td>\n      <td>-0.020476</td>\n      <td>-0.026063</td>\n      <td>-0.023374</td>\n      <td>-0.042902</td>\n      <td>0.036110</td>\n      <td>0.090917</td>\n      <td>-0.008944</td>\n      <td>0.045795</td>\n      <td>0.008929</td>\n      <td>...</td>\n      <td>-0.026264</td>\n      <td>-0.002330</td>\n      <td>0.021983</td>\n      <td>0.098084</td>\n      <td>-0.009467</td>\n      <td>-0.010930</td>\n      <td>-0.029837</td>\n      <td>-0.000504</td>\n      <td>0.001706</td>\n      <td>0.014113</td>\n    </tr>\n    <tr>\n      <th>1</th>\n      <td>0.011478</td>\n      <td>-0.022425</td>\n      <td>-0.021050</td>\n      <td>-0.018822</td>\n      <td>-0.028126</td>\n      <td>0.042113</td>\n      <td>0.076479</td>\n      <td>-0.007201</td>\n      <td>0.039690</td>\n      <td>0.007526</td>\n      <td>...</td>\n      <td>-0.015175</td>\n      <td>0.010125</td>\n      <td>0.032692</td>\n      <td>0.090901</td>\n      <td>-0.005144</td>\n      <td>-0.020027</td>\n      <td>-0.021314</td>\n      <td>0.002847</td>\n      <td>0.011204</td>\n      <td>0.004453</td>\n    </tr>\n    <tr>\n      <th>2</th>\n      <td>0.016562</td>\n      <td>-0.023573</td>\n      <td>-0.020560</td>\n      <td>-0.018332</td>\n      <td>-0.027272</td>\n      <td>0.035675</td>\n      <td>0.074638</td>\n      <td>-0.002289</td>\n      <td>0.037931</td>\n      <td>0.020604</td>\n      <td>...</td>\n      <td>-0.011911</td>\n      <td>0.011379</td>\n      <td>0.032260</td>\n      <td>0.086088</td>\n      <td>0.001075</td>\n      <td>-0.011005</td>\n      <td>-0.018716</td>\n      <td>0.002361</td>\n      <td>0.015967</td>\n      <td>0.010434</td>\n    </tr>\n    <tr>\n      <th>3</th>\n      <td>0.016508</td>\n      <td>-0.018726</td>\n      <td>-0.017442</td>\n      <td>-0.009355</td>\n      <td>-0.020101</td>\n      <td>0.050329</td>\n      <td>0.087001</td>\n      <td>-0.001589</td>\n      <td>0.042958</td>\n      <td>0.026219</td>\n      <td>...</td>\n      <td>-0.015023</td>\n      <td>0.002504</td>\n      <td>0.033928</td>\n      <td>0.089358</td>\n      <td>-0.002117</td>\n      <td>-0.003467</td>\n      <td>-0.025867</td>\n      <td>0.003568</td>\n      <td>0.019744</td>\n      <td>0.017134</td>\n    </tr>\n    <tr>\n      <th>4</th>\n      <td>0.019622</td>\n      <td>-0.018544</td>\n      <td>-0.013345</td>\n      <td>-0.001332</td>\n      <td>-0.015303</td>\n      <td>0.040701</td>\n      <td>0.083209</td>\n      <td>-0.001780</td>\n      <td>0.045418</td>\n      <td>0.020147</td>\n      <td>...</td>\n      <td>-0.017455</td>\n      <td>0.000116</td>\n      <td>0.020262</td>\n      <td>0.086168</td>\n      <td>-0.007031</td>\n      <td>0.006039</td>\n      <td>-0.019023</td>\n      <td>0.003815</td>\n      <td>0.006889</td>\n      <td>0.019325</td>\n    </tr>\n    <tr>\n      <th rowspan=\"5\" valign=\"top\">3</th>\n      <th>0</th>\n      <td>0.011234</td>\n      <td>-0.015985</td>\n      <td>-0.028253</td>\n      <td>-0.017372</td>\n      <td>-0.028746</td>\n      <td>0.033861</td>\n      <td>0.080814</td>\n      <td>-0.018624</td>\n      <td>0.030866</td>\n      <td>0.004419</td>\n      <td>...</td>\n      <td>-0.025258</td>\n      <td>0.000615</td>\n      <td>0.020126</td>\n      <td>0.087632</td>\n      <td>-0.015810</td>\n      <td>-0.016450</td>\n      <td>-0.026822</td>\n      <td>0.002152</td>\n      <td>0.003493</td>\n      <td>0.012674</td>\n    </tr>\n    <tr>\n      <th>1</th>\n      <td>0.005737</td>\n      <td>-0.022469</td>\n      <td>-0.019021</td>\n      <td>-0.014911</td>\n      <td>-0.031290</td>\n      <td>0.044497</td>\n      <td>0.082026</td>\n      <td>-0.022995</td>\n      <td>0.023195</td>\n      <td>0.011340</td>\n      <td>...</td>\n      <td>-0.017042</td>\n      <td>0.004923</td>\n      <td>0.026736</td>\n      <td>0.083365</td>\n      <td>-0.010454</td>\n      <td>-0.023300</td>\n      <td>-0.017318</td>\n      <td>-0.001890</td>\n      <td>0.016999</td>\n      <td>0.005768</td>\n    </tr>\n    <tr>\n      <th>2</th>\n      <td>0.012572</td>\n      <td>-0.017929</td>\n      <td>-0.020070</td>\n      <td>-0.011735</td>\n      <td>-0.032414</td>\n      <td>0.048638</td>\n      <td>0.066871</td>\n      <td>-0.010255</td>\n      <td>0.025126</td>\n      <td>0.008861</td>\n      <td>...</td>\n      <td>-0.016899</td>\n      <td>0.005924</td>\n      <td>0.023576</td>\n      <td>0.074725</td>\n      <td>-0.009536</td>\n      <td>-0.014268</td>\n      <td>-0.018444</td>\n      <td>0.003652</td>\n      <td>0.017540</td>\n      <td>0.013213</td>\n    </tr>\n    <tr>\n      <th>3</th>\n      <td>0.008323</td>\n      <td>-0.018186</td>\n      <td>-0.020186</td>\n      <td>-0.005392</td>\n      <td>-0.018992</td>\n      <td>0.040353</td>\n      <td>0.079886</td>\n      <td>-0.004730</td>\n      <td>0.040476</td>\n      <td>0.018073</td>\n      <td>...</td>\n      <td>-0.015669</td>\n      <td>-0.005721</td>\n      <td>0.022956</td>\n      <td>0.082773</td>\n      <td>-0.013498</td>\n      <td>-0.005488</td>\n      <td>-0.014846</td>\n      <td>0.001517</td>\n      <td>0.013102</td>\n      <td>0.018284</td>\n    </tr>\n    <tr>\n      <th>4</th>\n      <td>0.011983</td>\n      <td>-0.014322</td>\n      <td>-0.006049</td>\n      <td>-0.000020</td>\n      <td>-0.018392</td>\n      <td>0.033529</td>\n      <td>0.086323</td>\n      <td>-0.004943</td>\n      <td>0.034018</td>\n      <td>0.010521</td>\n      <td>...</td>\n      <td>-0.019293</td>\n      <td>-0.001819</td>\n      <td>0.016038</td>\n      <td>0.086383</td>\n      <td>-0.011930</td>\n      <td>0.006112</td>\n      <td>-0.014682</td>\n      <td>0.003706</td>\n      <td>0.004469</td>\n      <td>0.020785</td>\n    </tr>\n    <tr>\n      <th rowspan=\"5\" valign=\"top\">4</th>\n      <th>0</th>\n      <td>-0.005371</td>\n      <td>-0.019442</td>\n      <td>-0.018912</td>\n      <td>-0.024081</td>\n      <td>-0.028089</td>\n      <td>0.037185</td>\n      <td>0.082050</td>\n      <td>-0.026597</td>\n      <td>0.023287</td>\n      <td>-0.003168</td>\n      <td>...</td>\n      <td>-0.022930</td>\n      <td>-0.002051</td>\n      <td>0.012358</td>\n      <td>0.080821</td>\n      <td>-0.030371</td>\n      <td>-0.009400</td>\n      <td>-0.014001</td>\n      <td>0.001937</td>\n      <td>0.020241</td>\n      <td>0.020146</td>\n    </tr>\n    <tr>\n      <th>1</th>\n      <td>-0.005872</td>\n      <td>-0.018993</td>\n      <td>-0.022213</td>\n      <td>-0.010271</td>\n      <td>-0.020710</td>\n      <td>0.042642</td>\n      <td>0.082713</td>\n      <td>-0.012998</td>\n      <td>0.019979</td>\n      <td>-0.008540</td>\n      <td>...</td>\n      <td>-0.013615</td>\n      <td>0.002058</td>\n      <td>0.013196</td>\n      <td>0.064010</td>\n      <td>-0.021488</td>\n      <td>-0.008390</td>\n      <td>-0.011615</td>\n      <td>0.003490</td>\n      <td>0.028266</td>\n      <td>0.008926</td>\n    </tr>\n    <tr>\n      <th>2</th>\n      <td>-0.001578</td>\n      <td>-0.012820</td>\n      <td>-0.014503</td>\n      <td>-0.007793</td>\n      <td>-0.016512</td>\n      <td>0.036348</td>\n      <td>0.092741</td>\n      <td>-0.018992</td>\n      <td>0.028091</td>\n      <td>-0.003400</td>\n      <td>...</td>\n      <td>-0.016747</td>\n      <td>-0.007535</td>\n      <td>0.013181</td>\n      <td>0.067881</td>\n      <td>-0.018477</td>\n      <td>0.004493</td>\n      <td>-0.011855</td>\n      <td>-0.001843</td>\n      <td>0.016943</td>\n      <td>0.007685</td>\n    </tr>\n    <tr>\n      <th>3</th>\n      <td>-0.001270</td>\n      <td>-0.011244</td>\n      <td>-0.008988</td>\n      <td>-0.000310</td>\n      <td>-0.009637</td>\n      <td>0.034580</td>\n      <td>0.092762</td>\n      <td>-0.007688</td>\n      <td>0.027638</td>\n      <td>-0.002109</td>\n      <td>...</td>\n      <td>-0.020722</td>\n      <td>-0.012325</td>\n      <td>0.005212</td>\n      <td>0.077520</td>\n      <td>-0.021724</td>\n      <td>0.014148</td>\n      <td>-0.014493</td>\n      <td>0.004813</td>\n      <td>0.003660</td>\n      <td>0.018783</td>\n    </tr>\n    <tr>\n      <th>4</th>\n      <td>0.008622</td>\n      <td>-0.009237</td>\n      <td>-0.004910</td>\n      <td>0.006356</td>\n      <td>-0.009874</td>\n      <td>0.027724</td>\n      <td>0.097038</td>\n      <td>-0.005838</td>\n      <td>0.030277</td>\n      <td>-0.006996</td>\n      <td>...</td>\n      <td>-0.015691</td>\n      <td>-0.010740</td>\n      <td>0.004661</td>\n      <td>0.082476</td>\n      <td>-0.022516</td>\n      <td>0.015251</td>\n      <td>-0.003408</td>\n      <td>0.006861</td>\n      <td>-0.006125</td>\n      <td>0.020109</td>\n    </tr>\n  </tbody>\n</table>\n<p>25 rows × 21 columns</p>\n</div>"
     },
     "execution_count": 68,
     "metadata": {},
     "output_type": "execute_result"
    }
   ],
   "source": [
    "meanret = []\n",
    "lcname = []\n",
    "for i in range(5, 258, 12):\n",
    "    if len(uym[i:i+13]) == 13:\n",
    "        lcname.append(str(uym[i]))\n",
    "        sp = sort_portfolio(data, uym[i:i+13], 5)\n",
    "        spmreturn = sp.sequence_sort_mreturn()\n",
    "        if len(meanret) == 0:\n",
    "            meanret = spmreturn['mret']\n",
    "        else:\n",
    "            meanret = pd.concat([meanret, spmreturn['mret']], axis=1)\n",
    "meanret.columns = lcname\n",
    "meanret"
   ],
   "metadata": {
    "collapsed": false
   }
  },
  {
   "cell_type": "code",
   "execution_count": 69,
   "outputs": [
    {
     "data": {
      "text/plain": "array([[0.02168166, 0.01944209, 0.02049765, 0.02059922, 0.01964971],\n       [0.01182647, 0.01264529, 0.01344856, 0.01472884, 0.01635444],\n       [0.00771147, 0.00891601, 0.01123481, 0.01430282, 0.01360664],\n       [0.00567476, 0.00669084, 0.00797399, 0.01060283, 0.01184845],\n       [0.00431894, 0.00621612, 0.00723364, 0.00927496, 0.01075246]])"
     },
     "execution_count": 69,
     "metadata": {},
     "output_type": "execute_result"
    }
   ],
   "source": [
    "meanret['meanreturn'] = meanret.apply(lambda x: x.mean(), axis=1)\n",
    "a = meanret['meanreturn'].values.reshape((5,5))\n",
    "a"
   ],
   "metadata": {
    "collapsed": false
   }
  },
  {
   "cell_type": "code",
   "execution_count": 70,
   "outputs": [
    {
     "name": "stdout",
     "output_type": "stream",
     "text": [
      "                  EP1,        EP2,        EP3,        EP4,        EP5\n",
      "     SIZE1    0.02168,    0.01944,    0.02050,    0.02060,    0.01965\n",
      "     SIZE2    0.01183,    0.01265,    0.01345,    0.01473,    0.01635\n",
      "     SIZE3    0.00771,    0.00892,    0.01123,    0.01430,    0.01361\n",
      "     SIZE4    0.00567,    0.00669,    0.00797,    0.01060,    0.01185\n",
      "     SIZE5    0.00432,    0.00622,    0.00723,    0.00927,    0.01075\n"
     ]
    }
   ],
   "source": [
    "print('{:>10s} {:>10s}, {:>10s}, {:>10s}, {:>10s}, {:>10s}'.format('', 'EP1', 'EP2', 'EP3', 'EP4', 'EP5'))\n",
    "for i in range(5):\n",
    "    print('{:>10s} {:10.5f}, {:10.5f}, {:10.5f}, {:10.5f}, {:10.5f}'.format('SIZE'+str(i+1),\n",
    "                                                                            a[i, 0],\n",
    "                                                                            a[i, 1],\n",
    "                                                                            a[i, 2],\n",
    "                                                                            a[i, 3],\n",
    "                                                                            a[i, 4]))"
   ],
   "metadata": {
    "collapsed": false
   }
  },
  {
   "cell_type": "code",
   "execution_count": 12,
   "outputs": [
    {
     "data": {
      "text/plain": "      a  b\n0  <NA>  5\n1     2  6\n2     3  8",
      "text/html": "<div>\n<style scoped>\n    .dataframe tbody tr th:only-of-type {\n        vertical-align: middle;\n    }\n\n    .dataframe tbody tr th {\n        vertical-align: top;\n    }\n\n    .dataframe thead th {\n        text-align: right;\n    }\n</style>\n<table border=\"1\" class=\"dataframe\">\n  <thead>\n    <tr style=\"text-align: right;\">\n      <th></th>\n      <th>a</th>\n      <th>b</th>\n    </tr>\n  </thead>\n  <tbody>\n    <tr>\n      <th>0</th>\n      <td>&lt;NA&gt;</td>\n      <td>5</td>\n    </tr>\n    <tr>\n      <th>1</th>\n      <td>2</td>\n      <td>6</td>\n    </tr>\n    <tr>\n      <th>2</th>\n      <td>3</td>\n      <td>8</td>\n    </tr>\n  </tbody>\n</table>\n</div>"
     },
     "execution_count": 12,
     "metadata": {},
     "output_type": "execute_result"
    }
   ],
   "source": [
    "m=pd.DataFrame({'a':[pd.NA,2,3],'b':[5,6,8]})\n",
    "m"
   ],
   "metadata": {
    "collapsed": false
   }
  },
  {
   "cell_type": "code",
   "execution_count": 14,
   "outputs": [
    {
     "data": {
      "text/plain": "   a  b\n1  2  6\n2  3  8",
      "text/html": "<div>\n<style scoped>\n    .dataframe tbody tr th:only-of-type {\n        vertical-align: middle;\n    }\n\n    .dataframe tbody tr th {\n        vertical-align: top;\n    }\n\n    .dataframe thead th {\n        text-align: right;\n    }\n</style>\n<table border=\"1\" class=\"dataframe\">\n  <thead>\n    <tr style=\"text-align: right;\">\n      <th></th>\n      <th>a</th>\n      <th>b</th>\n    </tr>\n  </thead>\n  <tbody>\n    <tr>\n      <th>1</th>\n      <td>2</td>\n      <td>6</td>\n    </tr>\n    <tr>\n      <th>2</th>\n      <td>3</td>\n      <td>8</td>\n    </tr>\n  </tbody>\n</table>\n</div>"
     },
     "execution_count": 14,
     "metadata": {},
     "output_type": "execute_result"
    }
   ],
   "source": [
    "l=m.dropna()\n",
    "l"
   ],
   "metadata": {
    "collapsed": false
   }
  },
  {
   "cell_type": "code",
   "execution_count": null,
   "outputs": [],
   "source": [],
   "metadata": {
    "collapsed": false
   }
  }
 ],
 "metadata": {
  "kernelspec": {
   "name": "python3",
   "language": "python",
   "display_name": "Python 3 (ipykernel)"
  },
  "language_info": {
   "codemirror_mode": {
    "name": "ipython",
    "version": 2
   },
   "file_extension": ".py",
   "mimetype": "text/x-python",
   "name": "python",
   "nbconvert_exporter": "python",
   "pygments_lexer": "ipython2",
   "version": "2.7.6"
  }
 },
 "nbformat": 4,
 "nbformat_minor": 0
}
