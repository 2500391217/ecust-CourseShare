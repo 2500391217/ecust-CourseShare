{
 "cells": [
  {
   "cell_type": "code",
   "execution_count": 312,
   "outputs": [],
   "source": [
    "import numpy as np\n",
    "import pandas as pd\n",
    "from math import pi\n",
    "import warnings\n",
    "warnings.filterwarnings('ignore')\n",
    "import statsmodels.api as sm\n",
    "import statsmodels.formula.api as smf\n",
    "import sklearn.linear_model as sklm\n",
    "import matplotlib.pyplot as plt"
   ],
   "metadata": {
    "collapsed": false
   }
  },
  {
   "cell_type": "code",
   "execution_count": 313,
   "outputs": [
    {
     "data": {
      "text/plain": "       日期_Date  成交金额_Trdsum  总股数月换手率(%)_MonFulTurnR  月收益率_Monret  \\\n0   2001-01-19    219330452                  4.0290       0.0237   \n1   2001-02-28     94274703                  1.7169       0.0008   \n2   2001-03-30    173656617                  3.0894       0.0497   \n3   2001-04-30    121849146                  2.1684      -0.0607   \n4   2001-05-31    122642364                  2.2173       0.0067   \n..         ...          ...                     ...          ...   \n252 2022-08-31   1738124722                 15.1723       0.0226   \n253 2022-09-30   1185048955                  9.0525      -0.1155   \n254 2022-10-31    629833346                  4.9947       0.0139   \n255 2022-11-30   1462544261                 11.4118       0.0301   \n256 2022-12-30   1629635501                 12.7485      -0.0505   \n\n     月无风险收益率_Monrfret  市盈率_PE  每股收益(摊薄)(元/股)_EPS  净资产收益率(摊薄)_ROE  \\\n0            0.001650   62.02               0.41         12.9342   \n1            0.001650   62.07               0.63         14.3911   \n2            0.001650   65.15               0.63         14.3911   \n3            0.001650   55.50               0.63         14.3911   \n4            0.001650   55.87               0.63         14.3911   \n..                ...     ...                ...             ...   \n252          0.001366   22.74               0.07          1.5237   \n253          0.001342   23.72               0.07          1.5237   \n254          0.001413   20.36               0.09          2.0465   \n255          0.001676   20.97               0.09          2.0465   \n256          0.001931   19.91               0.09          2.0465   \n\n     每股营业收入(元/股)_IncomePS  风险因子_总市值加权_持有期收益_Beta_mc_h  \n0                    9.36                      0.9937  \n1                   22.04                      0.9638  \n2                   13.77                      0.9515  \n3                   13.77                      0.9612  \n4                   13.77                      0.9716  \n..                    ...                         ...  \n252                  3.64                      0.9284  \n253                  3.09                      0.9805  \n254                  4.28                      0.9228  \n255                  4.28                      0.8593  \n256                  4.28                      0.8355  \n\n[257 rows x 10 columns]",
      "text/html": "<div>\n<style scoped>\n    .dataframe tbody tr th:only-of-type {\n        vertical-align: middle;\n    }\n\n    .dataframe tbody tr th {\n        vertical-align: top;\n    }\n\n    .dataframe thead th {\n        text-align: right;\n    }\n</style>\n<table border=\"1\" class=\"dataframe\">\n  <thead>\n    <tr style=\"text-align: right;\">\n      <th></th>\n      <th>日期_Date</th>\n      <th>成交金额_Trdsum</th>\n      <th>总股数月换手率(%)_MonFulTurnR</th>\n      <th>月收益率_Monret</th>\n      <th>月无风险收益率_Monrfret</th>\n      <th>市盈率_PE</th>\n      <th>每股收益(摊薄)(元/股)_EPS</th>\n      <th>净资产收益率(摊薄)_ROE</th>\n      <th>每股营业收入(元/股)_IncomePS</th>\n      <th>风险因子_总市值加权_持有期收益_Beta_mc_h</th>\n    </tr>\n  </thead>\n  <tbody>\n    <tr>\n      <th>0</th>\n      <td>2001-01-19</td>\n      <td>219330452</td>\n      <td>4.0290</td>\n      <td>0.0237</td>\n      <td>0.001650</td>\n      <td>62.02</td>\n      <td>0.41</td>\n      <td>12.9342</td>\n      <td>9.36</td>\n      <td>0.9937</td>\n    </tr>\n    <tr>\n      <th>1</th>\n      <td>2001-02-28</td>\n      <td>94274703</td>\n      <td>1.7169</td>\n      <td>0.0008</td>\n      <td>0.001650</td>\n      <td>62.07</td>\n      <td>0.63</td>\n      <td>14.3911</td>\n      <td>22.04</td>\n      <td>0.9638</td>\n    </tr>\n    <tr>\n      <th>2</th>\n      <td>2001-03-30</td>\n      <td>173656617</td>\n      <td>3.0894</td>\n      <td>0.0497</td>\n      <td>0.001650</td>\n      <td>65.15</td>\n      <td>0.63</td>\n      <td>14.3911</td>\n      <td>13.77</td>\n      <td>0.9515</td>\n    </tr>\n    <tr>\n      <th>3</th>\n      <td>2001-04-30</td>\n      <td>121849146</td>\n      <td>2.1684</td>\n      <td>-0.0607</td>\n      <td>0.001650</td>\n      <td>55.50</td>\n      <td>0.63</td>\n      <td>14.3911</td>\n      <td>13.77</td>\n      <td>0.9612</td>\n    </tr>\n    <tr>\n      <th>4</th>\n      <td>2001-05-31</td>\n      <td>122642364</td>\n      <td>2.2173</td>\n      <td>0.0067</td>\n      <td>0.001650</td>\n      <td>55.87</td>\n      <td>0.63</td>\n      <td>14.3911</td>\n      <td>13.77</td>\n      <td>0.9716</td>\n    </tr>\n    <tr>\n      <th>...</th>\n      <td>...</td>\n      <td>...</td>\n      <td>...</td>\n      <td>...</td>\n      <td>...</td>\n      <td>...</td>\n      <td>...</td>\n      <td>...</td>\n      <td>...</td>\n      <td>...</td>\n    </tr>\n    <tr>\n      <th>252</th>\n      <td>2022-08-31</td>\n      <td>1738124722</td>\n      <td>15.1723</td>\n      <td>0.0226</td>\n      <td>0.001366</td>\n      <td>22.74</td>\n      <td>0.07</td>\n      <td>1.5237</td>\n      <td>3.64</td>\n      <td>0.9284</td>\n    </tr>\n    <tr>\n      <th>253</th>\n      <td>2022-09-30</td>\n      <td>1185048955</td>\n      <td>9.0525</td>\n      <td>-0.1155</td>\n      <td>0.001342</td>\n      <td>23.72</td>\n      <td>0.07</td>\n      <td>1.5237</td>\n      <td>3.09</td>\n      <td>0.9805</td>\n    </tr>\n    <tr>\n      <th>254</th>\n      <td>2022-10-31</td>\n      <td>629833346</td>\n      <td>4.9947</td>\n      <td>0.0139</td>\n      <td>0.001413</td>\n      <td>20.36</td>\n      <td>0.09</td>\n      <td>2.0465</td>\n      <td>4.28</td>\n      <td>0.9228</td>\n    </tr>\n    <tr>\n      <th>255</th>\n      <td>2022-11-30</td>\n      <td>1462544261</td>\n      <td>11.4118</td>\n      <td>0.0301</td>\n      <td>0.001676</td>\n      <td>20.97</td>\n      <td>0.09</td>\n      <td>2.0465</td>\n      <td>4.28</td>\n      <td>0.8593</td>\n    </tr>\n    <tr>\n      <th>256</th>\n      <td>2022-12-30</td>\n      <td>1629635501</td>\n      <td>12.7485</td>\n      <td>-0.0505</td>\n      <td>0.001931</td>\n      <td>19.91</td>\n      <td>0.09</td>\n      <td>2.0465</td>\n      <td>4.28</td>\n      <td>0.8355</td>\n    </tr>\n  </tbody>\n</table>\n<p>257 rows × 10 columns</p>\n</div>"
     },
     "execution_count": 313,
     "metadata": {},
     "output_type": "execute_result"
    }
   ],
   "source": [
    "month_raw=pd.read_excel('E:\\大三下study\\蒋志强\\实验4\\data\\第二小题\\month+beta.xlsx')\n",
    "month_raw"
   ],
   "metadata": {
    "collapsed": false
   }
  },
  {
   "cell_type": "code",
   "execution_count": 314,
   "outputs": [
    {
     "data": {
      "text/plain": "          date      trdsum  monfulturnr  monret  monrfret     pe   eps  \\\n0   2001-01-19   219330452       4.0290  0.0237  0.001650  62.02  0.41   \n1   2001-02-28    94274703       1.7169  0.0008  0.001650  62.07  0.63   \n2   2001-03-30   173656617       3.0894  0.0497  0.001650  65.15  0.63   \n3   2001-04-30   121849146       2.1684 -0.0607  0.001650  55.50  0.63   \n4   2001-05-31   122642364       2.2173  0.0067  0.001650  55.87  0.63   \n..         ...         ...          ...     ...       ...    ...   ...   \n252 2022-08-31  1738124722      15.1723  0.0226  0.001366  22.74  0.07   \n253 2022-09-30  1185048955       9.0525 -0.1155  0.001342  23.72  0.07   \n254 2022-10-31   629833346       4.9947  0.0139  0.001413  20.36  0.09   \n255 2022-11-30  1462544261      11.4118  0.0301  0.001676  20.97  0.09   \n256 2022-12-30  1629635501      12.7485 -0.0505  0.001931  19.91  0.09   \n\n         roe  incomeps    beta  \n0    12.9342      9.36  0.9937  \n1    14.3911     22.04  0.9638  \n2    14.3911     13.77  0.9515  \n3    14.3911     13.77  0.9612  \n4    14.3911     13.77  0.9716  \n..       ...       ...     ...  \n252   1.5237      3.64  0.9284  \n253   1.5237      3.09  0.9805  \n254   2.0465      4.28  0.9228  \n255   2.0465      4.28  0.8593  \n256   2.0465      4.28  0.8355  \n\n[257 rows x 10 columns]",
      "text/html": "<div>\n<style scoped>\n    .dataframe tbody tr th:only-of-type {\n        vertical-align: middle;\n    }\n\n    .dataframe tbody tr th {\n        vertical-align: top;\n    }\n\n    .dataframe thead th {\n        text-align: right;\n    }\n</style>\n<table border=\"1\" class=\"dataframe\">\n  <thead>\n    <tr style=\"text-align: right;\">\n      <th></th>\n      <th>date</th>\n      <th>trdsum</th>\n      <th>monfulturnr</th>\n      <th>monret</th>\n      <th>monrfret</th>\n      <th>pe</th>\n      <th>eps</th>\n      <th>roe</th>\n      <th>incomeps</th>\n      <th>beta</th>\n    </tr>\n  </thead>\n  <tbody>\n    <tr>\n      <th>0</th>\n      <td>2001-01-19</td>\n      <td>219330452</td>\n      <td>4.0290</td>\n      <td>0.0237</td>\n      <td>0.001650</td>\n      <td>62.02</td>\n      <td>0.41</td>\n      <td>12.9342</td>\n      <td>9.36</td>\n      <td>0.9937</td>\n    </tr>\n    <tr>\n      <th>1</th>\n      <td>2001-02-28</td>\n      <td>94274703</td>\n      <td>1.7169</td>\n      <td>0.0008</td>\n      <td>0.001650</td>\n      <td>62.07</td>\n      <td>0.63</td>\n      <td>14.3911</td>\n      <td>22.04</td>\n      <td>0.9638</td>\n    </tr>\n    <tr>\n      <th>2</th>\n      <td>2001-03-30</td>\n      <td>173656617</td>\n      <td>3.0894</td>\n      <td>0.0497</td>\n      <td>0.001650</td>\n      <td>65.15</td>\n      <td>0.63</td>\n      <td>14.3911</td>\n      <td>13.77</td>\n      <td>0.9515</td>\n    </tr>\n    <tr>\n      <th>3</th>\n      <td>2001-04-30</td>\n      <td>121849146</td>\n      <td>2.1684</td>\n      <td>-0.0607</td>\n      <td>0.001650</td>\n      <td>55.50</td>\n      <td>0.63</td>\n      <td>14.3911</td>\n      <td>13.77</td>\n      <td>0.9612</td>\n    </tr>\n    <tr>\n      <th>4</th>\n      <td>2001-05-31</td>\n      <td>122642364</td>\n      <td>2.2173</td>\n      <td>0.0067</td>\n      <td>0.001650</td>\n      <td>55.87</td>\n      <td>0.63</td>\n      <td>14.3911</td>\n      <td>13.77</td>\n      <td>0.9716</td>\n    </tr>\n    <tr>\n      <th>...</th>\n      <td>...</td>\n      <td>...</td>\n      <td>...</td>\n      <td>...</td>\n      <td>...</td>\n      <td>...</td>\n      <td>...</td>\n      <td>...</td>\n      <td>...</td>\n      <td>...</td>\n    </tr>\n    <tr>\n      <th>252</th>\n      <td>2022-08-31</td>\n      <td>1738124722</td>\n      <td>15.1723</td>\n      <td>0.0226</td>\n      <td>0.001366</td>\n      <td>22.74</td>\n      <td>0.07</td>\n      <td>1.5237</td>\n      <td>3.64</td>\n      <td>0.9284</td>\n    </tr>\n    <tr>\n      <th>253</th>\n      <td>2022-09-30</td>\n      <td>1185048955</td>\n      <td>9.0525</td>\n      <td>-0.1155</td>\n      <td>0.001342</td>\n      <td>23.72</td>\n      <td>0.07</td>\n      <td>1.5237</td>\n      <td>3.09</td>\n      <td>0.9805</td>\n    </tr>\n    <tr>\n      <th>254</th>\n      <td>2022-10-31</td>\n      <td>629833346</td>\n      <td>4.9947</td>\n      <td>0.0139</td>\n      <td>0.001413</td>\n      <td>20.36</td>\n      <td>0.09</td>\n      <td>2.0465</td>\n      <td>4.28</td>\n      <td>0.9228</td>\n    </tr>\n    <tr>\n      <th>255</th>\n      <td>2022-11-30</td>\n      <td>1462544261</td>\n      <td>11.4118</td>\n      <td>0.0301</td>\n      <td>0.001676</td>\n      <td>20.97</td>\n      <td>0.09</td>\n      <td>2.0465</td>\n      <td>4.28</td>\n      <td>0.8593</td>\n    </tr>\n    <tr>\n      <th>256</th>\n      <td>2022-12-30</td>\n      <td>1629635501</td>\n      <td>12.7485</td>\n      <td>-0.0505</td>\n      <td>0.001931</td>\n      <td>19.91</td>\n      <td>0.09</td>\n      <td>2.0465</td>\n      <td>4.28</td>\n      <td>0.8355</td>\n    </tr>\n  </tbody>\n</table>\n<p>257 rows × 10 columns</p>\n</div>"
     },
     "execution_count": 314,
     "metadata": {},
     "output_type": "execute_result"
    }
   ],
   "source": [
    "month_raw.columns=['date','trdsum','monfulturnr','monret','monrfret','pe','eps','roe','incomeps','beta']\n",
    "month_raw"
   ],
   "metadata": {
    "collapsed": false
   }
  },
  {
   "cell_type": "code",
   "execution_count": 315,
   "outputs": [
    {
     "data": {
      "text/plain": "       date      trdsum  monfulturnr  monret  monrfret     pe   eps      roe  \\\n0    200101   219330452       4.0290  0.0237  0.001650  62.02  0.41  12.9342   \n1    200102    94274703       1.7169  0.0008  0.001650  62.07  0.63  14.3911   \n2    200103   173656617       3.0894  0.0497  0.001650  65.15  0.63  14.3911   \n3    200104   121849146       2.1684 -0.0607  0.001650  55.50  0.63  14.3911   \n4    200105   122642364       2.2173  0.0067  0.001650  55.87  0.63  14.3911   \n..      ...         ...          ...     ...       ...    ...   ...      ...   \n252  202208  1738124722      15.1723  0.0226  0.001366  22.74  0.07   1.5237   \n253  202209  1185048955       9.0525 -0.1155  0.001342  23.72  0.07   1.5237   \n254  202210   629833346       4.9947  0.0139  0.001413  20.36  0.09   2.0465   \n255  202211  1462544261      11.4118  0.0301  0.001676  20.97  0.09   2.0465   \n256  202212  1629635501      12.7485 -0.0505  0.001931  19.91  0.09   2.0465   \n\n     incomeps    beta  \n0        9.36  0.9937  \n1       22.04  0.9638  \n2       13.77  0.9515  \n3       13.77  0.9612  \n4       13.77  0.9716  \n..        ...     ...  \n252      3.64  0.9284  \n253      3.09  0.9805  \n254      4.28  0.9228  \n255      4.28  0.8593  \n256      4.28  0.8355  \n\n[257 rows x 10 columns]",
      "text/html": "<div>\n<style scoped>\n    .dataframe tbody tr th:only-of-type {\n        vertical-align: middle;\n    }\n\n    .dataframe tbody tr th {\n        vertical-align: top;\n    }\n\n    .dataframe thead th {\n        text-align: right;\n    }\n</style>\n<table border=\"1\" class=\"dataframe\">\n  <thead>\n    <tr style=\"text-align: right;\">\n      <th></th>\n      <th>date</th>\n      <th>trdsum</th>\n      <th>monfulturnr</th>\n      <th>monret</th>\n      <th>monrfret</th>\n      <th>pe</th>\n      <th>eps</th>\n      <th>roe</th>\n      <th>incomeps</th>\n      <th>beta</th>\n    </tr>\n  </thead>\n  <tbody>\n    <tr>\n      <th>0</th>\n      <td>200101</td>\n      <td>219330452</td>\n      <td>4.0290</td>\n      <td>0.0237</td>\n      <td>0.001650</td>\n      <td>62.02</td>\n      <td>0.41</td>\n      <td>12.9342</td>\n      <td>9.36</td>\n      <td>0.9937</td>\n    </tr>\n    <tr>\n      <th>1</th>\n      <td>200102</td>\n      <td>94274703</td>\n      <td>1.7169</td>\n      <td>0.0008</td>\n      <td>0.001650</td>\n      <td>62.07</td>\n      <td>0.63</td>\n      <td>14.3911</td>\n      <td>22.04</td>\n      <td>0.9638</td>\n    </tr>\n    <tr>\n      <th>2</th>\n      <td>200103</td>\n      <td>173656617</td>\n      <td>3.0894</td>\n      <td>0.0497</td>\n      <td>0.001650</td>\n      <td>65.15</td>\n      <td>0.63</td>\n      <td>14.3911</td>\n      <td>13.77</td>\n      <td>0.9515</td>\n    </tr>\n    <tr>\n      <th>3</th>\n      <td>200104</td>\n      <td>121849146</td>\n      <td>2.1684</td>\n      <td>-0.0607</td>\n      <td>0.001650</td>\n      <td>55.50</td>\n      <td>0.63</td>\n      <td>14.3911</td>\n      <td>13.77</td>\n      <td>0.9612</td>\n    </tr>\n    <tr>\n      <th>4</th>\n      <td>200105</td>\n      <td>122642364</td>\n      <td>2.2173</td>\n      <td>0.0067</td>\n      <td>0.001650</td>\n      <td>55.87</td>\n      <td>0.63</td>\n      <td>14.3911</td>\n      <td>13.77</td>\n      <td>0.9716</td>\n    </tr>\n    <tr>\n      <th>...</th>\n      <td>...</td>\n      <td>...</td>\n      <td>...</td>\n      <td>...</td>\n      <td>...</td>\n      <td>...</td>\n      <td>...</td>\n      <td>...</td>\n      <td>...</td>\n      <td>...</td>\n    </tr>\n    <tr>\n      <th>252</th>\n      <td>202208</td>\n      <td>1738124722</td>\n      <td>15.1723</td>\n      <td>0.0226</td>\n      <td>0.001366</td>\n      <td>22.74</td>\n      <td>0.07</td>\n      <td>1.5237</td>\n      <td>3.64</td>\n      <td>0.9284</td>\n    </tr>\n    <tr>\n      <th>253</th>\n      <td>202209</td>\n      <td>1185048955</td>\n      <td>9.0525</td>\n      <td>-0.1155</td>\n      <td>0.001342</td>\n      <td>23.72</td>\n      <td>0.07</td>\n      <td>1.5237</td>\n      <td>3.09</td>\n      <td>0.9805</td>\n    </tr>\n    <tr>\n      <th>254</th>\n      <td>202210</td>\n      <td>629833346</td>\n      <td>4.9947</td>\n      <td>0.0139</td>\n      <td>0.001413</td>\n      <td>20.36</td>\n      <td>0.09</td>\n      <td>2.0465</td>\n      <td>4.28</td>\n      <td>0.9228</td>\n    </tr>\n    <tr>\n      <th>255</th>\n      <td>202211</td>\n      <td>1462544261</td>\n      <td>11.4118</td>\n      <td>0.0301</td>\n      <td>0.001676</td>\n      <td>20.97</td>\n      <td>0.09</td>\n      <td>2.0465</td>\n      <td>4.28</td>\n      <td>0.8593</td>\n    </tr>\n    <tr>\n      <th>256</th>\n      <td>202212</td>\n      <td>1629635501</td>\n      <td>12.7485</td>\n      <td>-0.0505</td>\n      <td>0.001931</td>\n      <td>19.91</td>\n      <td>0.09</td>\n      <td>2.0465</td>\n      <td>4.28</td>\n      <td>0.8355</td>\n    </tr>\n  </tbody>\n</table>\n<p>257 rows × 10 columns</p>\n</div>"
     },
     "execution_count": 315,
     "metadata": {},
     "output_type": "execute_result"
    }
   ],
   "source": [
    "month_raw['date']=pd.to_datetime(month_raw['date'],format='%Y-%m-%d')\n",
    "month_raw['date']=month_raw['date'].dt.strftime('%Y%m')\n",
    "month_raw"
   ],
   "metadata": {
    "collapsed": false
   }
  },
  {
   "cell_type": "code",
   "execution_count": 316,
   "outputs": [
    {
     "data": {
      "text/plain": "      股票代码_Stkcd     日期_Date  收盘价_Clpr  日收益率_Dret\n0         600120  2001-01-02     38.00     0.0000\n1         600120  2001-01-03     37.85    -0.0039\n2         600120  2001-01-04     37.90     0.0013\n3         600120  2001-01-05     37.88    -0.0005\n4         600120  2001-01-08     37.92     0.0011\n...          ...         ...       ...        ...\n5385      600120  2022-12-26      3.55    -0.0028\n5386      600120  2022-12-27      3.59     0.0113\n5387      600120  2022-12-28      3.57    -0.0056\n5388      600120  2022-12-29      3.54    -0.0084\n5389      600120  2022-12-30      3.57     0.0085\n\n[5092 rows x 4 columns]",
      "text/html": "<div>\n<style scoped>\n    .dataframe tbody tr th:only-of-type {\n        vertical-align: middle;\n    }\n\n    .dataframe tbody tr th {\n        vertical-align: top;\n    }\n\n    .dataframe thead th {\n        text-align: right;\n    }\n</style>\n<table border=\"1\" class=\"dataframe\">\n  <thead>\n    <tr style=\"text-align: right;\">\n      <th></th>\n      <th>股票代码_Stkcd</th>\n      <th>日期_Date</th>\n      <th>收盘价_Clpr</th>\n      <th>日收益率_Dret</th>\n    </tr>\n  </thead>\n  <tbody>\n    <tr>\n      <th>0</th>\n      <td>600120</td>\n      <td>2001-01-02</td>\n      <td>38.00</td>\n      <td>0.0000</td>\n    </tr>\n    <tr>\n      <th>1</th>\n      <td>600120</td>\n      <td>2001-01-03</td>\n      <td>37.85</td>\n      <td>-0.0039</td>\n    </tr>\n    <tr>\n      <th>2</th>\n      <td>600120</td>\n      <td>2001-01-04</td>\n      <td>37.90</td>\n      <td>0.0013</td>\n    </tr>\n    <tr>\n      <th>3</th>\n      <td>600120</td>\n      <td>2001-01-05</td>\n      <td>37.88</td>\n      <td>-0.0005</td>\n    </tr>\n    <tr>\n      <th>4</th>\n      <td>600120</td>\n      <td>2001-01-08</td>\n      <td>37.92</td>\n      <td>0.0011</td>\n    </tr>\n    <tr>\n      <th>...</th>\n      <td>...</td>\n      <td>...</td>\n      <td>...</td>\n      <td>...</td>\n    </tr>\n    <tr>\n      <th>5385</th>\n      <td>600120</td>\n      <td>2022-12-26</td>\n      <td>3.55</td>\n      <td>-0.0028</td>\n    </tr>\n    <tr>\n      <th>5386</th>\n      <td>600120</td>\n      <td>2022-12-27</td>\n      <td>3.59</td>\n      <td>0.0113</td>\n    </tr>\n    <tr>\n      <th>5387</th>\n      <td>600120</td>\n      <td>2022-12-28</td>\n      <td>3.57</td>\n      <td>-0.0056</td>\n    </tr>\n    <tr>\n      <th>5388</th>\n      <td>600120</td>\n      <td>2022-12-29</td>\n      <td>3.54</td>\n      <td>-0.0084</td>\n    </tr>\n    <tr>\n      <th>5389</th>\n      <td>600120</td>\n      <td>2022-12-30</td>\n      <td>3.57</td>\n      <td>0.0085</td>\n    </tr>\n  </tbody>\n</table>\n<p>5092 rows × 4 columns</p>\n</div>"
     },
     "execution_count": 316,
     "metadata": {},
     "output_type": "execute_result"
    }
   ],
   "source": [
    "raw_daily=pd.read_excel(r'E:\\大三下study\\蒋志强\\实验4\\data\\第二小题\\2001_2022.xlsx')\n",
    "raw_daily.dropna(inplace=True)\n",
    "raw_daily"
   ],
   "metadata": {
    "collapsed": false
   }
  },
  {
   "cell_type": "code",
   "execution_count": 317,
   "outputs": [
    {
     "data": {
      "text/plain": "           date  close    dret yearmonth\n0    2001-01-02  38.00  0.0000    200101\n1    2001-01-03  37.85 -0.0039    200101\n2    2001-01-04  37.90  0.0013    200101\n3    2001-01-05  37.88 -0.0005    200101\n4    2001-01-08  37.92  0.0011    200101\n...         ...    ...     ...       ...\n5385 2022-12-26   3.55 -0.0028    202212\n5386 2022-12-27   3.59  0.0113    202212\n5387 2022-12-28   3.57 -0.0056    202212\n5388 2022-12-29   3.54 -0.0084    202212\n5389 2022-12-30   3.57  0.0085    202212\n\n[5092 rows x 4 columns]",
      "text/html": "<div>\n<style scoped>\n    .dataframe tbody tr th:only-of-type {\n        vertical-align: middle;\n    }\n\n    .dataframe tbody tr th {\n        vertical-align: top;\n    }\n\n    .dataframe thead th {\n        text-align: right;\n    }\n</style>\n<table border=\"1\" class=\"dataframe\">\n  <thead>\n    <tr style=\"text-align: right;\">\n      <th></th>\n      <th>date</th>\n      <th>close</th>\n      <th>dret</th>\n      <th>yearmonth</th>\n    </tr>\n  </thead>\n  <tbody>\n    <tr>\n      <th>0</th>\n      <td>2001-01-02</td>\n      <td>38.00</td>\n      <td>0.0000</td>\n      <td>200101</td>\n    </tr>\n    <tr>\n      <th>1</th>\n      <td>2001-01-03</td>\n      <td>37.85</td>\n      <td>-0.0039</td>\n      <td>200101</td>\n    </tr>\n    <tr>\n      <th>2</th>\n      <td>2001-01-04</td>\n      <td>37.90</td>\n      <td>0.0013</td>\n      <td>200101</td>\n    </tr>\n    <tr>\n      <th>3</th>\n      <td>2001-01-05</td>\n      <td>37.88</td>\n      <td>-0.0005</td>\n      <td>200101</td>\n    </tr>\n    <tr>\n      <th>4</th>\n      <td>2001-01-08</td>\n      <td>37.92</td>\n      <td>0.0011</td>\n      <td>200101</td>\n    </tr>\n    <tr>\n      <th>...</th>\n      <td>...</td>\n      <td>...</td>\n      <td>...</td>\n      <td>...</td>\n    </tr>\n    <tr>\n      <th>5385</th>\n      <td>2022-12-26</td>\n      <td>3.55</td>\n      <td>-0.0028</td>\n      <td>202212</td>\n    </tr>\n    <tr>\n      <th>5386</th>\n      <td>2022-12-27</td>\n      <td>3.59</td>\n      <td>0.0113</td>\n      <td>202212</td>\n    </tr>\n    <tr>\n      <th>5387</th>\n      <td>2022-12-28</td>\n      <td>3.57</td>\n      <td>-0.0056</td>\n      <td>202212</td>\n    </tr>\n    <tr>\n      <th>5388</th>\n      <td>2022-12-29</td>\n      <td>3.54</td>\n      <td>-0.0084</td>\n      <td>202212</td>\n    </tr>\n    <tr>\n      <th>5389</th>\n      <td>2022-12-30</td>\n      <td>3.57</td>\n      <td>0.0085</td>\n      <td>202212</td>\n    </tr>\n  </tbody>\n</table>\n<p>5092 rows × 4 columns</p>\n</div>"
     },
     "execution_count": 317,
     "metadata": {},
     "output_type": "execute_result"
    }
   ],
   "source": [
    "raw_daily.columns=['stk','date','close','dret']\n",
    "raw_daily=raw_daily.iloc[:,1:]\n",
    "raw_daily['date']=pd.to_datetime(raw_daily['date'],format='%Y-%m-%d')\n",
    "raw_daily['yearmonth']=raw_daily['date'].dt.strftime('%Y%m')\n",
    "raw_daily"
   ],
   "metadata": {
    "collapsed": false
   }
  },
  {
   "cell_type": "code",
   "execution_count": 318,
   "outputs": [
    {
     "data": {
      "text/plain": "          0\n0    200101\n1    200102\n2    200103\n3    200104\n4    200105\n..      ...\n252  202208\n253  202209\n254  202210\n255  202211\n256  202212\n\n[257 rows x 1 columns]",
      "text/html": "<div>\n<style scoped>\n    .dataframe tbody tr th:only-of-type {\n        vertical-align: middle;\n    }\n\n    .dataframe tbody tr th {\n        vertical-align: top;\n    }\n\n    .dataframe thead th {\n        text-align: right;\n    }\n</style>\n<table border=\"1\" class=\"dataframe\">\n  <thead>\n    <tr style=\"text-align: right;\">\n      <th></th>\n      <th>0</th>\n    </tr>\n  </thead>\n  <tbody>\n    <tr>\n      <th>0</th>\n      <td>200101</td>\n    </tr>\n    <tr>\n      <th>1</th>\n      <td>200102</td>\n    </tr>\n    <tr>\n      <th>2</th>\n      <td>200103</td>\n    </tr>\n    <tr>\n      <th>3</th>\n      <td>200104</td>\n    </tr>\n    <tr>\n      <th>4</th>\n      <td>200105</td>\n    </tr>\n    <tr>\n      <th>...</th>\n      <td>...</td>\n    </tr>\n    <tr>\n      <th>252</th>\n      <td>202208</td>\n    </tr>\n    <tr>\n      <th>253</th>\n      <td>202209</td>\n    </tr>\n    <tr>\n      <th>254</th>\n      <td>202210</td>\n    </tr>\n    <tr>\n      <th>255</th>\n      <td>202211</td>\n    </tr>\n    <tr>\n      <th>256</th>\n      <td>202212</td>\n    </tr>\n  </tbody>\n</table>\n<p>257 rows × 1 columns</p>\n</div>"
     },
     "execution_count": 318,
     "metadata": {},
     "output_type": "execute_result"
    }
   ],
   "source": [
    "dailynomonth=np.unique(raw_daily['yearmonth'])\n",
    "dailydata=pd.DataFrame(dailynomonth)\n",
    "dailydata"
   ],
   "metadata": {
    "collapsed": false
   }
  },
  {
   "cell_type": "code",
   "execution_count": 319,
   "outputs": [
    {
     "data": {
      "text/plain": "    yearmonth\n0      200101\n1      200102\n2      200103\n3      200104\n4      200105\n..        ...\n252    202208\n253    202209\n254    202210\n255    202211\n256    202212\n\n[257 rows x 1 columns]",
      "text/html": "<div>\n<style scoped>\n    .dataframe tbody tr th:only-of-type {\n        vertical-align: middle;\n    }\n\n    .dataframe tbody tr th {\n        vertical-align: top;\n    }\n\n    .dataframe thead th {\n        text-align: right;\n    }\n</style>\n<table border=\"1\" class=\"dataframe\">\n  <thead>\n    <tr style=\"text-align: right;\">\n      <th></th>\n      <th>yearmonth</th>\n    </tr>\n  </thead>\n  <tbody>\n    <tr>\n      <th>0</th>\n      <td>200101</td>\n    </tr>\n    <tr>\n      <th>1</th>\n      <td>200102</td>\n    </tr>\n    <tr>\n      <th>2</th>\n      <td>200103</td>\n    </tr>\n    <tr>\n      <th>3</th>\n      <td>200104</td>\n    </tr>\n    <tr>\n      <th>4</th>\n      <td>200105</td>\n    </tr>\n    <tr>\n      <th>...</th>\n      <td>...</td>\n    </tr>\n    <tr>\n      <th>252</th>\n      <td>202208</td>\n    </tr>\n    <tr>\n      <th>253</th>\n      <td>202209</td>\n    </tr>\n    <tr>\n      <th>254</th>\n      <td>202210</td>\n    </tr>\n    <tr>\n      <th>255</th>\n      <td>202211</td>\n    </tr>\n    <tr>\n      <th>256</th>\n      <td>202212</td>\n    </tr>\n  </tbody>\n</table>\n<p>257 rows × 1 columns</p>\n</div>"
     },
     "execution_count": 319,
     "metadata": {},
     "output_type": "execute_result"
    }
   ],
   "source": [
    "dailydata.columns=['yearmonth']\n",
    "dailydata"
   ],
   "metadata": {
    "collapsed": false
   }
  },
  {
   "cell_type": "code",
   "execution_count": 320,
   "outputs": [],
   "source": [
    "dailynomonth=np.unique(raw_daily['yearmonth'])\n",
    "volatility={}\n",
    "volatility3={}\n",
    "monthnum={}\n",
    "for i in dailynomonth:\n",
    "    in_month_dataseries=raw_daily[raw_daily['yearmonth']==i]\n",
    "    dretlist=in_month_dataseries['dret'].values\n",
    "    volatility[i]=np.sum(dretlist**2)\n",
    "    volatility3[i]=np.sum(dretlist**3)\n",
    "    monthnum[i]=len(dretlist)"
   ],
   "metadata": {
    "collapsed": false
   }
  },
  {
   "cell_type": "code",
   "execution_count": 321,
   "outputs": [],
   "source": [
    "tempo={}\n",
    "tempo['yearmonth']=volatility.keys()\n",
    "tempo['volatility']=volatility.values()\n",
    "volatility=pd.DataFrame(tempo)\n",
    "tempo={}\n",
    "tempo['yearmonth']=volatility3.keys()\n",
    "tempo['volatility3']=volatility3.values()\n",
    "volatility3=pd.DataFrame(tempo)\n",
    "tempo={}\n",
    "tempo['yearmonth']=monthnum.keys()\n",
    "tempo['monthnum']=monthnum.values()\n",
    "monthnum=pd.DataFrame(tempo)\n",
    "del tempo\n"
   ],
   "metadata": {
    "collapsed": false
   }
  },
  {
   "cell_type": "code",
   "execution_count": 321,
   "outputs": [],
   "source": [],
   "metadata": {
    "collapsed": false
   }
  },
  {
   "cell_type": "code",
   "execution_count": 321,
   "outputs": [],
   "source": [],
   "metadata": {
    "collapsed": false
   }
  },
  {
   "cell_type": "code",
   "execution_count": 322,
   "outputs": [
    {
     "data": {
      "text/plain": "    yearmonth      trdsum  monfulturnr  monret  monrfret     pe   eps  \\\n0      200101   219330452       4.0290  0.0237  0.001650  62.02  0.41   \n1      200102    94274703       1.7169  0.0008  0.001650  62.07  0.63   \n2      200103   173656617       3.0894  0.0497  0.001650  65.15  0.63   \n3      200104   121849146       2.1684 -0.0607  0.001650  55.50  0.63   \n4      200105   122642364       2.2173  0.0067  0.001650  55.87  0.63   \n..        ...         ...          ...     ...       ...    ...   ...   \n252    202208  1738124722      15.1723  0.0226  0.001366  22.74  0.07   \n253    202209  1185048955       9.0525 -0.1155  0.001342  23.72  0.07   \n254    202210   629833346       4.9947  0.0139  0.001413  20.36  0.09   \n255    202211  1462544261      11.4118  0.0301  0.001676  20.97  0.09   \n256    202212  1629635501      12.7485 -0.0505  0.001931  19.91  0.09   \n\n         roe  incomeps    beta  volatility  volatility3  monthnum     RSkew  \n0    12.9342      9.36  0.9937    0.001547     0.000032        14  1.946324  \n1    14.3911     22.04  0.9638    0.000770     0.000007        18  1.333095  \n2    14.3911     13.77  0.9515    0.000870     0.000007        21  1.161395  \n3    14.3911     13.77  0.9612    0.002895    -0.000024        21 -0.691407  \n4    14.3911     13.77  0.9716    0.002996     0.000010        18  0.265493  \n..       ...       ...     ...         ...          ...       ...       ...  \n252   1.5237      3.64  0.9284    0.008940    -0.000010        23 -0.055562  \n253   1.5237      3.09  0.9805    0.004417    -0.000069        21 -1.076543  \n254   2.0465      4.28  0.9228    0.004023    -0.000007        16 -0.113187  \n255   2.0465      4.28  0.8593    0.002728     0.000032        22  1.050587  \n256   2.0465      4.28  0.8355    0.004465     0.000077        22  1.202929  \n\n[257 rows x 14 columns]",
      "text/html": "<div>\n<style scoped>\n    .dataframe tbody tr th:only-of-type {\n        vertical-align: middle;\n    }\n\n    .dataframe tbody tr th {\n        vertical-align: top;\n    }\n\n    .dataframe thead th {\n        text-align: right;\n    }\n</style>\n<table border=\"1\" class=\"dataframe\">\n  <thead>\n    <tr style=\"text-align: right;\">\n      <th></th>\n      <th>yearmonth</th>\n      <th>trdsum</th>\n      <th>monfulturnr</th>\n      <th>monret</th>\n      <th>monrfret</th>\n      <th>pe</th>\n      <th>eps</th>\n      <th>roe</th>\n      <th>incomeps</th>\n      <th>beta</th>\n      <th>volatility</th>\n      <th>volatility3</th>\n      <th>monthnum</th>\n      <th>RSkew</th>\n    </tr>\n  </thead>\n  <tbody>\n    <tr>\n      <th>0</th>\n      <td>200101</td>\n      <td>219330452</td>\n      <td>4.0290</td>\n      <td>0.0237</td>\n      <td>0.001650</td>\n      <td>62.02</td>\n      <td>0.41</td>\n      <td>12.9342</td>\n      <td>9.36</td>\n      <td>0.9937</td>\n      <td>0.001547</td>\n      <td>0.000032</td>\n      <td>14</td>\n      <td>1.946324</td>\n    </tr>\n    <tr>\n      <th>1</th>\n      <td>200102</td>\n      <td>94274703</td>\n      <td>1.7169</td>\n      <td>0.0008</td>\n      <td>0.001650</td>\n      <td>62.07</td>\n      <td>0.63</td>\n      <td>14.3911</td>\n      <td>22.04</td>\n      <td>0.9638</td>\n      <td>0.000770</td>\n      <td>0.000007</td>\n      <td>18</td>\n      <td>1.333095</td>\n    </tr>\n    <tr>\n      <th>2</th>\n      <td>200103</td>\n      <td>173656617</td>\n      <td>3.0894</td>\n      <td>0.0497</td>\n      <td>0.001650</td>\n      <td>65.15</td>\n      <td>0.63</td>\n      <td>14.3911</td>\n      <td>13.77</td>\n      <td>0.9515</td>\n      <td>0.000870</td>\n      <td>0.000007</td>\n      <td>21</td>\n      <td>1.161395</td>\n    </tr>\n    <tr>\n      <th>3</th>\n      <td>200104</td>\n      <td>121849146</td>\n      <td>2.1684</td>\n      <td>-0.0607</td>\n      <td>0.001650</td>\n      <td>55.50</td>\n      <td>0.63</td>\n      <td>14.3911</td>\n      <td>13.77</td>\n      <td>0.9612</td>\n      <td>0.002895</td>\n      <td>-0.000024</td>\n      <td>21</td>\n      <td>-0.691407</td>\n    </tr>\n    <tr>\n      <th>4</th>\n      <td>200105</td>\n      <td>122642364</td>\n      <td>2.2173</td>\n      <td>0.0067</td>\n      <td>0.001650</td>\n      <td>55.87</td>\n      <td>0.63</td>\n      <td>14.3911</td>\n      <td>13.77</td>\n      <td>0.9716</td>\n      <td>0.002996</td>\n      <td>0.000010</td>\n      <td>18</td>\n      <td>0.265493</td>\n    </tr>\n    <tr>\n      <th>...</th>\n      <td>...</td>\n      <td>...</td>\n      <td>...</td>\n      <td>...</td>\n      <td>...</td>\n      <td>...</td>\n      <td>...</td>\n      <td>...</td>\n      <td>...</td>\n      <td>...</td>\n      <td>...</td>\n      <td>...</td>\n      <td>...</td>\n      <td>...</td>\n    </tr>\n    <tr>\n      <th>252</th>\n      <td>202208</td>\n      <td>1738124722</td>\n      <td>15.1723</td>\n      <td>0.0226</td>\n      <td>0.001366</td>\n      <td>22.74</td>\n      <td>0.07</td>\n      <td>1.5237</td>\n      <td>3.64</td>\n      <td>0.9284</td>\n      <td>0.008940</td>\n      <td>-0.000010</td>\n      <td>23</td>\n      <td>-0.055562</td>\n    </tr>\n    <tr>\n      <th>253</th>\n      <td>202209</td>\n      <td>1185048955</td>\n      <td>9.0525</td>\n      <td>-0.1155</td>\n      <td>0.001342</td>\n      <td>23.72</td>\n      <td>0.07</td>\n      <td>1.5237</td>\n      <td>3.09</td>\n      <td>0.9805</td>\n      <td>0.004417</td>\n      <td>-0.000069</td>\n      <td>21</td>\n      <td>-1.076543</td>\n    </tr>\n    <tr>\n      <th>254</th>\n      <td>202210</td>\n      <td>629833346</td>\n      <td>4.9947</td>\n      <td>0.0139</td>\n      <td>0.001413</td>\n      <td>20.36</td>\n      <td>0.09</td>\n      <td>2.0465</td>\n      <td>4.28</td>\n      <td>0.9228</td>\n      <td>0.004023</td>\n      <td>-0.000007</td>\n      <td>16</td>\n      <td>-0.113187</td>\n    </tr>\n    <tr>\n      <th>255</th>\n      <td>202211</td>\n      <td>1462544261</td>\n      <td>11.4118</td>\n      <td>0.0301</td>\n      <td>0.001676</td>\n      <td>20.97</td>\n      <td>0.09</td>\n      <td>2.0465</td>\n      <td>4.28</td>\n      <td>0.8593</td>\n      <td>0.002728</td>\n      <td>0.000032</td>\n      <td>22</td>\n      <td>1.050587</td>\n    </tr>\n    <tr>\n      <th>256</th>\n      <td>202212</td>\n      <td>1629635501</td>\n      <td>12.7485</td>\n      <td>-0.0505</td>\n      <td>0.001931</td>\n      <td>19.91</td>\n      <td>0.09</td>\n      <td>2.0465</td>\n      <td>4.28</td>\n      <td>0.8355</td>\n      <td>0.004465</td>\n      <td>0.000077</td>\n      <td>22</td>\n      <td>1.202929</td>\n    </tr>\n  </tbody>\n</table>\n<p>257 rows × 14 columns</p>\n</div>"
     },
     "execution_count": 322,
     "metadata": {},
     "output_type": "execute_result"
    }
   ],
   "source": [
    "month_raw.columns=['yearmonth','trdsum','monfulturnr','monret','monrfret','pe','eps','roe','incomeps','beta']\n",
    "month_raw=pd.merge(left=month_raw,right=volatility,on='yearmonth',how='inner')\n",
    "month_raw=pd.merge(left=month_raw,right=volatility3,on='yearmonth',how='inner')\n",
    "month_raw=pd.merge(left=month_raw,right=monthnum,on='yearmonth',how='inner')\n",
    "month_raw['RSkew']=np.sqrt(month_raw['monthnum'])*month_raw['volatility3']/(month_raw['volatility']**1.5)\n",
    "month_raw"
   ],
   "metadata": {
    "collapsed": false
   }
  },
  {
   "cell_type": "code",
   "execution_count": 323,
   "outputs": [
    {
     "data": {
      "text/plain": "    yearmonth      trdsum  monfulturnr  monret  monrfret     pe   eps  \\\n0      200101   219330452       4.0290  0.0237  0.001650  62.02  0.41   \n1      200102    94274703       1.7169  0.0008  0.001650  62.07  0.63   \n2      200103   173656617       3.0894  0.0497  0.001650  65.15  0.63   \n3      200104   121849146       2.1684 -0.0607  0.001650  55.50  0.63   \n4      200105   122642364       2.2173  0.0067  0.001650  55.87  0.63   \n..        ...         ...          ...     ...       ...    ...   ...   \n252    202208  1738124722      15.1723  0.0226  0.001366  22.74  0.07   \n253    202209  1185048955       9.0525 -0.1155  0.001342  23.72  0.07   \n254    202210   629833346       4.9947  0.0139  0.001413  20.36  0.09   \n255    202211  1462544261      11.4118  0.0301  0.001676  20.97  0.09   \n256    202212  1629635501      12.7485 -0.0505  0.001931  19.91  0.09   \n\n         roe  incomeps    beta  volatility  volatility3  monthnum     RSkew  \\\n0    12.9342      9.36  0.9937    0.001547     0.000032        14  1.946324   \n1    14.3911     22.04  0.9638    0.000770     0.000007        18  1.333095   \n2    14.3911     13.77  0.9515    0.000870     0.000007        21  1.161395   \n3    14.3911     13.77  0.9612    0.002895    -0.000024        21 -0.691407   \n4    14.3911     13.77  0.9716    0.002996     0.000010        18  0.265493   \n..       ...       ...     ...         ...          ...       ...       ...   \n252   1.5237      3.64  0.9284    0.008940    -0.000010        23 -0.055562   \n253   1.5237      3.09  0.9805    0.004417    -0.000069        21 -1.076543   \n254   2.0465      4.28  0.9228    0.004023    -0.000007        16 -0.113187   \n255   2.0465      4.28  0.8593    0.002728     0.000032        22  1.050587   \n256   2.0465      4.28  0.8355    0.004465     0.000077        22  1.202929   \n\n     liquidity  \n0     0.001234  \n1     0.000044  \n2     0.002620  \n3    -0.003260  \n4     0.000360  \n..         ...  \n252   0.001062  \n253  -0.005528  \n254   0.000686  \n255   0.001426  \n256  -0.002381  \n\n[257 rows x 15 columns]",
      "text/html": "<div>\n<style scoped>\n    .dataframe tbody tr th:only-of-type {\n        vertical-align: middle;\n    }\n\n    .dataframe tbody tr th {\n        vertical-align: top;\n    }\n\n    .dataframe thead th {\n        text-align: right;\n    }\n</style>\n<table border=\"1\" class=\"dataframe\">\n  <thead>\n    <tr style=\"text-align: right;\">\n      <th></th>\n      <th>yearmonth</th>\n      <th>trdsum</th>\n      <th>monfulturnr</th>\n      <th>monret</th>\n      <th>monrfret</th>\n      <th>pe</th>\n      <th>eps</th>\n      <th>roe</th>\n      <th>incomeps</th>\n      <th>beta</th>\n      <th>volatility</th>\n      <th>volatility3</th>\n      <th>monthnum</th>\n      <th>RSkew</th>\n      <th>liquidity</th>\n    </tr>\n  </thead>\n  <tbody>\n    <tr>\n      <th>0</th>\n      <td>200101</td>\n      <td>219330452</td>\n      <td>4.0290</td>\n      <td>0.0237</td>\n      <td>0.001650</td>\n      <td>62.02</td>\n      <td>0.41</td>\n      <td>12.9342</td>\n      <td>9.36</td>\n      <td>0.9937</td>\n      <td>0.001547</td>\n      <td>0.000032</td>\n      <td>14</td>\n      <td>1.946324</td>\n      <td>0.001234</td>\n    </tr>\n    <tr>\n      <th>1</th>\n      <td>200102</td>\n      <td>94274703</td>\n      <td>1.7169</td>\n      <td>0.0008</td>\n      <td>0.001650</td>\n      <td>62.07</td>\n      <td>0.63</td>\n      <td>14.3911</td>\n      <td>22.04</td>\n      <td>0.9638</td>\n      <td>0.000770</td>\n      <td>0.000007</td>\n      <td>18</td>\n      <td>1.333095</td>\n      <td>0.000044</td>\n    </tr>\n    <tr>\n      <th>2</th>\n      <td>200103</td>\n      <td>173656617</td>\n      <td>3.0894</td>\n      <td>0.0497</td>\n      <td>0.001650</td>\n      <td>65.15</td>\n      <td>0.63</td>\n      <td>14.3911</td>\n      <td>13.77</td>\n      <td>0.9515</td>\n      <td>0.000870</td>\n      <td>0.000007</td>\n      <td>21</td>\n      <td>1.161395</td>\n      <td>0.002620</td>\n    </tr>\n    <tr>\n      <th>3</th>\n      <td>200104</td>\n      <td>121849146</td>\n      <td>2.1684</td>\n      <td>-0.0607</td>\n      <td>0.001650</td>\n      <td>55.50</td>\n      <td>0.63</td>\n      <td>14.3911</td>\n      <td>13.77</td>\n      <td>0.9612</td>\n      <td>0.002895</td>\n      <td>-0.000024</td>\n      <td>21</td>\n      <td>-0.691407</td>\n      <td>-0.003260</td>\n    </tr>\n    <tr>\n      <th>4</th>\n      <td>200105</td>\n      <td>122642364</td>\n      <td>2.2173</td>\n      <td>0.0067</td>\n      <td>0.001650</td>\n      <td>55.87</td>\n      <td>0.63</td>\n      <td>14.3911</td>\n      <td>13.77</td>\n      <td>0.9716</td>\n      <td>0.002996</td>\n      <td>0.000010</td>\n      <td>18</td>\n      <td>0.265493</td>\n      <td>0.000360</td>\n    </tr>\n    <tr>\n      <th>...</th>\n      <td>...</td>\n      <td>...</td>\n      <td>...</td>\n      <td>...</td>\n      <td>...</td>\n      <td>...</td>\n      <td>...</td>\n      <td>...</td>\n      <td>...</td>\n      <td>...</td>\n      <td>...</td>\n      <td>...</td>\n      <td>...</td>\n      <td>...</td>\n      <td>...</td>\n    </tr>\n    <tr>\n      <th>252</th>\n      <td>202208</td>\n      <td>1738124722</td>\n      <td>15.1723</td>\n      <td>0.0226</td>\n      <td>0.001366</td>\n      <td>22.74</td>\n      <td>0.07</td>\n      <td>1.5237</td>\n      <td>3.64</td>\n      <td>0.9284</td>\n      <td>0.008940</td>\n      <td>-0.000010</td>\n      <td>23</td>\n      <td>-0.055562</td>\n      <td>0.001062</td>\n    </tr>\n    <tr>\n      <th>253</th>\n      <td>202209</td>\n      <td>1185048955</td>\n      <td>9.0525</td>\n      <td>-0.1155</td>\n      <td>0.001342</td>\n      <td>23.72</td>\n      <td>0.07</td>\n      <td>1.5237</td>\n      <td>3.09</td>\n      <td>0.9805</td>\n      <td>0.004417</td>\n      <td>-0.000069</td>\n      <td>21</td>\n      <td>-1.076543</td>\n      <td>-0.005528</td>\n    </tr>\n    <tr>\n      <th>254</th>\n      <td>202210</td>\n      <td>629833346</td>\n      <td>4.9947</td>\n      <td>0.0139</td>\n      <td>0.001413</td>\n      <td>20.36</td>\n      <td>0.09</td>\n      <td>2.0465</td>\n      <td>4.28</td>\n      <td>0.9228</td>\n      <td>0.004023</td>\n      <td>-0.000007</td>\n      <td>16</td>\n      <td>-0.113187</td>\n      <td>0.000686</td>\n    </tr>\n    <tr>\n      <th>255</th>\n      <td>202211</td>\n      <td>1462544261</td>\n      <td>11.4118</td>\n      <td>0.0301</td>\n      <td>0.001676</td>\n      <td>20.97</td>\n      <td>0.09</td>\n      <td>2.0465</td>\n      <td>4.28</td>\n      <td>0.8593</td>\n      <td>0.002728</td>\n      <td>0.000032</td>\n      <td>22</td>\n      <td>1.050587</td>\n      <td>0.001426</td>\n    </tr>\n    <tr>\n      <th>256</th>\n      <td>202212</td>\n      <td>1629635501</td>\n      <td>12.7485</td>\n      <td>-0.0505</td>\n      <td>0.001931</td>\n      <td>19.91</td>\n      <td>0.09</td>\n      <td>2.0465</td>\n      <td>4.28</td>\n      <td>0.8355</td>\n      <td>0.004465</td>\n      <td>0.000077</td>\n      <td>22</td>\n      <td>1.202929</td>\n      <td>-0.002381</td>\n    </tr>\n  </tbody>\n</table>\n<p>257 rows × 15 columns</p>\n</div>"
     },
     "execution_count": 323,
     "metadata": {},
     "output_type": "execute_result"
    }
   ],
   "source": [
    "month_raw['liquidity']=month_raw['monret']/np.log(month_raw['trdsum'])\n",
    "month_raw"
   ],
   "metadata": {
    "collapsed": false
   }
  },
  {
   "cell_type": "code",
   "execution_count": 323,
   "outputs": [],
   "source": [],
   "metadata": {
    "collapsed": false
   }
  },
  {
   "cell_type": "code",
   "execution_count": 324,
   "outputs": [
    {
     "data": {
      "text/plain": "    yearmonth      trdsum  monfulturnr  monret  monrfret     pe   eps  \\\n3      200104   121849146       2.1684 -0.0607  0.001650  55.50  0.63   \n4      200105   122642364       2.2173  0.0067  0.001650  55.87  0.63   \n5      200106   161705781       2.8931  0.0364  0.001650  57.90  0.63   \n6      200107    75414558       1.3354 -0.1131  0.001650  46.98  0.32   \n7      200108   138265557       2.8900 -0.0752  0.001650  43.45  0.32   \n..        ...         ...          ...     ...       ...    ...   ...   \n252    202208  1738124722      15.1723  0.0226  0.001366  22.74  0.07   \n253    202209  1185048955       9.0525 -0.1155  0.001342  23.72  0.07   \n254    202210   629833346       4.9947  0.0139  0.001413  20.36  0.09   \n255    202211  1462544261      11.4118  0.0301  0.001676  20.97  0.09   \n256    202212  1629635501      12.7485 -0.0505  0.001931  19.91  0.09   \n\n         roe  incomeps    beta  volatility  volatility3  monthnum     RSkew  \\\n3    14.3911     13.77  0.9612    0.002895    -0.000024        21 -0.691407   \n4    14.3911     13.77  0.9716    0.002996     0.000010        18  0.265493   \n5    14.3911     13.77  0.9716    0.004116     0.000110        21  1.901342   \n6    10.4062      6.25  0.9704    0.003630    -0.000087        22 -1.864609   \n7    10.4062      6.25  1.0312    0.006786    -0.000247        23 -2.119557   \n..       ...       ...     ...         ...          ...       ...       ...   \n252   1.5237      3.64  0.9284    0.008940    -0.000010        23 -0.055562   \n253   1.5237      3.09  0.9805    0.004417    -0.000069        21 -1.076543   \n254   2.0465      4.28  0.9228    0.004023    -0.000007        16 -0.113187   \n255   2.0465      4.28  0.8593    0.002728     0.000032        22  1.050587   \n256   2.0465      4.28  0.8355    0.004465     0.000077        22  1.202929   \n\n     liquidity  peakclose  peakpoint  \n3    -0.003260      25.85   0.636700  \n4     0.000360      25.26   0.622167  \n5     0.001926      25.40   0.625616  \n6    -0.006235      25.72   0.994971  \n7    -0.004012      22.45   0.872862  \n..         ...        ...        ...  \n252   0.001062       4.11   0.944828  \n253  -0.005528       4.06   0.933333  \n254   0.000686       3.84   0.882759  \n255   0.001426       3.85   0.936740  \n256  -0.002381       3.91   0.963054  \n\n[254 rows x 17 columns]",
      "text/html": "<div>\n<style scoped>\n    .dataframe tbody tr th:only-of-type {\n        vertical-align: middle;\n    }\n\n    .dataframe tbody tr th {\n        vertical-align: top;\n    }\n\n    .dataframe thead th {\n        text-align: right;\n    }\n</style>\n<table border=\"1\" class=\"dataframe\">\n  <thead>\n    <tr style=\"text-align: right;\">\n      <th></th>\n      <th>yearmonth</th>\n      <th>trdsum</th>\n      <th>monfulturnr</th>\n      <th>monret</th>\n      <th>monrfret</th>\n      <th>pe</th>\n      <th>eps</th>\n      <th>roe</th>\n      <th>incomeps</th>\n      <th>beta</th>\n      <th>volatility</th>\n      <th>volatility3</th>\n      <th>monthnum</th>\n      <th>RSkew</th>\n      <th>liquidity</th>\n      <th>peakclose</th>\n      <th>peakpoint</th>\n    </tr>\n  </thead>\n  <tbody>\n    <tr>\n      <th>3</th>\n      <td>200104</td>\n      <td>121849146</td>\n      <td>2.1684</td>\n      <td>-0.0607</td>\n      <td>0.001650</td>\n      <td>55.50</td>\n      <td>0.63</td>\n      <td>14.3911</td>\n      <td>13.77</td>\n      <td>0.9612</td>\n      <td>0.002895</td>\n      <td>-0.000024</td>\n      <td>21</td>\n      <td>-0.691407</td>\n      <td>-0.003260</td>\n      <td>25.85</td>\n      <td>0.636700</td>\n    </tr>\n    <tr>\n      <th>4</th>\n      <td>200105</td>\n      <td>122642364</td>\n      <td>2.2173</td>\n      <td>0.0067</td>\n      <td>0.001650</td>\n      <td>55.87</td>\n      <td>0.63</td>\n      <td>14.3911</td>\n      <td>13.77</td>\n      <td>0.9716</td>\n      <td>0.002996</td>\n      <td>0.000010</td>\n      <td>18</td>\n      <td>0.265493</td>\n      <td>0.000360</td>\n      <td>25.26</td>\n      <td>0.622167</td>\n    </tr>\n    <tr>\n      <th>5</th>\n      <td>200106</td>\n      <td>161705781</td>\n      <td>2.8931</td>\n      <td>0.0364</td>\n      <td>0.001650</td>\n      <td>57.90</td>\n      <td>0.63</td>\n      <td>14.3911</td>\n      <td>13.77</td>\n      <td>0.9716</td>\n      <td>0.004116</td>\n      <td>0.000110</td>\n      <td>21</td>\n      <td>1.901342</td>\n      <td>0.001926</td>\n      <td>25.40</td>\n      <td>0.625616</td>\n    </tr>\n    <tr>\n      <th>6</th>\n      <td>200107</td>\n      <td>75414558</td>\n      <td>1.3354</td>\n      <td>-0.1131</td>\n      <td>0.001650</td>\n      <td>46.98</td>\n      <td>0.32</td>\n      <td>10.4062</td>\n      <td>6.25</td>\n      <td>0.9704</td>\n      <td>0.003630</td>\n      <td>-0.000087</td>\n      <td>22</td>\n      <td>-1.864609</td>\n      <td>-0.006235</td>\n      <td>25.72</td>\n      <td>0.994971</td>\n    </tr>\n    <tr>\n      <th>7</th>\n      <td>200108</td>\n      <td>138265557</td>\n      <td>2.8900</td>\n      <td>-0.0752</td>\n      <td>0.001650</td>\n      <td>43.45</td>\n      <td>0.32</td>\n      <td>10.4062</td>\n      <td>6.25</td>\n      <td>1.0312</td>\n      <td>0.006786</td>\n      <td>-0.000247</td>\n      <td>23</td>\n      <td>-2.119557</td>\n      <td>-0.004012</td>\n      <td>22.45</td>\n      <td>0.872862</td>\n    </tr>\n    <tr>\n      <th>...</th>\n      <td>...</td>\n      <td>...</td>\n      <td>...</td>\n      <td>...</td>\n      <td>...</td>\n      <td>...</td>\n      <td>...</td>\n      <td>...</td>\n      <td>...</td>\n      <td>...</td>\n      <td>...</td>\n      <td>...</td>\n      <td>...</td>\n      <td>...</td>\n      <td>...</td>\n      <td>...</td>\n      <td>...</td>\n    </tr>\n    <tr>\n      <th>252</th>\n      <td>202208</td>\n      <td>1738124722</td>\n      <td>15.1723</td>\n      <td>0.0226</td>\n      <td>0.001366</td>\n      <td>22.74</td>\n      <td>0.07</td>\n      <td>1.5237</td>\n      <td>3.64</td>\n      <td>0.9284</td>\n      <td>0.008940</td>\n      <td>-0.000010</td>\n      <td>23</td>\n      <td>-0.055562</td>\n      <td>0.001062</td>\n      <td>4.11</td>\n      <td>0.944828</td>\n    </tr>\n    <tr>\n      <th>253</th>\n      <td>202209</td>\n      <td>1185048955</td>\n      <td>9.0525</td>\n      <td>-0.1155</td>\n      <td>0.001342</td>\n      <td>23.72</td>\n      <td>0.07</td>\n      <td>1.5237</td>\n      <td>3.09</td>\n      <td>0.9805</td>\n      <td>0.004417</td>\n      <td>-0.000069</td>\n      <td>21</td>\n      <td>-1.076543</td>\n      <td>-0.005528</td>\n      <td>4.06</td>\n      <td>0.933333</td>\n    </tr>\n    <tr>\n      <th>254</th>\n      <td>202210</td>\n      <td>629833346</td>\n      <td>4.9947</td>\n      <td>0.0139</td>\n      <td>0.001413</td>\n      <td>20.36</td>\n      <td>0.09</td>\n      <td>2.0465</td>\n      <td>4.28</td>\n      <td>0.9228</td>\n      <td>0.004023</td>\n      <td>-0.000007</td>\n      <td>16</td>\n      <td>-0.113187</td>\n      <td>0.000686</td>\n      <td>3.84</td>\n      <td>0.882759</td>\n    </tr>\n    <tr>\n      <th>255</th>\n      <td>202211</td>\n      <td>1462544261</td>\n      <td>11.4118</td>\n      <td>0.0301</td>\n      <td>0.001676</td>\n      <td>20.97</td>\n      <td>0.09</td>\n      <td>2.0465</td>\n      <td>4.28</td>\n      <td>0.8593</td>\n      <td>0.002728</td>\n      <td>0.000032</td>\n      <td>22</td>\n      <td>1.050587</td>\n      <td>0.001426</td>\n      <td>3.85</td>\n      <td>0.936740</td>\n    </tr>\n    <tr>\n      <th>256</th>\n      <td>202212</td>\n      <td>1629635501</td>\n      <td>12.7485</td>\n      <td>-0.0505</td>\n      <td>0.001931</td>\n      <td>19.91</td>\n      <td>0.09</td>\n      <td>2.0465</td>\n      <td>4.28</td>\n      <td>0.8355</td>\n      <td>0.004465</td>\n      <td>0.000077</td>\n      <td>22</td>\n      <td>1.202929</td>\n      <td>-0.002381</td>\n      <td>3.91</td>\n      <td>0.963054</td>\n    </tr>\n  </tbody>\n</table>\n<p>254 rows × 17 columns</p>\n</div>"
     },
     "execution_count": 324,
     "metadata": {},
     "output_type": "execute_result"
    }
   ],
   "source": [
    "month_peak={}\n",
    "for i in dailynomonth:\n",
    "    # month_peak[i]=np.max(raw_daily['yearmonth']==i)\n",
    "    closeseries=raw_daily[raw_daily['yearmonth']==i]['close']\n",
    "    month_peak[i]=np.max(closeseries)\n",
    "month_peak1={}\n",
    "month_peak1['yearmonth']=month_peak.keys()\n",
    "month_peak1['peakclose']=month_peak.values()\n",
    "month_peak=pd.DataFrame(month_peak1)\n",
    "month_raw=pd.merge(left=month_raw,right=month_peak,on='yearmonth',how='inner')\n",
    "month_raw['peakpoint']=month_raw['peakclose'].shift(periods=1)\n",
    "month_raw.dropna(inplace=True)\n",
    "month_raw['peakpoint']=month_raw['peakclose']/month_raw['peakpoint'].rolling(window=3).max()\n",
    "month_raw.dropna(inplace=True)\n",
    "month_raw"
   ],
   "metadata": {
    "collapsed": false
   }
  },
  {
   "cell_type": "code",
   "execution_count": 324,
   "outputs": [],
   "source": [],
   "metadata": {
    "collapsed": false
   }
  },
  {
   "cell_type": "code",
   "execution_count": 324,
   "outputs": [],
   "source": [],
   "metadata": {
    "collapsed": false
   }
  },
  {
   "cell_type": "code",
   "execution_count": 324,
   "outputs": [],
   "source": [
    "\n"
   ],
   "metadata": {
    "collapsed": false
   }
  },
  {
   "cell_type": "code",
   "execution_count": 324,
   "outputs": [],
   "source": [],
   "metadata": {
    "collapsed": false
   }
  },
  {
   "cell_type": "code",
   "execution_count": 324,
   "outputs": [],
   "source": [],
   "metadata": {
    "collapsed": false
   }
  },
  {
   "cell_type": "code",
   "execution_count": 324,
   "outputs": [],
   "source": [],
   "metadata": {
    "collapsed": false
   }
  },
  {
   "cell_type": "code",
   "execution_count": 325,
   "outputs": [
    {
     "data": {
      "text/plain": "    yearmonth      trdsum  monfulturnr  monret  monrfret     pe   eps  \\\n3      200104   121849146       2.1684 -0.0607  0.001650  55.50  0.63   \n4      200105   122642364       2.2173  0.0067  0.001650  55.87  0.63   \n5      200106   161705781       2.8931  0.0364  0.001650  57.90  0.63   \n6      200107    75414558       1.3354 -0.1131  0.001650  46.98  0.32   \n7      200108   138265557       2.8900 -0.0752  0.001650  43.45  0.32   \n..        ...         ...          ...     ...       ...    ...   ...   \n252    202208  1738124722      15.1723  0.0226  0.001366  22.74  0.07   \n253    202209  1185048955       9.0525 -0.1155  0.001342  23.72  0.07   \n254    202210   629833346       4.9947  0.0139  0.001413  20.36  0.09   \n255    202211  1462544261      11.4118  0.0301  0.001676  20.97  0.09   \n256    202212  1629635501      12.7485 -0.0505  0.001931  19.91  0.09   \n\n         roe  incomeps    beta  volatility  volatility3  monthnum     RSkew  \\\n3    14.3911     13.77  0.9612    0.002895    -0.000024        21 -0.691407   \n4    14.3911     13.77  0.9716    0.002996     0.000010        18  0.265493   \n5    14.3911     13.77  0.9716    0.004116     0.000110        21  1.901342   \n6    10.4062      6.25  0.9704    0.003630    -0.000087        22 -1.864609   \n7    10.4062      6.25  1.0312    0.006786    -0.000247        23 -2.119557   \n..       ...       ...     ...         ...          ...       ...       ...   \n252   1.5237      3.64  0.9284    0.008940    -0.000010        23 -0.055562   \n253   1.5237      3.09  0.9805    0.004417    -0.000069        21 -1.076543   \n254   2.0465      4.28  0.9228    0.004023    -0.000007        16 -0.113187   \n255   2.0465      4.28  0.8593    0.002728     0.000032        22  1.050587   \n256   2.0465      4.28  0.8355    0.004465     0.000077        22  1.202929   \n\n     liquidity  peakclose  peakpoint  \n3    -0.003260      25.85   0.636700  \n4     0.000360      25.26   0.622167  \n5     0.001926      25.40   0.625616  \n6    -0.006235      25.72   0.994971  \n7    -0.004012      22.45   0.872862  \n..         ...        ...        ...  \n252   0.001062       4.11   0.944828  \n253  -0.005528       4.06   0.933333  \n254   0.000686       3.84   0.882759  \n255   0.001426       3.85   0.936740  \n256  -0.002381       3.91   0.963054  \n\n[254 rows x 17 columns]",
      "text/html": "<div>\n<style scoped>\n    .dataframe tbody tr th:only-of-type {\n        vertical-align: middle;\n    }\n\n    .dataframe tbody tr th {\n        vertical-align: top;\n    }\n\n    .dataframe thead th {\n        text-align: right;\n    }\n</style>\n<table border=\"1\" class=\"dataframe\">\n  <thead>\n    <tr style=\"text-align: right;\">\n      <th></th>\n      <th>yearmonth</th>\n      <th>trdsum</th>\n      <th>monfulturnr</th>\n      <th>monret</th>\n      <th>monrfret</th>\n      <th>pe</th>\n      <th>eps</th>\n      <th>roe</th>\n      <th>incomeps</th>\n      <th>beta</th>\n      <th>volatility</th>\n      <th>volatility3</th>\n      <th>monthnum</th>\n      <th>RSkew</th>\n      <th>liquidity</th>\n      <th>peakclose</th>\n      <th>peakpoint</th>\n    </tr>\n  </thead>\n  <tbody>\n    <tr>\n      <th>3</th>\n      <td>200104</td>\n      <td>121849146</td>\n      <td>2.1684</td>\n      <td>-0.0607</td>\n      <td>0.001650</td>\n      <td>55.50</td>\n      <td>0.63</td>\n      <td>14.3911</td>\n      <td>13.77</td>\n      <td>0.9612</td>\n      <td>0.002895</td>\n      <td>-0.000024</td>\n      <td>21</td>\n      <td>-0.691407</td>\n      <td>-0.003260</td>\n      <td>25.85</td>\n      <td>0.636700</td>\n    </tr>\n    <tr>\n      <th>4</th>\n      <td>200105</td>\n      <td>122642364</td>\n      <td>2.2173</td>\n      <td>0.0067</td>\n      <td>0.001650</td>\n      <td>55.87</td>\n      <td>0.63</td>\n      <td>14.3911</td>\n      <td>13.77</td>\n      <td>0.9716</td>\n      <td>0.002996</td>\n      <td>0.000010</td>\n      <td>18</td>\n      <td>0.265493</td>\n      <td>0.000360</td>\n      <td>25.26</td>\n      <td>0.622167</td>\n    </tr>\n    <tr>\n      <th>5</th>\n      <td>200106</td>\n      <td>161705781</td>\n      <td>2.8931</td>\n      <td>0.0364</td>\n      <td>0.001650</td>\n      <td>57.90</td>\n      <td>0.63</td>\n      <td>14.3911</td>\n      <td>13.77</td>\n      <td>0.9716</td>\n      <td>0.004116</td>\n      <td>0.000110</td>\n      <td>21</td>\n      <td>1.901342</td>\n      <td>0.001926</td>\n      <td>25.40</td>\n      <td>0.625616</td>\n    </tr>\n    <tr>\n      <th>6</th>\n      <td>200107</td>\n      <td>75414558</td>\n      <td>1.3354</td>\n      <td>-0.1131</td>\n      <td>0.001650</td>\n      <td>46.98</td>\n      <td>0.32</td>\n      <td>10.4062</td>\n      <td>6.25</td>\n      <td>0.9704</td>\n      <td>0.003630</td>\n      <td>-0.000087</td>\n      <td>22</td>\n      <td>-1.864609</td>\n      <td>-0.006235</td>\n      <td>25.72</td>\n      <td>0.994971</td>\n    </tr>\n    <tr>\n      <th>7</th>\n      <td>200108</td>\n      <td>138265557</td>\n      <td>2.8900</td>\n      <td>-0.0752</td>\n      <td>0.001650</td>\n      <td>43.45</td>\n      <td>0.32</td>\n      <td>10.4062</td>\n      <td>6.25</td>\n      <td>1.0312</td>\n      <td>0.006786</td>\n      <td>-0.000247</td>\n      <td>23</td>\n      <td>-2.119557</td>\n      <td>-0.004012</td>\n      <td>22.45</td>\n      <td>0.872862</td>\n    </tr>\n    <tr>\n      <th>...</th>\n      <td>...</td>\n      <td>...</td>\n      <td>...</td>\n      <td>...</td>\n      <td>...</td>\n      <td>...</td>\n      <td>...</td>\n      <td>...</td>\n      <td>...</td>\n      <td>...</td>\n      <td>...</td>\n      <td>...</td>\n      <td>...</td>\n      <td>...</td>\n      <td>...</td>\n      <td>...</td>\n      <td>...</td>\n    </tr>\n    <tr>\n      <th>252</th>\n      <td>202208</td>\n      <td>1738124722</td>\n      <td>15.1723</td>\n      <td>0.0226</td>\n      <td>0.001366</td>\n      <td>22.74</td>\n      <td>0.07</td>\n      <td>1.5237</td>\n      <td>3.64</td>\n      <td>0.9284</td>\n      <td>0.008940</td>\n      <td>-0.000010</td>\n      <td>23</td>\n      <td>-0.055562</td>\n      <td>0.001062</td>\n      <td>4.11</td>\n      <td>0.944828</td>\n    </tr>\n    <tr>\n      <th>253</th>\n      <td>202209</td>\n      <td>1185048955</td>\n      <td>9.0525</td>\n      <td>-0.1155</td>\n      <td>0.001342</td>\n      <td>23.72</td>\n      <td>0.07</td>\n      <td>1.5237</td>\n      <td>3.09</td>\n      <td>0.9805</td>\n      <td>0.004417</td>\n      <td>-0.000069</td>\n      <td>21</td>\n      <td>-1.076543</td>\n      <td>-0.005528</td>\n      <td>4.06</td>\n      <td>0.933333</td>\n    </tr>\n    <tr>\n      <th>254</th>\n      <td>202210</td>\n      <td>629833346</td>\n      <td>4.9947</td>\n      <td>0.0139</td>\n      <td>0.001413</td>\n      <td>20.36</td>\n      <td>0.09</td>\n      <td>2.0465</td>\n      <td>4.28</td>\n      <td>0.9228</td>\n      <td>0.004023</td>\n      <td>-0.000007</td>\n      <td>16</td>\n      <td>-0.113187</td>\n      <td>0.000686</td>\n      <td>3.84</td>\n      <td>0.882759</td>\n    </tr>\n    <tr>\n      <th>255</th>\n      <td>202211</td>\n      <td>1462544261</td>\n      <td>11.4118</td>\n      <td>0.0301</td>\n      <td>0.001676</td>\n      <td>20.97</td>\n      <td>0.09</td>\n      <td>2.0465</td>\n      <td>4.28</td>\n      <td>0.8593</td>\n      <td>0.002728</td>\n      <td>0.000032</td>\n      <td>22</td>\n      <td>1.050587</td>\n      <td>0.001426</td>\n      <td>3.85</td>\n      <td>0.936740</td>\n    </tr>\n    <tr>\n      <th>256</th>\n      <td>202212</td>\n      <td>1629635501</td>\n      <td>12.7485</td>\n      <td>-0.0505</td>\n      <td>0.001931</td>\n      <td>19.91</td>\n      <td>0.09</td>\n      <td>2.0465</td>\n      <td>4.28</td>\n      <td>0.8355</td>\n      <td>0.004465</td>\n      <td>0.000077</td>\n      <td>22</td>\n      <td>1.202929</td>\n      <td>-0.002381</td>\n      <td>3.91</td>\n      <td>0.963054</td>\n    </tr>\n  </tbody>\n</table>\n<p>254 rows × 17 columns</p>\n</div>"
     },
     "execution_count": 325,
     "metadata": {},
     "output_type": "execute_result"
    }
   ],
   "source": [
    "month_raw.dropna(inplace=True)\n",
    "month_raw"
   ],
   "metadata": {
    "collapsed": false
   }
  },
  {
   "cell_type": "code",
   "execution_count": 326,
   "outputs": [
    {
     "data": {
      "text/plain": "    yearmonth  monret  monrfret     pe   eps      roe  incomeps  monfulturnr  \\\n3      200104 -0.0607  0.001650  55.50  0.63  14.3911     13.77       2.1684   \n4      200105  0.0067  0.001650  55.87  0.63  14.3911     13.77       2.2173   \n5      200106  0.0364  0.001650  57.90  0.63  14.3911     13.77       2.8931   \n6      200107 -0.1131  0.001650  46.98  0.32  10.4062      6.25       1.3354   \n7      200108 -0.0752  0.001650  43.45  0.32  10.4062      6.25       2.8900   \n..        ...     ...       ...    ...   ...      ...       ...          ...   \n252    202208  0.0226  0.001366  22.74  0.07   1.5237      3.64      15.1723   \n253    202209 -0.1155  0.001342  23.72  0.07   1.5237      3.09       9.0525   \n254    202210  0.0139  0.001413  20.36  0.09   2.0465      4.28       4.9947   \n255    202211  0.0301  0.001676  20.97  0.09   2.0465      4.28      11.4118   \n256    202212 -0.0505  0.001931  19.91  0.09   2.0465      4.28      12.7485   \n\n       beta  volatility  liquidity  peakpoint     RSkew  \n3    0.9612    0.002895  -0.003260   0.636700 -0.691407  \n4    0.9716    0.002996   0.000360   0.622167  0.265493  \n5    0.9716    0.004116   0.001926   0.625616  1.901342  \n6    0.9704    0.003630  -0.006235   0.994971 -1.864609  \n7    1.0312    0.006786  -0.004012   0.872862 -2.119557  \n..      ...         ...        ...        ...       ...  \n252  0.9284    0.008940   0.001062   0.944828 -0.055562  \n253  0.9805    0.004417  -0.005528   0.933333 -1.076543  \n254  0.9228    0.004023   0.000686   0.882759 -0.113187  \n255  0.8593    0.002728   0.001426   0.936740  1.050587  \n256  0.8355    0.004465  -0.002381   0.963054  1.202929  \n\n[254 rows x 13 columns]",
      "text/html": "<div>\n<style scoped>\n    .dataframe tbody tr th:only-of-type {\n        vertical-align: middle;\n    }\n\n    .dataframe tbody tr th {\n        vertical-align: top;\n    }\n\n    .dataframe thead th {\n        text-align: right;\n    }\n</style>\n<table border=\"1\" class=\"dataframe\">\n  <thead>\n    <tr style=\"text-align: right;\">\n      <th></th>\n      <th>yearmonth</th>\n      <th>monret</th>\n      <th>monrfret</th>\n      <th>pe</th>\n      <th>eps</th>\n      <th>roe</th>\n      <th>incomeps</th>\n      <th>monfulturnr</th>\n      <th>beta</th>\n      <th>volatility</th>\n      <th>liquidity</th>\n      <th>peakpoint</th>\n      <th>RSkew</th>\n    </tr>\n  </thead>\n  <tbody>\n    <tr>\n      <th>3</th>\n      <td>200104</td>\n      <td>-0.0607</td>\n      <td>0.001650</td>\n      <td>55.50</td>\n      <td>0.63</td>\n      <td>14.3911</td>\n      <td>13.77</td>\n      <td>2.1684</td>\n      <td>0.9612</td>\n      <td>0.002895</td>\n      <td>-0.003260</td>\n      <td>0.636700</td>\n      <td>-0.691407</td>\n    </tr>\n    <tr>\n      <th>4</th>\n      <td>200105</td>\n      <td>0.0067</td>\n      <td>0.001650</td>\n      <td>55.87</td>\n      <td>0.63</td>\n      <td>14.3911</td>\n      <td>13.77</td>\n      <td>2.2173</td>\n      <td>0.9716</td>\n      <td>0.002996</td>\n      <td>0.000360</td>\n      <td>0.622167</td>\n      <td>0.265493</td>\n    </tr>\n    <tr>\n      <th>5</th>\n      <td>200106</td>\n      <td>0.0364</td>\n      <td>0.001650</td>\n      <td>57.90</td>\n      <td>0.63</td>\n      <td>14.3911</td>\n      <td>13.77</td>\n      <td>2.8931</td>\n      <td>0.9716</td>\n      <td>0.004116</td>\n      <td>0.001926</td>\n      <td>0.625616</td>\n      <td>1.901342</td>\n    </tr>\n    <tr>\n      <th>6</th>\n      <td>200107</td>\n      <td>-0.1131</td>\n      <td>0.001650</td>\n      <td>46.98</td>\n      <td>0.32</td>\n      <td>10.4062</td>\n      <td>6.25</td>\n      <td>1.3354</td>\n      <td>0.9704</td>\n      <td>0.003630</td>\n      <td>-0.006235</td>\n      <td>0.994971</td>\n      <td>-1.864609</td>\n    </tr>\n    <tr>\n      <th>7</th>\n      <td>200108</td>\n      <td>-0.0752</td>\n      <td>0.001650</td>\n      <td>43.45</td>\n      <td>0.32</td>\n      <td>10.4062</td>\n      <td>6.25</td>\n      <td>2.8900</td>\n      <td>1.0312</td>\n      <td>0.006786</td>\n      <td>-0.004012</td>\n      <td>0.872862</td>\n      <td>-2.119557</td>\n    </tr>\n    <tr>\n      <th>...</th>\n      <td>...</td>\n      <td>...</td>\n      <td>...</td>\n      <td>...</td>\n      <td>...</td>\n      <td>...</td>\n      <td>...</td>\n      <td>...</td>\n      <td>...</td>\n      <td>...</td>\n      <td>...</td>\n      <td>...</td>\n      <td>...</td>\n    </tr>\n    <tr>\n      <th>252</th>\n      <td>202208</td>\n      <td>0.0226</td>\n      <td>0.001366</td>\n      <td>22.74</td>\n      <td>0.07</td>\n      <td>1.5237</td>\n      <td>3.64</td>\n      <td>15.1723</td>\n      <td>0.9284</td>\n      <td>0.008940</td>\n      <td>0.001062</td>\n      <td>0.944828</td>\n      <td>-0.055562</td>\n    </tr>\n    <tr>\n      <th>253</th>\n      <td>202209</td>\n      <td>-0.1155</td>\n      <td>0.001342</td>\n      <td>23.72</td>\n      <td>0.07</td>\n      <td>1.5237</td>\n      <td>3.09</td>\n      <td>9.0525</td>\n      <td>0.9805</td>\n      <td>0.004417</td>\n      <td>-0.005528</td>\n      <td>0.933333</td>\n      <td>-1.076543</td>\n    </tr>\n    <tr>\n      <th>254</th>\n      <td>202210</td>\n      <td>0.0139</td>\n      <td>0.001413</td>\n      <td>20.36</td>\n      <td>0.09</td>\n      <td>2.0465</td>\n      <td>4.28</td>\n      <td>4.9947</td>\n      <td>0.9228</td>\n      <td>0.004023</td>\n      <td>0.000686</td>\n      <td>0.882759</td>\n      <td>-0.113187</td>\n    </tr>\n    <tr>\n      <th>255</th>\n      <td>202211</td>\n      <td>0.0301</td>\n      <td>0.001676</td>\n      <td>20.97</td>\n      <td>0.09</td>\n      <td>2.0465</td>\n      <td>4.28</td>\n      <td>11.4118</td>\n      <td>0.8593</td>\n      <td>0.002728</td>\n      <td>0.001426</td>\n      <td>0.936740</td>\n      <td>1.050587</td>\n    </tr>\n    <tr>\n      <th>256</th>\n      <td>202212</td>\n      <td>-0.0505</td>\n      <td>0.001931</td>\n      <td>19.91</td>\n      <td>0.09</td>\n      <td>2.0465</td>\n      <td>4.28</td>\n      <td>12.7485</td>\n      <td>0.8355</td>\n      <td>0.004465</td>\n      <td>-0.002381</td>\n      <td>0.963054</td>\n      <td>1.202929</td>\n    </tr>\n  </tbody>\n</table>\n<p>254 rows × 13 columns</p>\n</div>"
     },
     "execution_count": 326,
     "metadata": {},
     "output_type": "execute_result"
    }
   ],
   "source": [
    "month_final=month_raw[['yearmonth','monret','monrfret','pe','eps','roe','incomeps','monfulturnr','beta','volatility','liquidity','peakpoint','RSkew']]\n",
    "month_final"
   ],
   "metadata": {
    "collapsed": false
   }
  },
  {
   "cell_type": "code",
   "execution_count": 327,
   "outputs": [],
   "source": [
    "def myfun_stat_gains(rout, rmean, rreal):\n",
    "    R2os = 1 - np.sum((rreal-rout)**2)/np.sum((rreal-rmean)**2)\n",
    "    d = (rreal - rmean)**2 - ((rreal-rout)**2 - (rmean-rout)**2)\n",
    "    x = sm.add_constant(np.arange(len(d))+1)\n",
    "    model = sm.OLS(d, x)\n",
    "    fitres = model.fit()\n",
    "    MFSEadj = fitres.tvalues[0]\n",
    "    pvalue_MFSEadj = fitres.pvalues[0]\n",
    "\n",
    "    if (R2os > 0) & (pvalue_MFSEadj <= 0.01):\n",
    "        jud = '在1%的显著性水平下有样本外预测能力'\n",
    "    elif (R2os > 0) & (pvalue_MFSEadj > 0.01) & (pvalue_MFSEadj <= 0.05):\n",
    "        jud = '在5%的显著性水平下有样本外预测能力'\n",
    "    elif (R2os > 0) & (pvalue_MFSEadj > 0.05) & (pvalue_MFSEadj <= 0.1):\n",
    "        jud = '在10%的显著性水平下有样本外预测能力'\n",
    "    else:\n",
    "        jud = '无样本外预测能力'\n",
    "    print('Stat gains: R2os = {:f}, MFSEadj = {:f}, MFSEpvalue = {:f}'.format(R2os, MFSEadj, pvalue_MFSEadj))\n",
    "    print('Inference: {:s}'.format(jud))\n",
    "\n",
    "    return R2os, MFSEadj, pvalue_MFSEadj"
   ],
   "metadata": {
    "collapsed": false
   }
  },
  {
   "cell_type": "code",
   "execution_count": 328,
   "outputs": [],
   "source": [
    "def myfun_econ_gains(rout, rmean, rreal, rfree, volt2, gmm = 5):\n",
    "    omg_out = rout/volt2/gmm\n",
    "    rp_out = rfree + omg_out*rreal\n",
    "    Uout = np.mean(rp_out) - 0.5*gmm*np.var(rp_out)\n",
    "    omg_mean = rmean/volt2/gmm\n",
    "    rp_mean = rfree + omg_mean*rreal\n",
    "    Umean = np.mean(rp_mean) - 0.5*gmm*np.var(rp_mean)\n",
    "    DeltaU = Uout - Umean\n",
    "\n",
    "    if DeltaU < 10**-6:\n",
    "        jud = '没有经济意义'\n",
    "    else:\n",
    "        jud = '有经济意义'\n",
    "    print('Econ Gains: Delta U = {:f}, Upred = {:f}, Umean = {:f}'.format(DeltaU, Uout, Umean))\n",
    "    print('Inference: {:s}'.format(jud))\n",
    "\n",
    "    return Uout, Umean, DeltaU"
   ],
   "metadata": {
    "collapsed": false
   }
  },
  {
   "cell_type": "code",
   "execution_count": 329,
   "outputs": [
    {
     "data": {
      "text/plain": "    yearmonth  monret  monrfret     Exret     pe   eps      roe  incomeps  \\\n3      200104 -0.0607  0.001650 -0.062350  55.50  0.63  14.3911     13.77   \n4      200105  0.0067  0.001650  0.005050  55.87  0.63  14.3911     13.77   \n5      200106  0.0364  0.001650  0.034750  57.90  0.63  14.3911     13.77   \n6      200107 -0.1131  0.001650 -0.114750  46.98  0.32  10.4062      6.25   \n7      200108 -0.0752  0.001650 -0.076850  43.45  0.32  10.4062      6.25   \n..        ...     ...       ...       ...    ...   ...      ...       ...   \n252    202208  0.0226  0.001366  0.021234  22.74  0.07   1.5237      3.64   \n253    202209 -0.1155  0.001342 -0.116842  23.72  0.07   1.5237      3.09   \n254    202210  0.0139  0.001413  0.012487  20.36  0.09   2.0465      4.28   \n255    202211  0.0301  0.001676  0.028424  20.97  0.09   2.0465      4.28   \n256    202212 -0.0505  0.001931 -0.052431  19.91  0.09   2.0465      4.28   \n\n     monfulturnr    beta  volatility  liquidity  peakpoint     RSkew  \n3         2.1684  0.9612    0.002895  -0.003260   0.636700 -0.691407  \n4         2.2173  0.9716    0.002996   0.000360   0.622167  0.265493  \n5         2.8931  0.9716    0.004116   0.001926   0.625616  1.901342  \n6         1.3354  0.9704    0.003630  -0.006235   0.994971 -1.864609  \n7         2.8900  1.0312    0.006786  -0.004012   0.872862 -2.119557  \n..           ...     ...         ...        ...        ...       ...  \n252      15.1723  0.9284    0.008940   0.001062   0.944828 -0.055562  \n253       9.0525  0.9805    0.004417  -0.005528   0.933333 -1.076543  \n254       4.9947  0.9228    0.004023   0.000686   0.882759 -0.113187  \n255      11.4118  0.8593    0.002728   0.001426   0.936740  1.050587  \n256      12.7485  0.8355    0.004465  -0.002381   0.963054  1.202929  \n\n[254 rows x 14 columns]",
      "text/html": "<div>\n<style scoped>\n    .dataframe tbody tr th:only-of-type {\n        vertical-align: middle;\n    }\n\n    .dataframe tbody tr th {\n        vertical-align: top;\n    }\n\n    .dataframe thead th {\n        text-align: right;\n    }\n</style>\n<table border=\"1\" class=\"dataframe\">\n  <thead>\n    <tr style=\"text-align: right;\">\n      <th></th>\n      <th>yearmonth</th>\n      <th>monret</th>\n      <th>monrfret</th>\n      <th>Exret</th>\n      <th>pe</th>\n      <th>eps</th>\n      <th>roe</th>\n      <th>incomeps</th>\n      <th>monfulturnr</th>\n      <th>beta</th>\n      <th>volatility</th>\n      <th>liquidity</th>\n      <th>peakpoint</th>\n      <th>RSkew</th>\n    </tr>\n  </thead>\n  <tbody>\n    <tr>\n      <th>3</th>\n      <td>200104</td>\n      <td>-0.0607</td>\n      <td>0.001650</td>\n      <td>-0.062350</td>\n      <td>55.50</td>\n      <td>0.63</td>\n      <td>14.3911</td>\n      <td>13.77</td>\n      <td>2.1684</td>\n      <td>0.9612</td>\n      <td>0.002895</td>\n      <td>-0.003260</td>\n      <td>0.636700</td>\n      <td>-0.691407</td>\n    </tr>\n    <tr>\n      <th>4</th>\n      <td>200105</td>\n      <td>0.0067</td>\n      <td>0.001650</td>\n      <td>0.005050</td>\n      <td>55.87</td>\n      <td>0.63</td>\n      <td>14.3911</td>\n      <td>13.77</td>\n      <td>2.2173</td>\n      <td>0.9716</td>\n      <td>0.002996</td>\n      <td>0.000360</td>\n      <td>0.622167</td>\n      <td>0.265493</td>\n    </tr>\n    <tr>\n      <th>5</th>\n      <td>200106</td>\n      <td>0.0364</td>\n      <td>0.001650</td>\n      <td>0.034750</td>\n      <td>57.90</td>\n      <td>0.63</td>\n      <td>14.3911</td>\n      <td>13.77</td>\n      <td>2.8931</td>\n      <td>0.9716</td>\n      <td>0.004116</td>\n      <td>0.001926</td>\n      <td>0.625616</td>\n      <td>1.901342</td>\n    </tr>\n    <tr>\n      <th>6</th>\n      <td>200107</td>\n      <td>-0.1131</td>\n      <td>0.001650</td>\n      <td>-0.114750</td>\n      <td>46.98</td>\n      <td>0.32</td>\n      <td>10.4062</td>\n      <td>6.25</td>\n      <td>1.3354</td>\n      <td>0.9704</td>\n      <td>0.003630</td>\n      <td>-0.006235</td>\n      <td>0.994971</td>\n      <td>-1.864609</td>\n    </tr>\n    <tr>\n      <th>7</th>\n      <td>200108</td>\n      <td>-0.0752</td>\n      <td>0.001650</td>\n      <td>-0.076850</td>\n      <td>43.45</td>\n      <td>0.32</td>\n      <td>10.4062</td>\n      <td>6.25</td>\n      <td>2.8900</td>\n      <td>1.0312</td>\n      <td>0.006786</td>\n      <td>-0.004012</td>\n      <td>0.872862</td>\n      <td>-2.119557</td>\n    </tr>\n    <tr>\n      <th>...</th>\n      <td>...</td>\n      <td>...</td>\n      <td>...</td>\n      <td>...</td>\n      <td>...</td>\n      <td>...</td>\n      <td>...</td>\n      <td>...</td>\n      <td>...</td>\n      <td>...</td>\n      <td>...</td>\n      <td>...</td>\n      <td>...</td>\n      <td>...</td>\n    </tr>\n    <tr>\n      <th>252</th>\n      <td>202208</td>\n      <td>0.0226</td>\n      <td>0.001366</td>\n      <td>0.021234</td>\n      <td>22.74</td>\n      <td>0.07</td>\n      <td>1.5237</td>\n      <td>3.64</td>\n      <td>15.1723</td>\n      <td>0.9284</td>\n      <td>0.008940</td>\n      <td>0.001062</td>\n      <td>0.944828</td>\n      <td>-0.055562</td>\n    </tr>\n    <tr>\n      <th>253</th>\n      <td>202209</td>\n      <td>-0.1155</td>\n      <td>0.001342</td>\n      <td>-0.116842</td>\n      <td>23.72</td>\n      <td>0.07</td>\n      <td>1.5237</td>\n      <td>3.09</td>\n      <td>9.0525</td>\n      <td>0.9805</td>\n      <td>0.004417</td>\n      <td>-0.005528</td>\n      <td>0.933333</td>\n      <td>-1.076543</td>\n    </tr>\n    <tr>\n      <th>254</th>\n      <td>202210</td>\n      <td>0.0139</td>\n      <td>0.001413</td>\n      <td>0.012487</td>\n      <td>20.36</td>\n      <td>0.09</td>\n      <td>2.0465</td>\n      <td>4.28</td>\n      <td>4.9947</td>\n      <td>0.9228</td>\n      <td>0.004023</td>\n      <td>0.000686</td>\n      <td>0.882759</td>\n      <td>-0.113187</td>\n    </tr>\n    <tr>\n      <th>255</th>\n      <td>202211</td>\n      <td>0.0301</td>\n      <td>0.001676</td>\n      <td>0.028424</td>\n      <td>20.97</td>\n      <td>0.09</td>\n      <td>2.0465</td>\n      <td>4.28</td>\n      <td>11.4118</td>\n      <td>0.8593</td>\n      <td>0.002728</td>\n      <td>0.001426</td>\n      <td>0.936740</td>\n      <td>1.050587</td>\n    </tr>\n    <tr>\n      <th>256</th>\n      <td>202212</td>\n      <td>-0.0505</td>\n      <td>0.001931</td>\n      <td>-0.052431</td>\n      <td>19.91</td>\n      <td>0.09</td>\n      <td>2.0465</td>\n      <td>4.28</td>\n      <td>12.7485</td>\n      <td>0.8355</td>\n      <td>0.004465</td>\n      <td>-0.002381</td>\n      <td>0.963054</td>\n      <td>1.202929</td>\n    </tr>\n  </tbody>\n</table>\n<p>254 rows × 14 columns</p>\n</div>"
     },
     "execution_count": 329,
     "metadata": {},
     "output_type": "execute_result"
    }
   ],
   "source": [
    "data=month_final\n",
    "data['Exret']=data['monret']-data['monrfret']\n",
    "data=data[['yearmonth','monret','monrfret','Exret','pe','eps','roe','incomeps','monfulturnr','beta','volatility','liquidity','peakpoint','RSkew']]\n",
    "data"
   ],
   "metadata": {
    "collapsed": false
   }
  },
  {
   "cell_type": "code",
   "execution_count": 330,
   "outputs": [
    {
     "name": "stdout",
     "output_type": "stream",
     "text": [
      "In-sample tests for one factor model with OLS:\n",
      "Predictor: pe\n",
      "Regressing Results: b = -0.035785, k = 0.001706\n",
      "Regressing Pvalues: p = 0.064039, p = 0.007857\n",
      "Inference: 在1%的显著性水平下有样本内预测能力\n",
      "In-sample tests for one factor model with OLS:\n",
      "Predictor: eps\n",
      "Regressing Results: b = 0.010229, k = -0.002028\n",
      "Regressing Pvalues: p = 0.452604, p = 0.952433\n",
      "Inference: 无样本内预测能力\n",
      "In-sample tests for one factor model with OLS:\n",
      "Predictor: roe\n",
      "Regressing Results: b = 0.009054, k = 0.000113\n",
      "Regressing Pvalues: p = 0.609831, p = 0.969530\n",
      "Inference: 无样本内预测能力\n",
      "In-sample tests for one factor model with OLS:\n",
      "Predictor: incomeps\n",
      "Regressing Results: b = -0.000299, k = 0.001719\n",
      "Regressing Pvalues: p = 0.986288, p = 0.501143\n",
      "Inference: 无样本内预测能力\n",
      "In-sample tests for one factor model with OLS:\n",
      "Predictor: monfulturnr\n",
      "Regressing Results: b = -0.046844, k = 0.002139\n",
      "Regressing Pvalues: p = 0.000159, p = 0.000000\n",
      "Inference: 在1%的显著性水平下有样本内预测能力\n",
      "In-sample tests for one factor model with OLS:\n",
      "Predictor: beta\n",
      "Regressing Results: b = -0.048494, k = 0.057102\n",
      "Regressing Pvalues: p = 0.066496, p = 0.019265\n",
      "Inference: 在5%的显著性水平下有样本内预测能力\n",
      "In-sample tests for one factor model with OLS:\n",
      "Predictor: volatility\n",
      "Regressing Results: b = -0.008093, k = 1.030551\n",
      "Regressing Pvalues: p = 0.513433, p = 0.034130\n",
      "Inference: 在5%的显著性水平下有样本内预测能力\n",
      "In-sample tests for one factor model with OLS:\n",
      "Predictor: liquidity\n",
      "Regressing Results: b = -0.000804, k = 21.355018\n",
      "Regressing Pvalues: p = 0.187262, p = 0.000000\n",
      "Inference: 在1%的显著性水平下有样本内预测能力\n",
      "In-sample tests for one factor model with OLS:\n",
      "Predictor: peakpoint\n",
      "Regressing Results: b = -0.396841, k = 0.443818\n",
      "Regressing Pvalues: p = 0.000000, p = 0.000000\n",
      "Inference: 在1%的显著性水平下有样本内预测能力\n",
      "In-sample tests for one factor model with OLS:\n",
      "Predictor: RSkew\n",
      "Regressing Results: b = 0.002258, k = 0.089842\n",
      "Regressing Pvalues: p = 0.765616, p = 0.000000\n",
      "Inference: 在1%的显著性水平下有样本内预测能力\n"
     ]
    }
   ],
   "source": [
    "# 样本内检验\n",
    "# 单因子模型：OLS线性拟合\n",
    "for i in data.columns[4:]:\n",
    "    factor=i\n",
    "    model = smf.ols(f'Exret ~ {i}', data=data[['Exret', i]])\n",
    "    results = model.fit()\n",
    "    rg_con = results.params['Intercept']\n",
    "    rg_con_pvalue = results.pvalues['Intercept']\n",
    "    rg_i = results.params[i]\n",
    "    rg_i_pvalue = results.pvalues[i]\n",
    "    if rg_i_pvalue <= 0.01:\n",
    "        jud = '在1%的显著性水平下有样本内预测能力'\n",
    "    elif (rg_i_pvalue > 0.01) & (rg_i_pvalue <= 0.05):\n",
    "        jud = '在5%的显著性水平下有样本内预测能力'\n",
    "    elif (rg_i_pvalue > 0.05) & (rg_i_pvalue <= 0.1):\n",
    "        jud = '在10%的显著性水平下有样本内预测能力'\n",
    "    else:\n",
    "        jud = '无样本内预测能力'\n",
    "    print('In-sample tests for one factor model with OLS:')\n",
    "    print('Predictor: {:s}'.format(factor))\n",
    "    print('Regressing Results: b = {:f}, k = {:f}'.format(rg_con, rg_i))\n",
    "    print('Regressing Pvalues: p = {:f}, p = {:f}'.format(rg_con_pvalue, rg_i_pvalue))\n",
    "    print('Inference: {:s}'.format(jud))"
   ],
   "metadata": {
    "collapsed": false
   }
  },
  {
   "cell_type": "code",
   "execution_count": 331,
   "outputs": [
    {
     "data": {
      "text/plain": "    yearmonth  monret  monrfret     Exret     pe   eps      roe  incomeps  \\\n3      200104 -0.0607  0.001650 -0.062350  55.50  0.63  14.3911     13.77   \n4      200105  0.0067  0.001650  0.005050  55.87  0.63  14.3911     13.77   \n5      200106  0.0364  0.001650  0.034750  57.90  0.63  14.3911     13.77   \n6      200107 -0.1131  0.001650 -0.114750  46.98  0.32  10.4062      6.25   \n7      200108 -0.0752  0.001650 -0.076850  43.45  0.32  10.4062      6.25   \n..        ...     ...       ...       ...    ...   ...      ...       ...   \n252    202208  0.0226  0.001366  0.021234  22.74  0.07   1.5237      3.64   \n253    202209 -0.1155  0.001342 -0.116842  23.72  0.07   1.5237      3.09   \n254    202210  0.0139  0.001413  0.012487  20.36  0.09   2.0465      4.28   \n255    202211  0.0301  0.001676  0.028424  20.97  0.09   2.0465      4.28   \n256    202212 -0.0505  0.001931 -0.052431  19.91  0.09   2.0465      4.28   \n\n     monfulturnr    beta  ...     pe   eps      roe  incomeps  monfulturnr  \\\n3         2.1684  0.9612  ...    NaN   NaN      NaN       NaN          NaN   \n4         2.2173  0.9716  ...  55.50  0.63  14.3911     13.77       2.1684   \n5         2.8931  0.9716  ...  55.87  0.63  14.3911     13.77       2.2173   \n6         1.3354  0.9704  ...  57.90  0.63  14.3911     13.77       2.8931   \n7         2.8900  1.0312  ...  46.98  0.32  10.4062      6.25       1.3354   \n..           ...     ...  ...    ...   ...      ...       ...          ...   \n252      15.1723  0.9284  ...  22.23  0.23   4.9350      5.86      21.5034   \n253       9.0525  0.9805  ...  22.74  0.07   1.5237      3.64      15.1723   \n254       4.9947  0.9228  ...  23.72  0.07   1.5237      3.09       9.0525   \n255      11.4118  0.8593  ...  20.36  0.09   2.0465      4.28       4.9947   \n256      12.7485  0.8355  ...  20.97  0.09   2.0465      4.28      11.4118   \n\n       beta  volatility  liquidity  peakpoint     RSkew  \n3       NaN         NaN        NaN        NaN       NaN  \n4    0.9612    0.002895  -0.003260   0.636700 -0.691407  \n5    0.9716    0.002996   0.000360   0.622167  0.265493  \n6    0.9716    0.004116   0.001926   0.625616  1.901342  \n7    0.9704    0.003630  -0.006235   0.994971 -1.864609  \n..      ...         ...        ...        ...       ...  \n252  0.9423    0.017784  -0.000346   0.979730  1.688920  \n253  0.9284    0.008940   0.001062   0.944828 -0.055562  \n254  0.9805    0.004417  -0.005528   0.933333 -1.076543  \n255  0.9228    0.004023   0.000686   0.882759 -0.113187  \n256  0.8593    0.002728   0.001426   0.936740  1.050587  \n\n[254 rows x 24 columns]",
      "text/html": "<div>\n<style scoped>\n    .dataframe tbody tr th:only-of-type {\n        vertical-align: middle;\n    }\n\n    .dataframe tbody tr th {\n        vertical-align: top;\n    }\n\n    .dataframe thead th {\n        text-align: right;\n    }\n</style>\n<table border=\"1\" class=\"dataframe\">\n  <thead>\n    <tr style=\"text-align: right;\">\n      <th></th>\n      <th>yearmonth</th>\n      <th>monret</th>\n      <th>monrfret</th>\n      <th>Exret</th>\n      <th>pe</th>\n      <th>eps</th>\n      <th>roe</th>\n      <th>incomeps</th>\n      <th>monfulturnr</th>\n      <th>beta</th>\n      <th>...</th>\n      <th>pe</th>\n      <th>eps</th>\n      <th>roe</th>\n      <th>incomeps</th>\n      <th>monfulturnr</th>\n      <th>beta</th>\n      <th>volatility</th>\n      <th>liquidity</th>\n      <th>peakpoint</th>\n      <th>RSkew</th>\n    </tr>\n  </thead>\n  <tbody>\n    <tr>\n      <th>3</th>\n      <td>200104</td>\n      <td>-0.0607</td>\n      <td>0.001650</td>\n      <td>-0.062350</td>\n      <td>55.50</td>\n      <td>0.63</td>\n      <td>14.3911</td>\n      <td>13.77</td>\n      <td>2.1684</td>\n      <td>0.9612</td>\n      <td>...</td>\n      <td>NaN</td>\n      <td>NaN</td>\n      <td>NaN</td>\n      <td>NaN</td>\n      <td>NaN</td>\n      <td>NaN</td>\n      <td>NaN</td>\n      <td>NaN</td>\n      <td>NaN</td>\n      <td>NaN</td>\n    </tr>\n    <tr>\n      <th>4</th>\n      <td>200105</td>\n      <td>0.0067</td>\n      <td>0.001650</td>\n      <td>0.005050</td>\n      <td>55.87</td>\n      <td>0.63</td>\n      <td>14.3911</td>\n      <td>13.77</td>\n      <td>2.2173</td>\n      <td>0.9716</td>\n      <td>...</td>\n      <td>55.50</td>\n      <td>0.63</td>\n      <td>14.3911</td>\n      <td>13.77</td>\n      <td>2.1684</td>\n      <td>0.9612</td>\n      <td>0.002895</td>\n      <td>-0.003260</td>\n      <td>0.636700</td>\n      <td>-0.691407</td>\n    </tr>\n    <tr>\n      <th>5</th>\n      <td>200106</td>\n      <td>0.0364</td>\n      <td>0.001650</td>\n      <td>0.034750</td>\n      <td>57.90</td>\n      <td>0.63</td>\n      <td>14.3911</td>\n      <td>13.77</td>\n      <td>2.8931</td>\n      <td>0.9716</td>\n      <td>...</td>\n      <td>55.87</td>\n      <td>0.63</td>\n      <td>14.3911</td>\n      <td>13.77</td>\n      <td>2.2173</td>\n      <td>0.9716</td>\n      <td>0.002996</td>\n      <td>0.000360</td>\n      <td>0.622167</td>\n      <td>0.265493</td>\n    </tr>\n    <tr>\n      <th>6</th>\n      <td>200107</td>\n      <td>-0.1131</td>\n      <td>0.001650</td>\n      <td>-0.114750</td>\n      <td>46.98</td>\n      <td>0.32</td>\n      <td>10.4062</td>\n      <td>6.25</td>\n      <td>1.3354</td>\n      <td>0.9704</td>\n      <td>...</td>\n      <td>57.90</td>\n      <td>0.63</td>\n      <td>14.3911</td>\n      <td>13.77</td>\n      <td>2.8931</td>\n      <td>0.9716</td>\n      <td>0.004116</td>\n      <td>0.001926</td>\n      <td>0.625616</td>\n      <td>1.901342</td>\n    </tr>\n    <tr>\n      <th>7</th>\n      <td>200108</td>\n      <td>-0.0752</td>\n      <td>0.001650</td>\n      <td>-0.076850</td>\n      <td>43.45</td>\n      <td>0.32</td>\n      <td>10.4062</td>\n      <td>6.25</td>\n      <td>2.8900</td>\n      <td>1.0312</td>\n      <td>...</td>\n      <td>46.98</td>\n      <td>0.32</td>\n      <td>10.4062</td>\n      <td>6.25</td>\n      <td>1.3354</td>\n      <td>0.9704</td>\n      <td>0.003630</td>\n      <td>-0.006235</td>\n      <td>0.994971</td>\n      <td>-1.864609</td>\n    </tr>\n    <tr>\n      <th>...</th>\n      <td>...</td>\n      <td>...</td>\n      <td>...</td>\n      <td>...</td>\n      <td>...</td>\n      <td>...</td>\n      <td>...</td>\n      <td>...</td>\n      <td>...</td>\n      <td>...</td>\n      <td>...</td>\n      <td>...</td>\n      <td>...</td>\n      <td>...</td>\n      <td>...</td>\n      <td>...</td>\n      <td>...</td>\n      <td>...</td>\n      <td>...</td>\n      <td>...</td>\n      <td>...</td>\n    </tr>\n    <tr>\n      <th>252</th>\n      <td>202208</td>\n      <td>0.0226</td>\n      <td>0.001366</td>\n      <td>0.021234</td>\n      <td>22.74</td>\n      <td>0.07</td>\n      <td>1.5237</td>\n      <td>3.64</td>\n      <td>15.1723</td>\n      <td>0.9284</td>\n      <td>...</td>\n      <td>22.23</td>\n      <td>0.23</td>\n      <td>4.9350</td>\n      <td>5.86</td>\n      <td>21.5034</td>\n      <td>0.9423</td>\n      <td>0.017784</td>\n      <td>-0.000346</td>\n      <td>0.979730</td>\n      <td>1.688920</td>\n    </tr>\n    <tr>\n      <th>253</th>\n      <td>202209</td>\n      <td>-0.1155</td>\n      <td>0.001342</td>\n      <td>-0.116842</td>\n      <td>23.72</td>\n      <td>0.07</td>\n      <td>1.5237</td>\n      <td>3.09</td>\n      <td>9.0525</td>\n      <td>0.9805</td>\n      <td>...</td>\n      <td>22.74</td>\n      <td>0.07</td>\n      <td>1.5237</td>\n      <td>3.64</td>\n      <td>15.1723</td>\n      <td>0.9284</td>\n      <td>0.008940</td>\n      <td>0.001062</td>\n      <td>0.944828</td>\n      <td>-0.055562</td>\n    </tr>\n    <tr>\n      <th>254</th>\n      <td>202210</td>\n      <td>0.0139</td>\n      <td>0.001413</td>\n      <td>0.012487</td>\n      <td>20.36</td>\n      <td>0.09</td>\n      <td>2.0465</td>\n      <td>4.28</td>\n      <td>4.9947</td>\n      <td>0.9228</td>\n      <td>...</td>\n      <td>23.72</td>\n      <td>0.07</td>\n      <td>1.5237</td>\n      <td>3.09</td>\n      <td>9.0525</td>\n      <td>0.9805</td>\n      <td>0.004417</td>\n      <td>-0.005528</td>\n      <td>0.933333</td>\n      <td>-1.076543</td>\n    </tr>\n    <tr>\n      <th>255</th>\n      <td>202211</td>\n      <td>0.0301</td>\n      <td>0.001676</td>\n      <td>0.028424</td>\n      <td>20.97</td>\n      <td>0.09</td>\n      <td>2.0465</td>\n      <td>4.28</td>\n      <td>11.4118</td>\n      <td>0.8593</td>\n      <td>...</td>\n      <td>20.36</td>\n      <td>0.09</td>\n      <td>2.0465</td>\n      <td>4.28</td>\n      <td>4.9947</td>\n      <td>0.9228</td>\n      <td>0.004023</td>\n      <td>0.000686</td>\n      <td>0.882759</td>\n      <td>-0.113187</td>\n    </tr>\n    <tr>\n      <th>256</th>\n      <td>202212</td>\n      <td>-0.0505</td>\n      <td>0.001931</td>\n      <td>-0.052431</td>\n      <td>19.91</td>\n      <td>0.09</td>\n      <td>2.0465</td>\n      <td>4.28</td>\n      <td>12.7485</td>\n      <td>0.8355</td>\n      <td>...</td>\n      <td>20.97</td>\n      <td>0.09</td>\n      <td>2.0465</td>\n      <td>4.28</td>\n      <td>11.4118</td>\n      <td>0.8593</td>\n      <td>0.002728</td>\n      <td>0.001426</td>\n      <td>0.936740</td>\n      <td>1.050587</td>\n    </tr>\n  </tbody>\n</table>\n<p>254 rows × 24 columns</p>\n</div>"
     },
     "execution_count": 331,
     "metadata": {},
     "output_type": "execute_result"
    }
   ],
   "source": [
    "data = pd.concat([data[['yearmonth','monret','monrfret','Exret','pe','eps','roe','incomeps','monfulturnr','beta','volatility','liquidity','peakpoint','RSkew']],\n",
    "                  data[['pe','eps','roe','incomeps','monfulturnr','beta','volatility','liquidity','peakpoint','RSkew']].shift(periods=1)], axis=1)\n",
    "data"
   ],
   "metadata": {
    "collapsed": false
   }
  },
  {
   "cell_type": "code",
   "execution_count": 332,
   "outputs": [
    {
     "data": {
      "text/plain": "    yearmonth  monret  monrfret     Exret     pe   eps      roe  incomeps  \\\n3      200104 -0.0607  0.001650 -0.062350  55.50  0.63  14.3911     13.77   \n4      200105  0.0067  0.001650  0.005050  55.87  0.63  14.3911     13.77   \n5      200106  0.0364  0.001650  0.034750  57.90  0.63  14.3911     13.77   \n6      200107 -0.1131  0.001650 -0.114750  46.98  0.32  10.4062      6.25   \n7      200108 -0.0752  0.001650 -0.076850  43.45  0.32  10.4062      6.25   \n..        ...     ...       ...       ...    ...   ...      ...       ...   \n252    202208  0.0226  0.001366  0.021234  22.74  0.07   1.5237      3.64   \n253    202209 -0.1155  0.001342 -0.116842  23.72  0.07   1.5237      3.09   \n254    202210  0.0139  0.001413  0.012487  20.36  0.09   2.0465      4.28   \n255    202211  0.0301  0.001676  0.028424  20.97  0.09   2.0465      4.28   \n256    202212 -0.0505  0.001931 -0.052431  19.91  0.09   2.0465      4.28   \n\n     monfulturnr    beta  ...    pe1  eps1     roe1  incomeps1  monfulturnr1  \\\n3         2.1684  0.9612  ...    NaN   NaN      NaN        NaN           NaN   \n4         2.2173  0.9716  ...  55.50  0.63  14.3911      13.77        2.1684   \n5         2.8931  0.9716  ...  55.87  0.63  14.3911      13.77        2.2173   \n6         1.3354  0.9704  ...  57.90  0.63  14.3911      13.77        2.8931   \n7         2.8900  1.0312  ...  46.98  0.32  10.4062       6.25        1.3354   \n..           ...     ...  ...    ...   ...      ...        ...           ...   \n252      15.1723  0.9284  ...  22.23  0.23   4.9350       5.86       21.5034   \n253       9.0525  0.9805  ...  22.74  0.07   1.5237       3.64       15.1723   \n254       4.9947  0.9228  ...  23.72  0.07   1.5237       3.09        9.0525   \n255      11.4118  0.8593  ...  20.36  0.09   2.0465       4.28        4.9947   \n256      12.7485  0.8355  ...  20.97  0.09   2.0465       4.28       11.4118   \n\n      beta1  volatility1  liquidity1  peakpoint1    RSkew1  \n3       NaN          NaN         NaN         NaN       NaN  \n4    0.9612     0.002895   -0.003260    0.636700 -0.691407  \n5    0.9716     0.002996    0.000360    0.622167  0.265493  \n6    0.9716     0.004116    0.001926    0.625616  1.901342  \n7    0.9704     0.003630   -0.006235    0.994971 -1.864609  \n..      ...          ...         ...         ...       ...  \n252  0.9423     0.017784   -0.000346    0.979730  1.688920  \n253  0.9284     0.008940    0.001062    0.944828 -0.055562  \n254  0.9805     0.004417   -0.005528    0.933333 -1.076543  \n255  0.9228     0.004023    0.000686    0.882759 -0.113187  \n256  0.8593     0.002728    0.001426    0.936740  1.050587  \n\n[254 rows x 24 columns]",
      "text/html": "<div>\n<style scoped>\n    .dataframe tbody tr th:only-of-type {\n        vertical-align: middle;\n    }\n\n    .dataframe tbody tr th {\n        vertical-align: top;\n    }\n\n    .dataframe thead th {\n        text-align: right;\n    }\n</style>\n<table border=\"1\" class=\"dataframe\">\n  <thead>\n    <tr style=\"text-align: right;\">\n      <th></th>\n      <th>yearmonth</th>\n      <th>monret</th>\n      <th>monrfret</th>\n      <th>Exret</th>\n      <th>pe</th>\n      <th>eps</th>\n      <th>roe</th>\n      <th>incomeps</th>\n      <th>monfulturnr</th>\n      <th>beta</th>\n      <th>...</th>\n      <th>pe1</th>\n      <th>eps1</th>\n      <th>roe1</th>\n      <th>incomeps1</th>\n      <th>monfulturnr1</th>\n      <th>beta1</th>\n      <th>volatility1</th>\n      <th>liquidity1</th>\n      <th>peakpoint1</th>\n      <th>RSkew1</th>\n    </tr>\n  </thead>\n  <tbody>\n    <tr>\n      <th>3</th>\n      <td>200104</td>\n      <td>-0.0607</td>\n      <td>0.001650</td>\n      <td>-0.062350</td>\n      <td>55.50</td>\n      <td>0.63</td>\n      <td>14.3911</td>\n      <td>13.77</td>\n      <td>2.1684</td>\n      <td>0.9612</td>\n      <td>...</td>\n      <td>NaN</td>\n      <td>NaN</td>\n      <td>NaN</td>\n      <td>NaN</td>\n      <td>NaN</td>\n      <td>NaN</td>\n      <td>NaN</td>\n      <td>NaN</td>\n      <td>NaN</td>\n      <td>NaN</td>\n    </tr>\n    <tr>\n      <th>4</th>\n      <td>200105</td>\n      <td>0.0067</td>\n      <td>0.001650</td>\n      <td>0.005050</td>\n      <td>55.87</td>\n      <td>0.63</td>\n      <td>14.3911</td>\n      <td>13.77</td>\n      <td>2.2173</td>\n      <td>0.9716</td>\n      <td>...</td>\n      <td>55.50</td>\n      <td>0.63</td>\n      <td>14.3911</td>\n      <td>13.77</td>\n      <td>2.1684</td>\n      <td>0.9612</td>\n      <td>0.002895</td>\n      <td>-0.003260</td>\n      <td>0.636700</td>\n      <td>-0.691407</td>\n    </tr>\n    <tr>\n      <th>5</th>\n      <td>200106</td>\n      <td>0.0364</td>\n      <td>0.001650</td>\n      <td>0.034750</td>\n      <td>57.90</td>\n      <td>0.63</td>\n      <td>14.3911</td>\n      <td>13.77</td>\n      <td>2.8931</td>\n      <td>0.9716</td>\n      <td>...</td>\n      <td>55.87</td>\n      <td>0.63</td>\n      <td>14.3911</td>\n      <td>13.77</td>\n      <td>2.2173</td>\n      <td>0.9716</td>\n      <td>0.002996</td>\n      <td>0.000360</td>\n      <td>0.622167</td>\n      <td>0.265493</td>\n    </tr>\n    <tr>\n      <th>6</th>\n      <td>200107</td>\n      <td>-0.1131</td>\n      <td>0.001650</td>\n      <td>-0.114750</td>\n      <td>46.98</td>\n      <td>0.32</td>\n      <td>10.4062</td>\n      <td>6.25</td>\n      <td>1.3354</td>\n      <td>0.9704</td>\n      <td>...</td>\n      <td>57.90</td>\n      <td>0.63</td>\n      <td>14.3911</td>\n      <td>13.77</td>\n      <td>2.8931</td>\n      <td>0.9716</td>\n      <td>0.004116</td>\n      <td>0.001926</td>\n      <td>0.625616</td>\n      <td>1.901342</td>\n    </tr>\n    <tr>\n      <th>7</th>\n      <td>200108</td>\n      <td>-0.0752</td>\n      <td>0.001650</td>\n      <td>-0.076850</td>\n      <td>43.45</td>\n      <td>0.32</td>\n      <td>10.4062</td>\n      <td>6.25</td>\n      <td>2.8900</td>\n      <td>1.0312</td>\n      <td>...</td>\n      <td>46.98</td>\n      <td>0.32</td>\n      <td>10.4062</td>\n      <td>6.25</td>\n      <td>1.3354</td>\n      <td>0.9704</td>\n      <td>0.003630</td>\n      <td>-0.006235</td>\n      <td>0.994971</td>\n      <td>-1.864609</td>\n    </tr>\n    <tr>\n      <th>...</th>\n      <td>...</td>\n      <td>...</td>\n      <td>...</td>\n      <td>...</td>\n      <td>...</td>\n      <td>...</td>\n      <td>...</td>\n      <td>...</td>\n      <td>...</td>\n      <td>...</td>\n      <td>...</td>\n      <td>...</td>\n      <td>...</td>\n      <td>...</td>\n      <td>...</td>\n      <td>...</td>\n      <td>...</td>\n      <td>...</td>\n      <td>...</td>\n      <td>...</td>\n      <td>...</td>\n    </tr>\n    <tr>\n      <th>252</th>\n      <td>202208</td>\n      <td>0.0226</td>\n      <td>0.001366</td>\n      <td>0.021234</td>\n      <td>22.74</td>\n      <td>0.07</td>\n      <td>1.5237</td>\n      <td>3.64</td>\n      <td>15.1723</td>\n      <td>0.9284</td>\n      <td>...</td>\n      <td>22.23</td>\n      <td>0.23</td>\n      <td>4.9350</td>\n      <td>5.86</td>\n      <td>21.5034</td>\n      <td>0.9423</td>\n      <td>0.017784</td>\n      <td>-0.000346</td>\n      <td>0.979730</td>\n      <td>1.688920</td>\n    </tr>\n    <tr>\n      <th>253</th>\n      <td>202209</td>\n      <td>-0.1155</td>\n      <td>0.001342</td>\n      <td>-0.116842</td>\n      <td>23.72</td>\n      <td>0.07</td>\n      <td>1.5237</td>\n      <td>3.09</td>\n      <td>9.0525</td>\n      <td>0.9805</td>\n      <td>...</td>\n      <td>22.74</td>\n      <td>0.07</td>\n      <td>1.5237</td>\n      <td>3.64</td>\n      <td>15.1723</td>\n      <td>0.9284</td>\n      <td>0.008940</td>\n      <td>0.001062</td>\n      <td>0.944828</td>\n      <td>-0.055562</td>\n    </tr>\n    <tr>\n      <th>254</th>\n      <td>202210</td>\n      <td>0.0139</td>\n      <td>0.001413</td>\n      <td>0.012487</td>\n      <td>20.36</td>\n      <td>0.09</td>\n      <td>2.0465</td>\n      <td>4.28</td>\n      <td>4.9947</td>\n      <td>0.9228</td>\n      <td>...</td>\n      <td>23.72</td>\n      <td>0.07</td>\n      <td>1.5237</td>\n      <td>3.09</td>\n      <td>9.0525</td>\n      <td>0.9805</td>\n      <td>0.004417</td>\n      <td>-0.005528</td>\n      <td>0.933333</td>\n      <td>-1.076543</td>\n    </tr>\n    <tr>\n      <th>255</th>\n      <td>202211</td>\n      <td>0.0301</td>\n      <td>0.001676</td>\n      <td>0.028424</td>\n      <td>20.97</td>\n      <td>0.09</td>\n      <td>2.0465</td>\n      <td>4.28</td>\n      <td>11.4118</td>\n      <td>0.8593</td>\n      <td>...</td>\n      <td>20.36</td>\n      <td>0.09</td>\n      <td>2.0465</td>\n      <td>4.28</td>\n      <td>4.9947</td>\n      <td>0.9228</td>\n      <td>0.004023</td>\n      <td>0.000686</td>\n      <td>0.882759</td>\n      <td>-0.113187</td>\n    </tr>\n    <tr>\n      <th>256</th>\n      <td>202212</td>\n      <td>-0.0505</td>\n      <td>0.001931</td>\n      <td>-0.052431</td>\n      <td>19.91</td>\n      <td>0.09</td>\n      <td>2.0465</td>\n      <td>4.28</td>\n      <td>12.7485</td>\n      <td>0.8355</td>\n      <td>...</td>\n      <td>20.97</td>\n      <td>0.09</td>\n      <td>2.0465</td>\n      <td>4.28</td>\n      <td>11.4118</td>\n      <td>0.8593</td>\n      <td>0.002728</td>\n      <td>0.001426</td>\n      <td>0.936740</td>\n      <td>1.050587</td>\n    </tr>\n  </tbody>\n</table>\n<p>254 rows × 24 columns</p>\n</div>"
     },
     "execution_count": 332,
     "metadata": {},
     "output_type": "execute_result"
    }
   ],
   "source": [
    "data.columns = ['yearmonth','monret','monrfret','Exret','pe','eps','roe','incomeps','monfulturnr','beta','volatility','liquidity','peakpoint','RSkew','pe1','eps1','roe1','incomeps1','monfulturnr1','beta1','volatility1','liquidity1','peakpoint1','RSkew1']\n",
    "data"
   ],
   "metadata": {
    "collapsed": false
   }
  },
  {
   "cell_type": "code",
   "execution_count": 333,
   "outputs": [
    {
     "data": {
      "text/plain": "     yearmonth  monret  monrfret     Exret     pe   eps      roe  incomeps  \\\n3       200104 -0.0607  0.001650 -0.062350  55.50  0.63  14.3911     13.77   \n4       200105  0.0067  0.001650  0.005050  55.87  0.63  14.3911     13.77   \n5       200106  0.0364  0.001650  0.034750  57.90  0.63  14.3911     13.77   \n6       200107 -0.1131  0.001650 -0.114750  46.98  0.32  10.4062      6.25   \n7       200108 -0.0752  0.001650 -0.076850  43.45  0.32  10.4062      6.25   \n..         ...     ...       ...       ...    ...   ...      ...       ...   \n252     202208  0.0226  0.001366  0.021234  22.74  0.07   1.5237      3.64   \n253     202209 -0.1155  0.001342 -0.116842  23.72  0.07   1.5237      3.09   \n254     202210  0.0139  0.001413  0.012487  20.36  0.09   2.0465      4.28   \n255     202211  0.0301  0.001676  0.028424  20.97  0.09   2.0465      4.28   \n256     202212 -0.0505  0.001931 -0.052431  19.91  0.09   2.0465      4.28   \n\n     monfulturnr    beta  ...    pe1  eps1     roe1  incomeps1  monfulturnr1  \\\n3         2.1684  0.9612  ...    NaN   NaN      NaN        NaN           NaN   \n4         2.2173  0.9716  ...  55.50  0.63  14.3911      13.77        2.1684   \n5         2.8931  0.9716  ...  55.87  0.63  14.3911      13.77        2.2173   \n6         1.3354  0.9704  ...  57.90  0.63  14.3911      13.77        2.8931   \n7         2.8900  1.0312  ...  46.98  0.32  10.4062       6.25        1.3354   \n..           ...     ...  ...    ...   ...      ...        ...           ...   \n252      15.1723  0.9284  ...  22.23  0.23   4.9350       5.86       21.5034   \n253       9.0525  0.9805  ...  22.74  0.07   1.5237       3.64       15.1723   \n254       4.9947  0.9228  ...  23.72  0.07   1.5237       3.09        9.0525   \n255      11.4118  0.8593  ...  20.36  0.09   2.0465       4.28        4.9947   \n256      12.7485  0.8355  ...  20.97  0.09   2.0465       4.28       11.4118   \n\n      beta1  volatility1  liquidity1  peakpoint1    RSkew1  \n3       NaN          NaN         NaN         NaN       NaN  \n4    0.9612     0.002895   -0.003260    0.636700 -0.691407  \n5    0.9716     0.002996    0.000360    0.622167  0.265493  \n6    0.9716     0.004116    0.001926    0.625616  1.901342  \n7    0.9704     0.003630   -0.006235    0.994971 -1.864609  \n..      ...          ...         ...         ...       ...  \n252  0.9423     0.017784   -0.000346    0.979730  1.688920  \n253  0.9284     0.008940    0.001062    0.944828 -0.055562  \n254  0.9805     0.004417   -0.005528    0.933333 -1.076543  \n255  0.9228     0.004023    0.000686    0.882759 -0.113187  \n256  0.8593     0.002728    0.001426    0.936740  1.050587  \n\n[254 rows x 24 columns]",
      "text/html": "<div>\n<style scoped>\n    .dataframe tbody tr th:only-of-type {\n        vertical-align: middle;\n    }\n\n    .dataframe tbody tr th {\n        vertical-align: top;\n    }\n\n    .dataframe thead th {\n        text-align: right;\n    }\n</style>\n<table border=\"1\" class=\"dataframe\">\n  <thead>\n    <tr style=\"text-align: right;\">\n      <th></th>\n      <th>yearmonth</th>\n      <th>monret</th>\n      <th>monrfret</th>\n      <th>Exret</th>\n      <th>pe</th>\n      <th>eps</th>\n      <th>roe</th>\n      <th>incomeps</th>\n      <th>monfulturnr</th>\n      <th>beta</th>\n      <th>...</th>\n      <th>pe1</th>\n      <th>eps1</th>\n      <th>roe1</th>\n      <th>incomeps1</th>\n      <th>monfulturnr1</th>\n      <th>beta1</th>\n      <th>volatility1</th>\n      <th>liquidity1</th>\n      <th>peakpoint1</th>\n      <th>RSkew1</th>\n    </tr>\n  </thead>\n  <tbody>\n    <tr>\n      <th>3</th>\n      <td>200104</td>\n      <td>-0.0607</td>\n      <td>0.001650</td>\n      <td>-0.062350</td>\n      <td>55.50</td>\n      <td>0.63</td>\n      <td>14.3911</td>\n      <td>13.77</td>\n      <td>2.1684</td>\n      <td>0.9612</td>\n      <td>...</td>\n      <td>NaN</td>\n      <td>NaN</td>\n      <td>NaN</td>\n      <td>NaN</td>\n      <td>NaN</td>\n      <td>NaN</td>\n      <td>NaN</td>\n      <td>NaN</td>\n      <td>NaN</td>\n      <td>NaN</td>\n    </tr>\n    <tr>\n      <th>4</th>\n      <td>200105</td>\n      <td>0.0067</td>\n      <td>0.001650</td>\n      <td>0.005050</td>\n      <td>55.87</td>\n      <td>0.63</td>\n      <td>14.3911</td>\n      <td>13.77</td>\n      <td>2.2173</td>\n      <td>0.9716</td>\n      <td>...</td>\n      <td>55.50</td>\n      <td>0.63</td>\n      <td>14.3911</td>\n      <td>13.77</td>\n      <td>2.1684</td>\n      <td>0.9612</td>\n      <td>0.002895</td>\n      <td>-0.003260</td>\n      <td>0.636700</td>\n      <td>-0.691407</td>\n    </tr>\n    <tr>\n      <th>5</th>\n      <td>200106</td>\n      <td>0.0364</td>\n      <td>0.001650</td>\n      <td>0.034750</td>\n      <td>57.90</td>\n      <td>0.63</td>\n      <td>14.3911</td>\n      <td>13.77</td>\n      <td>2.8931</td>\n      <td>0.9716</td>\n      <td>...</td>\n      <td>55.87</td>\n      <td>0.63</td>\n      <td>14.3911</td>\n      <td>13.77</td>\n      <td>2.2173</td>\n      <td>0.9716</td>\n      <td>0.002996</td>\n      <td>0.000360</td>\n      <td>0.622167</td>\n      <td>0.265493</td>\n    </tr>\n    <tr>\n      <th>6</th>\n      <td>200107</td>\n      <td>-0.1131</td>\n      <td>0.001650</td>\n      <td>-0.114750</td>\n      <td>46.98</td>\n      <td>0.32</td>\n      <td>10.4062</td>\n      <td>6.25</td>\n      <td>1.3354</td>\n      <td>0.9704</td>\n      <td>...</td>\n      <td>57.90</td>\n      <td>0.63</td>\n      <td>14.3911</td>\n      <td>13.77</td>\n      <td>2.8931</td>\n      <td>0.9716</td>\n      <td>0.004116</td>\n      <td>0.001926</td>\n      <td>0.625616</td>\n      <td>1.901342</td>\n    </tr>\n    <tr>\n      <th>7</th>\n      <td>200108</td>\n      <td>-0.0752</td>\n      <td>0.001650</td>\n      <td>-0.076850</td>\n      <td>43.45</td>\n      <td>0.32</td>\n      <td>10.4062</td>\n      <td>6.25</td>\n      <td>2.8900</td>\n      <td>1.0312</td>\n      <td>...</td>\n      <td>46.98</td>\n      <td>0.32</td>\n      <td>10.4062</td>\n      <td>6.25</td>\n      <td>1.3354</td>\n      <td>0.9704</td>\n      <td>0.003630</td>\n      <td>-0.006235</td>\n      <td>0.994971</td>\n      <td>-1.864609</td>\n    </tr>\n    <tr>\n      <th>...</th>\n      <td>...</td>\n      <td>...</td>\n      <td>...</td>\n      <td>...</td>\n      <td>...</td>\n      <td>...</td>\n      <td>...</td>\n      <td>...</td>\n      <td>...</td>\n      <td>...</td>\n      <td>...</td>\n      <td>...</td>\n      <td>...</td>\n      <td>...</td>\n      <td>...</td>\n      <td>...</td>\n      <td>...</td>\n      <td>...</td>\n      <td>...</td>\n      <td>...</td>\n      <td>...</td>\n    </tr>\n    <tr>\n      <th>252</th>\n      <td>202208</td>\n      <td>0.0226</td>\n      <td>0.001366</td>\n      <td>0.021234</td>\n      <td>22.74</td>\n      <td>0.07</td>\n      <td>1.5237</td>\n      <td>3.64</td>\n      <td>15.1723</td>\n      <td>0.9284</td>\n      <td>...</td>\n      <td>22.23</td>\n      <td>0.23</td>\n      <td>4.9350</td>\n      <td>5.86</td>\n      <td>21.5034</td>\n      <td>0.9423</td>\n      <td>0.017784</td>\n      <td>-0.000346</td>\n      <td>0.979730</td>\n      <td>1.688920</td>\n    </tr>\n    <tr>\n      <th>253</th>\n      <td>202209</td>\n      <td>-0.1155</td>\n      <td>0.001342</td>\n      <td>-0.116842</td>\n      <td>23.72</td>\n      <td>0.07</td>\n      <td>1.5237</td>\n      <td>3.09</td>\n      <td>9.0525</td>\n      <td>0.9805</td>\n      <td>...</td>\n      <td>22.74</td>\n      <td>0.07</td>\n      <td>1.5237</td>\n      <td>3.64</td>\n      <td>15.1723</td>\n      <td>0.9284</td>\n      <td>0.008940</td>\n      <td>0.001062</td>\n      <td>0.944828</td>\n      <td>-0.055562</td>\n    </tr>\n    <tr>\n      <th>254</th>\n      <td>202210</td>\n      <td>0.0139</td>\n      <td>0.001413</td>\n      <td>0.012487</td>\n      <td>20.36</td>\n      <td>0.09</td>\n      <td>2.0465</td>\n      <td>4.28</td>\n      <td>4.9947</td>\n      <td>0.9228</td>\n      <td>...</td>\n      <td>23.72</td>\n      <td>0.07</td>\n      <td>1.5237</td>\n      <td>3.09</td>\n      <td>9.0525</td>\n      <td>0.9805</td>\n      <td>0.004417</td>\n      <td>-0.005528</td>\n      <td>0.933333</td>\n      <td>-1.076543</td>\n    </tr>\n    <tr>\n      <th>255</th>\n      <td>202211</td>\n      <td>0.0301</td>\n      <td>0.001676</td>\n      <td>0.028424</td>\n      <td>20.97</td>\n      <td>0.09</td>\n      <td>2.0465</td>\n      <td>4.28</td>\n      <td>11.4118</td>\n      <td>0.8593</td>\n      <td>...</td>\n      <td>20.36</td>\n      <td>0.09</td>\n      <td>2.0465</td>\n      <td>4.28</td>\n      <td>4.9947</td>\n      <td>0.9228</td>\n      <td>0.004023</td>\n      <td>0.000686</td>\n      <td>0.882759</td>\n      <td>-0.113187</td>\n    </tr>\n    <tr>\n      <th>256</th>\n      <td>202212</td>\n      <td>-0.0505</td>\n      <td>0.001931</td>\n      <td>-0.052431</td>\n      <td>19.91</td>\n      <td>0.09</td>\n      <td>2.0465</td>\n      <td>4.28</td>\n      <td>12.7485</td>\n      <td>0.8355</td>\n      <td>...</td>\n      <td>20.97</td>\n      <td>0.09</td>\n      <td>2.0465</td>\n      <td>4.28</td>\n      <td>11.4118</td>\n      <td>0.8593</td>\n      <td>0.002728</td>\n      <td>0.001426</td>\n      <td>0.936740</td>\n      <td>1.050587</td>\n    </tr>\n  </tbody>\n</table>\n<p>254 rows × 24 columns</p>\n</div>"
     },
     "execution_count": 333,
     "metadata": {},
     "output_type": "execute_result"
    }
   ],
   "source": [
    "data['yearmonth']=data['yearmonth'].astype(int)\n",
    "data"
   ],
   "metadata": {
    "collapsed": false
   }
  },
  {
   "cell_type": "code",
   "execution_count": 336,
   "outputs": [
    {
     "name": "stdout",
     "output_type": "stream",
     "text": [
      "\n",
      "Out-of-sample tests for one factor model with OLS:\n",
      "Predictor: pe\n",
      "Stat gains: R2os = 0.002228, MFSEadj = 1.950372, MFSEpvalue = 0.053047\n",
      "Inference: 在10%的显著性水平下有样本外预测能力\n",
      "Econ Gains: Delta U = 0.000232, Upred = 0.003108, Umean = 0.002876\n",
      "Inference: 有经济意义\n",
      "\n",
      "Out-of-sample tests for one factor model with OLS:\n",
      "Predictor: eps\n",
      "Stat gains: R2os = -0.018564, MFSEadj = -0.663603, MFSEpvalue = 0.507991\n",
      "Inference: 无样本外预测能力\n",
      "Econ Gains: Delta U = -0.000070, Upred = 0.002806, Umean = 0.002876\n",
      "Inference: 没有经济意义\n",
      "\n",
      "Out-of-sample tests for one factor model with OLS:\n",
      "Predictor: roe\n",
      "Stat gains: R2os = 0.005498, MFSEadj = 0.033869, MFSEpvalue = 0.973028\n",
      "Inference: 无样本外预测能力\n",
      "Econ Gains: Delta U = 0.000246, Upred = 0.003122, Umean = 0.002876\n",
      "Inference: 有经济意义\n",
      "\n",
      "Out-of-sample tests for one factor model with OLS:\n",
      "Predictor: incomeps\n",
      "Stat gains: R2os = 0.010602, MFSEadj = 1.181260, MFSEpvalue = 0.239420\n",
      "Inference: 无样本外预测能力\n",
      "Econ Gains: Delta U = 0.000497, Upred = 0.003373, Umean = 0.002876\n",
      "Inference: 有经济意义\n",
      "\n",
      "Out-of-sample tests for one factor model with OLS:\n",
      "Predictor: monfulturnr\n",
      "Stat gains: R2os = -0.139420, MFSEadj = -2.187762, MFSEpvalue = 0.030278\n",
      "Inference: 无样本外预测能力\n",
      "Econ Gains: Delta U = 0.000098, Upred = 0.002974, Umean = 0.002876\n",
      "Inference: 有经济意义\n",
      "\n",
      "Out-of-sample tests for one factor model with OLS:\n",
      "Predictor: beta\n",
      "Stat gains: R2os = -0.006956, MFSEadj = -1.360013, MFSEpvalue = 0.175922\n",
      "Inference: 无样本外预测能力\n",
      "Econ Gains: Delta U = 0.000220, Upred = 0.003096, Umean = 0.002876\n",
      "Inference: 有经济意义\n",
      "\n",
      "Out-of-sample tests for one factor model with OLS:\n",
      "Predictor: volatility\n",
      "Stat gains: R2os = -0.033915, MFSEadj = -1.558499, MFSEpvalue = 0.121280\n",
      "Inference: 无样本外预测能力\n",
      "Econ Gains: Delta U = -0.000193, Upred = 0.002683, Umean = 0.002876\n",
      "Inference: 没有经济意义\n",
      "\n",
      "Out-of-sample tests for one factor model with OLS:\n",
      "Predictor: liquidity\n",
      "Stat gains: R2os = -0.003509, MFSEadj = -0.592187, MFSEpvalue = 0.554641\n",
      "Inference: 无样本外预测能力\n",
      "Econ Gains: Delta U = -0.000036, Upred = 0.002840, Umean = 0.002876\n",
      "Inference: 没有经济意义\n",
      "\n",
      "Out-of-sample tests for one factor model with OLS:\n",
      "Predictor: peakpoint\n",
      "Stat gains: R2os = -0.020466, MFSEadj = -1.105580, MFSEpvalue = 0.270727\n",
      "Inference: 无样本外预测能力\n",
      "Econ Gains: Delta U = 0.000060, Upred = 0.002936, Umean = 0.002876\n",
      "Inference: 有经济意义\n",
      "\n",
      "Out-of-sample tests for one factor model with OLS:\n",
      "Predictor: RSkew\n",
      "Stat gains: R2os = -0.003309, MFSEadj = 0.691848, MFSEpvalue = 0.490132\n",
      "Inference: 无样本外预测能力\n",
      "Econ Gains: Delta U = -0.000177, Upred = 0.002699, Umean = 0.002876\n",
      "Inference: 没有经济意义\n"
     ]
    }
   ],
   "source": [
    "# 样本外检验\n",
    "# 单因子模型: OLS线性拟合\n",
    "for j in data.columns[4:14]:\n",
    "    factor_out=j\n",
    "    datafit = data[['yearmonth', 'monret', 'monrfret', 'Exret', j, j+'1']].copy(deep=True)\n",
    "    n_in = np.sum(datafit['yearmonth'] <= 201001)\n",
    "    n_out = np.sum(datafit['yearmonth'] > 201001)\n",
    "    rout = np.zeros(n_out)\n",
    "    rmean = np.zeros(n_out)\n",
    "    rreal = np.zeros(n_out)\n",
    "    rfree = np.zeros(n_out)\n",
    "    volt2 = np.zeros(n_out)\n",
    "    for i in range(n_out):\n",
    "        model = smf.ols('Exret ~ '+j+'1', data=datafit[['Exret', j+'1']].iloc[:(n_in+i),:])\n",
    "        results = model.fit()\n",
    "        b = results.params['Intercept']\n",
    "        k = results.params[j+'1']\n",
    "        f = datafit[j].iloc[n_in+i-1]\n",
    "        rreal[i] = datafit['Exret'].iloc[n_in+i]\n",
    "        rfree[i] = datafit['monrfret'].iloc[n_in+i]\n",
    "        rout[i] = k*f+b\n",
    "        rmean[i] = np.mean(datafit['Exret'].iloc[:(n_in+i)].values)\n",
    "        volt2[i] = np.sum(datafit['monret'].iloc[(n_in+i-12):(n_in+i)].values**2)\n",
    "    print()\n",
    "    print('Out-of-sample tests for one factor model with OLS:')\n",
    "    print('Predictor: {:s}'.format(factor_out))\n",
    "    R2os, MFSEadj, pvalue_MFSEadj = myfun_stat_gains(rout, rmean, rreal)\n",
    "    Uout, Umean, DeltaU = myfun_econ_gains(rout, rmean, rreal, rfree, volt2, gmm=5)\n",
    "    del datafit"
   ],
   "metadata": {
    "collapsed": false
   }
  },
  {
   "cell_type": "code",
   "execution_count": 335,
   "outputs": [
    {
     "name": "stdout",
     "output_type": "stream",
     "text": [
      "\n",
      "Out-of-sample tests for multi-factor model with ML method:\n",
      "Predictor: pe,eps,roe,incomeps,monfulturnr,beta,volatility,liquidity,peakpoint,RSkew\n",
      "Stat gains: R2os = -0.154528, MFSEadj = -1.704940, MFSEpvalue = 0.090332\n",
      "Inference: 无样本外预测能力\n",
      "Econ Gains: Delta U = -0.000540, Upred = 0.002336, Umean = 0.002876\n",
      "Inference: 没有经济意义\n",
      "\n",
      "Out-of-sample tests for multi-factor model with ML method:\n",
      "Predictor: pe,eps,roe,incomeps,monfulturnr,beta,volatility,liquidity,peakpoint,RSkew\n",
      "Stat gains: R2os = -0.229592, MFSEadj = -0.714942, MFSEpvalue = 0.475787\n",
      "Inference: 无样本外预测能力\n",
      "Econ Gains: Delta U = 0.000256, Upred = 0.003132, Umean = 0.002876\n",
      "Inference: 有经济意义\n",
      "\n",
      "Out-of-sample tests for multi-factor model with ML method:\n",
      "Predictor: pe,eps,roe,incomeps,monfulturnr,beta,volatility,liquidity,peakpoint,RSkew\n",
      "Stat gains: R2os = -0.154632, MFSEadj = -1.707924, MFSEpvalue = 0.089776\n",
      "Inference: 无样本外预测能力\n",
      "Econ Gains: Delta U = -0.000540, Upred = 0.002336, Umean = 0.002876\n",
      "Inference: 没有经济意义\n"
     ]
    }
   ],
   "source": [
    "data.dropna(inplace=True)\n",
    "factor_out = 'pe,eps,roe,incomeps,monfulturnr,beta,volatility,liquidity,peakpoint,RSkew'\n",
    "factor_list = np.array(['pe','eps','roe','incomeps','monfulturnr','beta','volatility','liquidity','peakpoint','RSkew'])\n",
    "datafit = data.copy(deep=True)\n",
    "n_in = np.sum(datafit['yearmonth'] <= 201001)\n",
    "n_out = np.sum(datafit['yearmonth'] > 201001)\n",
    "rout = np.zeros(n_out)\n",
    "rmean = np.zeros(n_out)\n",
    "rreal = np.zeros(n_out)\n",
    "rfree = np.zeros(n_out)\n",
    "volt2 = np.zeros(n_out)\n",
    "# reg = sklm.LassoCV(random_state=0, cv=10, fit_intercept=True, normalize=True, precompute='auto', copy_X=True, n_jobs=-1, max_iter=10**9, tol=10-6)\n",
    "# reg_lasso = linear_model.LassoLarsCV(cv=10, fit_intercept=True, normalize=True, precompute='auto', copy_X=True, n_jobs=-1, max_iter=10000000)\n",
    "# reg = sklm.RidgeCV(cv=10, fit_intercept=True)\n",
    "# reg = sklm.ElasticNetCV(random_state=0, cv=10, fit_intercept=True, precompute='auto', copy_X=True, n_jobs=-1, max_iter=10**9, tol=10-6)\n",
    "for j in range(3):\n",
    "    if j==0:\n",
    "        reg = sklm.LassoCV(random_state=0, cv=10, fit_intercept=True,precompute='auto', copy_X=True, n_jobs=-1, max_iter=10**9, tol=10-6)\n",
    "    elif j==1:\n",
    "        reg = sklm.RidgeCV(cv=10, fit_intercept=True)\n",
    "    else:\n",
    "        reg = sklm.ElasticNetCV(random_state=0, cv=10, fit_intercept=True, precompute='auto', copy_X=True, n_jobs=-1, max_iter=10**9, tol=10-6)\n",
    "    for i in range(n_out):\n",
    "        X = datafit[['pe1','eps1','roe1','incomeps1','monfulturnr1','beta1','volatility1','liquidity1','peakpoint1','RSkew1']].iloc[:(n_in+i), :].values\n",
    "        y = datafit['Exret'].iloc[:(n_in+i)].values\n",
    "        reg.fit(X, y)\n",
    "        # print(factor_list[np.abs(reg.coef_) != 0])\n",
    "        k = np.concatenate((np.array([reg.intercept_]), reg.coef_))\n",
    "        f = datafit[['pe','eps','roe','incomeps','monfulturnr','beta','volatility','liquidity','peakpoint','RSkew']].iloc[n_in+i-1, :].values\n",
    "        f = np.concatenate((np.array([1]), f))\n",
    "        rreal[i] = datafit['Exret'].iloc[n_in+i]\n",
    "        rfree[i] = datafit['monrfret'].iloc[n_in+i]\n",
    "        rout[i] = np.sum(k*f)\n",
    "        rmean[i] = np.mean(datafit['Exret'].iloc[:(n_in+i)].values)\n",
    "        volt2[i] = np.sum(datafit['monret'].iloc[(n_in+i-12):(n_in+i)].values**2)\n",
    "    print()\n",
    "    print('Out-of-sample tests for multi-factor model with ML method:')\n",
    "    print('Predictor: {:s}'.format(factor_out))\n",
    "    R2os, MFSEadj, pvalue_MFSEadj = myfun_stat_gains(rout, rmean, rreal)\n",
    "    Uout, Umean, DeltaU = myfun_econ_gains(rout, rmean, rreal, rfree, volt2, gmm=5)\n",
    "del datafit"
   ],
   "metadata": {
    "collapsed": false
   }
  },
  {
   "cell_type": "code",
   "execution_count": 335,
   "outputs": [],
   "source": [],
   "metadata": {
    "collapsed": false
   }
  }
 ],
 "metadata": {
  "kernelspec": {
   "name": "base",
   "language": "python",
   "display_name": "base"
  },
  "language_info": {
   "codemirror_mode": {
    "name": "ipython",
    "version": 2
   },
   "file_extension": ".py",
   "mimetype": "text/x-python",
   "name": "python",
   "nbconvert_exporter": "python",
   "pygments_lexer": "ipython2",
   "version": "2.7.6"
  }
 },
 "nbformat": 4,
 "nbformat_minor": 0
}
