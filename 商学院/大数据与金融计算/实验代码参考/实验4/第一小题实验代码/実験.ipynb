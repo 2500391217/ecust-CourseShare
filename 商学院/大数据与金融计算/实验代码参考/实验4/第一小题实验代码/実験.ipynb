{
 "cells": [
  {
   "cell_type": "code",
   "execution_count": 2,
   "metadata": {
    "collapsed": true
   },
   "outputs": [],
   "source": [
    "import numpy as np\n",
    "import pandas as pd\n",
    "from math import pi\n",
    "import warnings\n",
    "warnings.filterwarnings('ignore')\n",
    "import statsmodels.api as sm\n",
    "import statsmodels.formula.api as smf\n",
    "import sklearn.linear_model as sklm\n",
    "import matplotlib.pyplot as plt"
   ]
  },
  {
   "cell_type": "code",
   "execution_count": 3,
   "outputs": [
    {
     "data": {
      "text/plain": "      yyyymm        Index        D12     E12       b/m     tbl     AAA  \\\n0     187101     4.440000   0.260000    0.40       NaN     NaN     NaN   \n1     187102     4.500000   0.260000    0.40       NaN     NaN     NaN   \n2     187103     4.610000   0.260000    0.40       NaN     NaN     NaN   \n3     187104     4.740000   0.260000    0.40       NaN     NaN     NaN   \n4     187105     4.860000   0.260000    0.40       NaN     NaN     NaN   \n...      ...          ...        ...     ...       ...     ...     ...   \n1783  201908  2926.459961  56.838763  133.69  0.237917  0.0210  0.0298   \n1784  201909  2976.739990  57.219507  132.90  0.233377  0.0195  0.0303   \n1785  201910  3037.560059  57.559879  135.09  0.232261  0.0189  0.0301   \n1786  201911  3140.979980  57.900251  137.28  0.223938  0.0165  0.0306   \n1787  201912  3230.780029  58.240623  139.47  0.220116  0.0154  0.0301   \n\n         BAA     lty      ntis     Rfree      infl     ltr   corpr      svar  \\\n0        NaN     NaN       NaN  0.004967       NaN     NaN     NaN       NaN   \n1        NaN     NaN       NaN  0.004525       NaN     NaN     NaN       NaN   \n2        NaN     NaN       NaN  0.004252       NaN     NaN     NaN       NaN   \n3        NaN     NaN       NaN  0.004643       NaN     NaN     NaN       NaN   \n4        NaN     NaN       NaN  0.003698       NaN     NaN     NaN       NaN   \n...      ...     ...       ...       ...       ...     ...     ...       ...   \n1783  0.0387  0.0163 -0.010244  0.001625 -0.000051  0.0797  0.0738  0.004318   \n1784  0.0391  0.0170 -0.010959  0.001575  0.000783 -0.0192 -0.0190  0.000605   \n1785  0.0392  0.0171 -0.013267  0.001375  0.002286 -0.0052  0.0006  0.001510   \n1786  0.0394  0.0181 -0.007907  0.001283 -0.000536 -0.0059  0.0014  0.000306   \n1787  0.0388  0.0186 -0.007306  0.001283 -0.000910 -0.0253 -0.0089  0.000502   \n\n      csp  CRSP_SPvw  CRSP_SPvwx      PPIG       IPG  \n0     NaN        NaN         NaN       NaN       NaN  \n1     NaN        NaN         NaN       NaN       NaN  \n2     NaN        NaN         NaN       NaN       NaN  \n3     NaN        NaN         NaN       NaN       NaN  \n4     NaN        NaN         NaN       NaN       NaN  \n...   ...        ...         ...       ...       ...  \n1783  NaN  -0.016085   -0.018377 -0.747384  0.705045  \n1784  NaN   0.018791    0.017272 -0.401606 -0.347551  \n1785  NaN   0.021621    0.020441  0.100806 -0.406952  \n1786  NaN   0.036206    0.033979  0.201410  0.928027  \n1787  NaN   0.029788    0.028136  0.000000 -0.366325  \n\n[1788 rows x 20 columns]",
      "text/html": "<div>\n<style scoped>\n    .dataframe tbody tr th:only-of-type {\n        vertical-align: middle;\n    }\n\n    .dataframe tbody tr th {\n        vertical-align: top;\n    }\n\n    .dataframe thead th {\n        text-align: right;\n    }\n</style>\n<table border=\"1\" class=\"dataframe\">\n  <thead>\n    <tr style=\"text-align: right;\">\n      <th></th>\n      <th>yyyymm</th>\n      <th>Index</th>\n      <th>D12</th>\n      <th>E12</th>\n      <th>b/m</th>\n      <th>tbl</th>\n      <th>AAA</th>\n      <th>BAA</th>\n      <th>lty</th>\n      <th>ntis</th>\n      <th>Rfree</th>\n      <th>infl</th>\n      <th>ltr</th>\n      <th>corpr</th>\n      <th>svar</th>\n      <th>csp</th>\n      <th>CRSP_SPvw</th>\n      <th>CRSP_SPvwx</th>\n      <th>PPIG</th>\n      <th>IPG</th>\n    </tr>\n  </thead>\n  <tbody>\n    <tr>\n      <th>0</th>\n      <td>187101</td>\n      <td>4.440000</td>\n      <td>0.260000</td>\n      <td>0.40</td>\n      <td>NaN</td>\n      <td>NaN</td>\n      <td>NaN</td>\n      <td>NaN</td>\n      <td>NaN</td>\n      <td>NaN</td>\n      <td>0.004967</td>\n      <td>NaN</td>\n      <td>NaN</td>\n      <td>NaN</td>\n      <td>NaN</td>\n      <td>NaN</td>\n      <td>NaN</td>\n      <td>NaN</td>\n      <td>NaN</td>\n      <td>NaN</td>\n    </tr>\n    <tr>\n      <th>1</th>\n      <td>187102</td>\n      <td>4.500000</td>\n      <td>0.260000</td>\n      <td>0.40</td>\n      <td>NaN</td>\n      <td>NaN</td>\n      <td>NaN</td>\n      <td>NaN</td>\n      <td>NaN</td>\n      <td>NaN</td>\n      <td>0.004525</td>\n      <td>NaN</td>\n      <td>NaN</td>\n      <td>NaN</td>\n      <td>NaN</td>\n      <td>NaN</td>\n      <td>NaN</td>\n      <td>NaN</td>\n      <td>NaN</td>\n      <td>NaN</td>\n    </tr>\n    <tr>\n      <th>2</th>\n      <td>187103</td>\n      <td>4.610000</td>\n      <td>0.260000</td>\n      <td>0.40</td>\n      <td>NaN</td>\n      <td>NaN</td>\n      <td>NaN</td>\n      <td>NaN</td>\n      <td>NaN</td>\n      <td>NaN</td>\n      <td>0.004252</td>\n      <td>NaN</td>\n      <td>NaN</td>\n      <td>NaN</td>\n      <td>NaN</td>\n      <td>NaN</td>\n      <td>NaN</td>\n      <td>NaN</td>\n      <td>NaN</td>\n      <td>NaN</td>\n    </tr>\n    <tr>\n      <th>3</th>\n      <td>187104</td>\n      <td>4.740000</td>\n      <td>0.260000</td>\n      <td>0.40</td>\n      <td>NaN</td>\n      <td>NaN</td>\n      <td>NaN</td>\n      <td>NaN</td>\n      <td>NaN</td>\n      <td>NaN</td>\n      <td>0.004643</td>\n      <td>NaN</td>\n      <td>NaN</td>\n      <td>NaN</td>\n      <td>NaN</td>\n      <td>NaN</td>\n      <td>NaN</td>\n      <td>NaN</td>\n      <td>NaN</td>\n      <td>NaN</td>\n    </tr>\n    <tr>\n      <th>4</th>\n      <td>187105</td>\n      <td>4.860000</td>\n      <td>0.260000</td>\n      <td>0.40</td>\n      <td>NaN</td>\n      <td>NaN</td>\n      <td>NaN</td>\n      <td>NaN</td>\n      <td>NaN</td>\n      <td>NaN</td>\n      <td>0.003698</td>\n      <td>NaN</td>\n      <td>NaN</td>\n      <td>NaN</td>\n      <td>NaN</td>\n      <td>NaN</td>\n      <td>NaN</td>\n      <td>NaN</td>\n      <td>NaN</td>\n      <td>NaN</td>\n    </tr>\n    <tr>\n      <th>...</th>\n      <td>...</td>\n      <td>...</td>\n      <td>...</td>\n      <td>...</td>\n      <td>...</td>\n      <td>...</td>\n      <td>...</td>\n      <td>...</td>\n      <td>...</td>\n      <td>...</td>\n      <td>...</td>\n      <td>...</td>\n      <td>...</td>\n      <td>...</td>\n      <td>...</td>\n      <td>...</td>\n      <td>...</td>\n      <td>...</td>\n      <td>...</td>\n      <td>...</td>\n    </tr>\n    <tr>\n      <th>1783</th>\n      <td>201908</td>\n      <td>2926.459961</td>\n      <td>56.838763</td>\n      <td>133.69</td>\n      <td>0.237917</td>\n      <td>0.0210</td>\n      <td>0.0298</td>\n      <td>0.0387</td>\n      <td>0.0163</td>\n      <td>-0.010244</td>\n      <td>0.001625</td>\n      <td>-0.000051</td>\n      <td>0.0797</td>\n      <td>0.0738</td>\n      <td>0.004318</td>\n      <td>NaN</td>\n      <td>-0.016085</td>\n      <td>-0.018377</td>\n      <td>-0.747384</td>\n      <td>0.705045</td>\n    </tr>\n    <tr>\n      <th>1784</th>\n      <td>201909</td>\n      <td>2976.739990</td>\n      <td>57.219507</td>\n      <td>132.90</td>\n      <td>0.233377</td>\n      <td>0.0195</td>\n      <td>0.0303</td>\n      <td>0.0391</td>\n      <td>0.0170</td>\n      <td>-0.010959</td>\n      <td>0.001575</td>\n      <td>0.000783</td>\n      <td>-0.0192</td>\n      <td>-0.0190</td>\n      <td>0.000605</td>\n      <td>NaN</td>\n      <td>0.018791</td>\n      <td>0.017272</td>\n      <td>-0.401606</td>\n      <td>-0.347551</td>\n    </tr>\n    <tr>\n      <th>1785</th>\n      <td>201910</td>\n      <td>3037.560059</td>\n      <td>57.559879</td>\n      <td>135.09</td>\n      <td>0.232261</td>\n      <td>0.0189</td>\n      <td>0.0301</td>\n      <td>0.0392</td>\n      <td>0.0171</td>\n      <td>-0.013267</td>\n      <td>0.001375</td>\n      <td>0.002286</td>\n      <td>-0.0052</td>\n      <td>0.0006</td>\n      <td>0.001510</td>\n      <td>NaN</td>\n      <td>0.021621</td>\n      <td>0.020441</td>\n      <td>0.100806</td>\n      <td>-0.406952</td>\n    </tr>\n    <tr>\n      <th>1786</th>\n      <td>201911</td>\n      <td>3140.979980</td>\n      <td>57.900251</td>\n      <td>137.28</td>\n      <td>0.223938</td>\n      <td>0.0165</td>\n      <td>0.0306</td>\n      <td>0.0394</td>\n      <td>0.0181</td>\n      <td>-0.007907</td>\n      <td>0.001283</td>\n      <td>-0.000536</td>\n      <td>-0.0059</td>\n      <td>0.0014</td>\n      <td>0.000306</td>\n      <td>NaN</td>\n      <td>0.036206</td>\n      <td>0.033979</td>\n      <td>0.201410</td>\n      <td>0.928027</td>\n    </tr>\n    <tr>\n      <th>1787</th>\n      <td>201912</td>\n      <td>3230.780029</td>\n      <td>58.240623</td>\n      <td>139.47</td>\n      <td>0.220116</td>\n      <td>0.0154</td>\n      <td>0.0301</td>\n      <td>0.0388</td>\n      <td>0.0186</td>\n      <td>-0.007306</td>\n      <td>0.001283</td>\n      <td>-0.000910</td>\n      <td>-0.0253</td>\n      <td>-0.0089</td>\n      <td>0.000502</td>\n      <td>NaN</td>\n      <td>0.029788</td>\n      <td>0.028136</td>\n      <td>0.000000</td>\n      <td>-0.366325</td>\n    </tr>\n  </tbody>\n</table>\n<p>1788 rows × 20 columns</p>\n</div>"
     },
     "execution_count": 3,
     "metadata": {},
     "output_type": "execute_result"
    }
   ],
   "source": [
    "data = pd.read_excel(r'..\\data\\1EData_PredictorData2019.xlsx', sheet_name='Monthly')\n",
    "data"
   ],
   "metadata": {
    "collapsed": false
   }
  },
  {
   "cell_type": "code",
   "execution_count": 4,
   "outputs": [
    {
     "data": {
      "text/plain": "      yyyymm        Index        D12     E12       b/m     tbl     AAA  \\\n0     187101     4.440000   0.260000    0.40       NaN     NaN     NaN   \n1     187102     4.500000   0.260000    0.40       NaN     NaN     NaN   \n2     187103     4.610000   0.260000    0.40       NaN     NaN     NaN   \n3     187104     4.740000   0.260000    0.40       NaN     NaN     NaN   \n4     187105     4.860000   0.260000    0.40       NaN     NaN     NaN   \n...      ...          ...        ...     ...       ...     ...     ...   \n1783  201908  2926.459961  56.838763  133.69  0.237917  0.0210  0.0298   \n1784  201909  2976.739990  57.219507  132.90  0.233377  0.0195  0.0303   \n1785  201910  3037.560059  57.559879  135.09  0.232261  0.0189  0.0301   \n1786  201911  3140.979980  57.900251  137.28  0.223938  0.0165  0.0306   \n1787  201912  3230.780029  58.240623  139.47  0.220116  0.0154  0.0301   \n\n         BAA     lty      ntis  ...        EP       VOL      BILL      BOND  \\\n0        NaN     NaN       NaN  ... -2.406945       NaN       NaN       NaN   \n1        NaN     NaN       NaN  ... -2.420368       NaN       NaN       NaN   \n2        NaN     NaN       NaN  ... -2.444519       NaN       NaN       NaN   \n3        NaN     NaN       NaN  ... -2.472328       NaN       NaN       NaN   \n4        NaN     NaN       NaN  ... -2.497329       NaN       NaN       NaN   \n...      ...     ...       ...  ...       ...       ...       ...       ...   \n1783  0.0387  0.0163 -0.010244  ... -3.086025  0.188374 -0.001725 -0.009958   \n1784  0.0391  0.0170 -0.010959  ... -3.108987  0.193314 -0.003158 -0.007892   \n1785  0.0392  0.0171 -0.013267  ... -3.112869  0.176386 -0.003558 -0.006283   \n1786  0.0394  0.0181 -0.007907  ... -3.130267  0.182339 -0.005458 -0.004150   \n1787  0.0388  0.0186 -0.007306  ... -3.142629  0.160321 -0.005900 -0.002833   \n\n        TERM  CREDIT  MA112  MA312  MOM6     ExRet  \n0        NaN     NaN      0      0     0       NaN  \n1        NaN     NaN      0      0     0       NaN  \n2        NaN     NaN      0      0     0       NaN  \n3        NaN     NaN      0      0     0       NaN  \n4        NaN     NaN      0      0     0       NaN  \n...      ...     ...    ...    ...   ...       ...  \n1783 -0.0047  0.0135      1      1     1 -0.017710  \n1784 -0.0025  0.0133      1      1     1  0.017216  \n1785 -0.0018  0.0130      1      1     1  0.020246  \n1786  0.0016  0.0125      1      1     1  0.034923  \n1787  0.0032  0.0115      1      1     1  0.028505  \n\n[1788 rows x 31 columns]",
      "text/html": "<div>\n<style scoped>\n    .dataframe tbody tr th:only-of-type {\n        vertical-align: middle;\n    }\n\n    .dataframe tbody tr th {\n        vertical-align: top;\n    }\n\n    .dataframe thead th {\n        text-align: right;\n    }\n</style>\n<table border=\"1\" class=\"dataframe\">\n  <thead>\n    <tr style=\"text-align: right;\">\n      <th></th>\n      <th>yyyymm</th>\n      <th>Index</th>\n      <th>D12</th>\n      <th>E12</th>\n      <th>b/m</th>\n      <th>tbl</th>\n      <th>AAA</th>\n      <th>BAA</th>\n      <th>lty</th>\n      <th>ntis</th>\n      <th>...</th>\n      <th>EP</th>\n      <th>VOL</th>\n      <th>BILL</th>\n      <th>BOND</th>\n      <th>TERM</th>\n      <th>CREDIT</th>\n      <th>MA112</th>\n      <th>MA312</th>\n      <th>MOM6</th>\n      <th>ExRet</th>\n    </tr>\n  </thead>\n  <tbody>\n    <tr>\n      <th>0</th>\n      <td>187101</td>\n      <td>4.440000</td>\n      <td>0.260000</td>\n      <td>0.40</td>\n      <td>NaN</td>\n      <td>NaN</td>\n      <td>NaN</td>\n      <td>NaN</td>\n      <td>NaN</td>\n      <td>NaN</td>\n      <td>...</td>\n      <td>-2.406945</td>\n      <td>NaN</td>\n      <td>NaN</td>\n      <td>NaN</td>\n      <td>NaN</td>\n      <td>NaN</td>\n      <td>0</td>\n      <td>0</td>\n      <td>0</td>\n      <td>NaN</td>\n    </tr>\n    <tr>\n      <th>1</th>\n      <td>187102</td>\n      <td>4.500000</td>\n      <td>0.260000</td>\n      <td>0.40</td>\n      <td>NaN</td>\n      <td>NaN</td>\n      <td>NaN</td>\n      <td>NaN</td>\n      <td>NaN</td>\n      <td>NaN</td>\n      <td>...</td>\n      <td>-2.420368</td>\n      <td>NaN</td>\n      <td>NaN</td>\n      <td>NaN</td>\n      <td>NaN</td>\n      <td>NaN</td>\n      <td>0</td>\n      <td>0</td>\n      <td>0</td>\n      <td>NaN</td>\n    </tr>\n    <tr>\n      <th>2</th>\n      <td>187103</td>\n      <td>4.610000</td>\n      <td>0.260000</td>\n      <td>0.40</td>\n      <td>NaN</td>\n      <td>NaN</td>\n      <td>NaN</td>\n      <td>NaN</td>\n      <td>NaN</td>\n      <td>NaN</td>\n      <td>...</td>\n      <td>-2.444519</td>\n      <td>NaN</td>\n      <td>NaN</td>\n      <td>NaN</td>\n      <td>NaN</td>\n      <td>NaN</td>\n      <td>0</td>\n      <td>0</td>\n      <td>0</td>\n      <td>NaN</td>\n    </tr>\n    <tr>\n      <th>3</th>\n      <td>187104</td>\n      <td>4.740000</td>\n      <td>0.260000</td>\n      <td>0.40</td>\n      <td>NaN</td>\n      <td>NaN</td>\n      <td>NaN</td>\n      <td>NaN</td>\n      <td>NaN</td>\n      <td>NaN</td>\n      <td>...</td>\n      <td>-2.472328</td>\n      <td>NaN</td>\n      <td>NaN</td>\n      <td>NaN</td>\n      <td>NaN</td>\n      <td>NaN</td>\n      <td>0</td>\n      <td>0</td>\n      <td>0</td>\n      <td>NaN</td>\n    </tr>\n    <tr>\n      <th>4</th>\n      <td>187105</td>\n      <td>4.860000</td>\n      <td>0.260000</td>\n      <td>0.40</td>\n      <td>NaN</td>\n      <td>NaN</td>\n      <td>NaN</td>\n      <td>NaN</td>\n      <td>NaN</td>\n      <td>NaN</td>\n      <td>...</td>\n      <td>-2.497329</td>\n      <td>NaN</td>\n      <td>NaN</td>\n      <td>NaN</td>\n      <td>NaN</td>\n      <td>NaN</td>\n      <td>0</td>\n      <td>0</td>\n      <td>0</td>\n      <td>NaN</td>\n    </tr>\n    <tr>\n      <th>...</th>\n      <td>...</td>\n      <td>...</td>\n      <td>...</td>\n      <td>...</td>\n      <td>...</td>\n      <td>...</td>\n      <td>...</td>\n      <td>...</td>\n      <td>...</td>\n      <td>...</td>\n      <td>...</td>\n      <td>...</td>\n      <td>...</td>\n      <td>...</td>\n      <td>...</td>\n      <td>...</td>\n      <td>...</td>\n      <td>...</td>\n      <td>...</td>\n      <td>...</td>\n      <td>...</td>\n    </tr>\n    <tr>\n      <th>1783</th>\n      <td>201908</td>\n      <td>2926.459961</td>\n      <td>56.838763</td>\n      <td>133.69</td>\n      <td>0.237917</td>\n      <td>0.0210</td>\n      <td>0.0298</td>\n      <td>0.0387</td>\n      <td>0.0163</td>\n      <td>-0.010244</td>\n      <td>...</td>\n      <td>-3.086025</td>\n      <td>0.188374</td>\n      <td>-0.001725</td>\n      <td>-0.009958</td>\n      <td>-0.0047</td>\n      <td>0.0135</td>\n      <td>1</td>\n      <td>1</td>\n      <td>1</td>\n      <td>-0.017710</td>\n    </tr>\n    <tr>\n      <th>1784</th>\n      <td>201909</td>\n      <td>2976.739990</td>\n      <td>57.219507</td>\n      <td>132.90</td>\n      <td>0.233377</td>\n      <td>0.0195</td>\n      <td>0.0303</td>\n      <td>0.0391</td>\n      <td>0.0170</td>\n      <td>-0.010959</td>\n      <td>...</td>\n      <td>-3.108987</td>\n      <td>0.193314</td>\n      <td>-0.003158</td>\n      <td>-0.007892</td>\n      <td>-0.0025</td>\n      <td>0.0133</td>\n      <td>1</td>\n      <td>1</td>\n      <td>1</td>\n      <td>0.017216</td>\n    </tr>\n    <tr>\n      <th>1785</th>\n      <td>201910</td>\n      <td>3037.560059</td>\n      <td>57.559879</td>\n      <td>135.09</td>\n      <td>0.232261</td>\n      <td>0.0189</td>\n      <td>0.0301</td>\n      <td>0.0392</td>\n      <td>0.0171</td>\n      <td>-0.013267</td>\n      <td>...</td>\n      <td>-3.112869</td>\n      <td>0.176386</td>\n      <td>-0.003558</td>\n      <td>-0.006283</td>\n      <td>-0.0018</td>\n      <td>0.0130</td>\n      <td>1</td>\n      <td>1</td>\n      <td>1</td>\n      <td>0.020246</td>\n    </tr>\n    <tr>\n      <th>1786</th>\n      <td>201911</td>\n      <td>3140.979980</td>\n      <td>57.900251</td>\n      <td>137.28</td>\n      <td>0.223938</td>\n      <td>0.0165</td>\n      <td>0.0306</td>\n      <td>0.0394</td>\n      <td>0.0181</td>\n      <td>-0.007907</td>\n      <td>...</td>\n      <td>-3.130267</td>\n      <td>0.182339</td>\n      <td>-0.005458</td>\n      <td>-0.004150</td>\n      <td>0.0016</td>\n      <td>0.0125</td>\n      <td>1</td>\n      <td>1</td>\n      <td>1</td>\n      <td>0.034923</td>\n    </tr>\n    <tr>\n      <th>1787</th>\n      <td>201912</td>\n      <td>3230.780029</td>\n      <td>58.240623</td>\n      <td>139.47</td>\n      <td>0.220116</td>\n      <td>0.0154</td>\n      <td>0.0301</td>\n      <td>0.0388</td>\n      <td>0.0186</td>\n      <td>-0.007306</td>\n      <td>...</td>\n      <td>-3.142629</td>\n      <td>0.160321</td>\n      <td>-0.005900</td>\n      <td>-0.002833</td>\n      <td>0.0032</td>\n      <td>0.0115</td>\n      <td>1</td>\n      <td>1</td>\n      <td>1</td>\n      <td>0.028505</td>\n    </tr>\n  </tbody>\n</table>\n<p>1788 rows × 31 columns</p>\n</div>"
     },
     "execution_count": 4,
     "metadata": {},
     "output_type": "execute_result"
    }
   ],
   "source": [
    "data['DP'] = data['D12'].apply(np.log) - data['Index'].apply(np.log)\n",
    "data['EP'] = data['E12'].apply(np.log) - data['Index'].apply(np.log)\n",
    "# data['VOL'] = data['CRSP_SPvw'].abs().rolling(window=12).mean()*np.sqrt(pi/6) 这里是不是需要修改？？\n",
    "data['VOL'] = data['CRSP_SPvw'].abs().rolling(window=12).mean()*np.sqrt(pi*6)\n",
    "data['BILL'] = data['tbl'] - data['tbl'].rolling(window=12).mean()\n",
    "data['BOND'] = data['lty'] - data['lty'].rolling(window=12).mean()\n",
    "data['TERM'] = data['lty'] - data['tbl']\n",
    "data['CREDIT'] = data['AAA'] - data['lty']\n",
    "data['MA112'] = data['Index'] >= data['Index'].rolling(window=12).mean()\n",
    "data['MA312']  =data['Index'].rolling(window=3).mean() >= data['Index'].rolling(window=12).mean()\n",
    "data['MOM6'] =  data['Index'] >= data['Index'].shift(periods=6)\n",
    "data['ExRet'] = data['CRSP_SPvw'] - data['Rfree']\n",
    "data[['MA112', 'MA312', 'MOM6']] = data[['MA112', 'MA312', 'MOM6']].astype(int)\n",
    "data"
   ],
   "metadata": {
    "collapsed": false
   }
  },
  {
   "cell_type": "code",
   "execution_count": 5,
   "outputs": [
    {
     "data": {
      "text/plain": "      yyyymm  CRSP_SPvw     Rfree     ExRet        DP        EP       VOL  \\\n0     187101        NaN  0.004967       NaN -2.837728 -2.406945       NaN   \n1     187102        NaN  0.004525       NaN -2.851151 -2.420368       NaN   \n2     187103        NaN  0.004252       NaN -2.875302 -2.444519       NaN   \n3     187104        NaN  0.004643       NaN -2.903111 -2.472328       NaN   \n4     187105        NaN  0.003698       NaN -2.928112 -2.497329       NaN   \n...      ...        ...       ...       ...       ...       ...       ...   \n1783  201908  -0.016085  0.001625 -0.017710 -3.941330 -3.086025  0.188374   \n1784  201909   0.018791  0.001575  0.017216 -3.951689 -3.108987  0.193314   \n1785  201910   0.021621  0.001375  0.020246 -3.965984 -3.112869  0.176386   \n1786  201911   0.036206  0.001283  0.034923 -3.993568 -3.130267  0.182339   \n1787  201912   0.029788  0.001283  0.028505 -4.015896 -3.142629  0.160321   \n\n          BILL      BOND    TERM  ...       VOL      BILL      BOND    TERM  \\\n0          NaN       NaN     NaN  ...       NaN       NaN       NaN     NaN   \n1          NaN       NaN     NaN  ...       NaN       NaN       NaN     NaN   \n2          NaN       NaN     NaN  ...       NaN       NaN       NaN     NaN   \n3          NaN       NaN     NaN  ...       NaN       NaN       NaN     NaN   \n4          NaN       NaN     NaN  ...       NaN       NaN       NaN     NaN   \n...        ...       ...     ...  ...       ...       ...       ...     ...   \n1783 -0.001725 -0.009958 -0.0047  ...  0.194472 -0.000908 -0.006742 -0.0011   \n1784 -0.003158 -0.007892 -0.0025  ...  0.188374 -0.001725 -0.009958 -0.0047   \n1785 -0.003558 -0.006283 -0.0018  ...  0.193314 -0.003158 -0.007892 -0.0025   \n1786 -0.005458 -0.004150  0.0016  ...  0.176386 -0.003558 -0.006283 -0.0018   \n1787 -0.005900 -0.002833  0.0032  ...  0.182339 -0.005458 -0.004150  0.0016   \n\n      CREDIT      PPIG       IPG  MA112  MA312  MOM6  \n0        NaN       NaN       NaN    NaN    NaN   NaN  \n1        NaN       NaN       NaN    0.0    0.0   0.0  \n2        NaN       NaN       NaN    0.0    0.0   0.0  \n3        NaN       NaN       NaN    0.0    0.0   0.0  \n4        NaN       NaN       NaN    0.0    0.0   0.0  \n...      ...       ...       ...    ...    ...   ...  \n1783  0.0123  0.199700 -0.175883    1.0    1.0   1.0  \n1784  0.0135 -0.747384  0.705045    1.0    1.0   1.0  \n1785  0.0133 -0.401606 -0.347551    1.0    1.0   1.0  \n1786  0.0130  0.100806 -0.406952    1.0    1.0   1.0  \n1787  0.0125  0.201410  0.928027    1.0    1.0   1.0  \n\n[1788 rows x 28 columns]",
      "text/html": "<div>\n<style scoped>\n    .dataframe tbody tr th:only-of-type {\n        vertical-align: middle;\n    }\n\n    .dataframe tbody tr th {\n        vertical-align: top;\n    }\n\n    .dataframe thead th {\n        text-align: right;\n    }\n</style>\n<table border=\"1\" class=\"dataframe\">\n  <thead>\n    <tr style=\"text-align: right;\">\n      <th></th>\n      <th>yyyymm</th>\n      <th>CRSP_SPvw</th>\n      <th>Rfree</th>\n      <th>ExRet</th>\n      <th>DP</th>\n      <th>EP</th>\n      <th>VOL</th>\n      <th>BILL</th>\n      <th>BOND</th>\n      <th>TERM</th>\n      <th>...</th>\n      <th>VOL</th>\n      <th>BILL</th>\n      <th>BOND</th>\n      <th>TERM</th>\n      <th>CREDIT</th>\n      <th>PPIG</th>\n      <th>IPG</th>\n      <th>MA112</th>\n      <th>MA312</th>\n      <th>MOM6</th>\n    </tr>\n  </thead>\n  <tbody>\n    <tr>\n      <th>0</th>\n      <td>187101</td>\n      <td>NaN</td>\n      <td>0.004967</td>\n      <td>NaN</td>\n      <td>-2.837728</td>\n      <td>-2.406945</td>\n      <td>NaN</td>\n      <td>NaN</td>\n      <td>NaN</td>\n      <td>NaN</td>\n      <td>...</td>\n      <td>NaN</td>\n      <td>NaN</td>\n      <td>NaN</td>\n      <td>NaN</td>\n      <td>NaN</td>\n      <td>NaN</td>\n      <td>NaN</td>\n      <td>NaN</td>\n      <td>NaN</td>\n      <td>NaN</td>\n    </tr>\n    <tr>\n      <th>1</th>\n      <td>187102</td>\n      <td>NaN</td>\n      <td>0.004525</td>\n      <td>NaN</td>\n      <td>-2.851151</td>\n      <td>-2.420368</td>\n      <td>NaN</td>\n      <td>NaN</td>\n      <td>NaN</td>\n      <td>NaN</td>\n      <td>...</td>\n      <td>NaN</td>\n      <td>NaN</td>\n      <td>NaN</td>\n      <td>NaN</td>\n      <td>NaN</td>\n      <td>NaN</td>\n      <td>NaN</td>\n      <td>0.0</td>\n      <td>0.0</td>\n      <td>0.0</td>\n    </tr>\n    <tr>\n      <th>2</th>\n      <td>187103</td>\n      <td>NaN</td>\n      <td>0.004252</td>\n      <td>NaN</td>\n      <td>-2.875302</td>\n      <td>-2.444519</td>\n      <td>NaN</td>\n      <td>NaN</td>\n      <td>NaN</td>\n      <td>NaN</td>\n      <td>...</td>\n      <td>NaN</td>\n      <td>NaN</td>\n      <td>NaN</td>\n      <td>NaN</td>\n      <td>NaN</td>\n      <td>NaN</td>\n      <td>NaN</td>\n      <td>0.0</td>\n      <td>0.0</td>\n      <td>0.0</td>\n    </tr>\n    <tr>\n      <th>3</th>\n      <td>187104</td>\n      <td>NaN</td>\n      <td>0.004643</td>\n      <td>NaN</td>\n      <td>-2.903111</td>\n      <td>-2.472328</td>\n      <td>NaN</td>\n      <td>NaN</td>\n      <td>NaN</td>\n      <td>NaN</td>\n      <td>...</td>\n      <td>NaN</td>\n      <td>NaN</td>\n      <td>NaN</td>\n      <td>NaN</td>\n      <td>NaN</td>\n      <td>NaN</td>\n      <td>NaN</td>\n      <td>0.0</td>\n      <td>0.0</td>\n      <td>0.0</td>\n    </tr>\n    <tr>\n      <th>4</th>\n      <td>187105</td>\n      <td>NaN</td>\n      <td>0.003698</td>\n      <td>NaN</td>\n      <td>-2.928112</td>\n      <td>-2.497329</td>\n      <td>NaN</td>\n      <td>NaN</td>\n      <td>NaN</td>\n      <td>NaN</td>\n      <td>...</td>\n      <td>NaN</td>\n      <td>NaN</td>\n      <td>NaN</td>\n      <td>NaN</td>\n      <td>NaN</td>\n      <td>NaN</td>\n      <td>NaN</td>\n      <td>0.0</td>\n      <td>0.0</td>\n      <td>0.0</td>\n    </tr>\n    <tr>\n      <th>...</th>\n      <td>...</td>\n      <td>...</td>\n      <td>...</td>\n      <td>...</td>\n      <td>...</td>\n      <td>...</td>\n      <td>...</td>\n      <td>...</td>\n      <td>...</td>\n      <td>...</td>\n      <td>...</td>\n      <td>...</td>\n      <td>...</td>\n      <td>...</td>\n      <td>...</td>\n      <td>...</td>\n      <td>...</td>\n      <td>...</td>\n      <td>...</td>\n      <td>...</td>\n      <td>...</td>\n    </tr>\n    <tr>\n      <th>1783</th>\n      <td>201908</td>\n      <td>-0.016085</td>\n      <td>0.001625</td>\n      <td>-0.017710</td>\n      <td>-3.941330</td>\n      <td>-3.086025</td>\n      <td>0.188374</td>\n      <td>-0.001725</td>\n      <td>-0.009958</td>\n      <td>-0.0047</td>\n      <td>...</td>\n      <td>0.194472</td>\n      <td>-0.000908</td>\n      <td>-0.006742</td>\n      <td>-0.0011</td>\n      <td>0.0123</td>\n      <td>0.199700</td>\n      <td>-0.175883</td>\n      <td>1.0</td>\n      <td>1.0</td>\n      <td>1.0</td>\n    </tr>\n    <tr>\n      <th>1784</th>\n      <td>201909</td>\n      <td>0.018791</td>\n      <td>0.001575</td>\n      <td>0.017216</td>\n      <td>-3.951689</td>\n      <td>-3.108987</td>\n      <td>0.193314</td>\n      <td>-0.003158</td>\n      <td>-0.007892</td>\n      <td>-0.0025</td>\n      <td>...</td>\n      <td>0.188374</td>\n      <td>-0.001725</td>\n      <td>-0.009958</td>\n      <td>-0.0047</td>\n      <td>0.0135</td>\n      <td>-0.747384</td>\n      <td>0.705045</td>\n      <td>1.0</td>\n      <td>1.0</td>\n      <td>1.0</td>\n    </tr>\n    <tr>\n      <th>1785</th>\n      <td>201910</td>\n      <td>0.021621</td>\n      <td>0.001375</td>\n      <td>0.020246</td>\n      <td>-3.965984</td>\n      <td>-3.112869</td>\n      <td>0.176386</td>\n      <td>-0.003558</td>\n      <td>-0.006283</td>\n      <td>-0.0018</td>\n      <td>...</td>\n      <td>0.193314</td>\n      <td>-0.003158</td>\n      <td>-0.007892</td>\n      <td>-0.0025</td>\n      <td>0.0133</td>\n      <td>-0.401606</td>\n      <td>-0.347551</td>\n      <td>1.0</td>\n      <td>1.0</td>\n      <td>1.0</td>\n    </tr>\n    <tr>\n      <th>1786</th>\n      <td>201911</td>\n      <td>0.036206</td>\n      <td>0.001283</td>\n      <td>0.034923</td>\n      <td>-3.993568</td>\n      <td>-3.130267</td>\n      <td>0.182339</td>\n      <td>-0.005458</td>\n      <td>-0.004150</td>\n      <td>0.0016</td>\n      <td>...</td>\n      <td>0.176386</td>\n      <td>-0.003558</td>\n      <td>-0.006283</td>\n      <td>-0.0018</td>\n      <td>0.0130</td>\n      <td>0.100806</td>\n      <td>-0.406952</td>\n      <td>1.0</td>\n      <td>1.0</td>\n      <td>1.0</td>\n    </tr>\n    <tr>\n      <th>1787</th>\n      <td>201912</td>\n      <td>0.029788</td>\n      <td>0.001283</td>\n      <td>0.028505</td>\n      <td>-4.015896</td>\n      <td>-3.142629</td>\n      <td>0.160321</td>\n      <td>-0.005900</td>\n      <td>-0.002833</td>\n      <td>0.0032</td>\n      <td>...</td>\n      <td>0.182339</td>\n      <td>-0.005458</td>\n      <td>-0.004150</td>\n      <td>0.0016</td>\n      <td>0.0125</td>\n      <td>0.201410</td>\n      <td>0.928027</td>\n      <td>1.0</td>\n      <td>1.0</td>\n      <td>1.0</td>\n    </tr>\n  </tbody>\n</table>\n<p>1788 rows × 28 columns</p>\n</div>"
     },
     "execution_count": 5,
     "metadata": {},
     "output_type": "execute_result"
    }
   ],
   "source": [
    "data = pd.concat([data[['yyyymm', 'CRSP_SPvw', 'Rfree', 'ExRet',\n",
    "                        'DP', 'EP', 'VOL', 'BILL', 'BOND', 'TERM', 'CREDIT', 'PPIG', 'IPG',\n",
    "                        'MA112', 'MA312', 'MOM6']],\n",
    "                  data[['DP', 'EP', 'VOL', 'BILL', 'BOND', 'TERM', 'CREDIT', 'PPIG', 'IPG',\n",
    "                        'MA112', 'MA312', 'MOM6']].shift(periods=1)], axis=1)\n",
    "data"
   ],
   "metadata": {
    "collapsed": false
   }
  },
  {
   "cell_type": "code",
   "execution_count": 6,
   "outputs": [
    {
     "data": {
      "text/plain": "      yyyymm       Ret     Rfree     ExRet        DP        EP       VOL  \\\n0     187101       NaN  0.004967       NaN -2.837728 -2.406945       NaN   \n1     187102       NaN  0.004525       NaN -2.851151 -2.420368       NaN   \n2     187103       NaN  0.004252       NaN -2.875302 -2.444519       NaN   \n3     187104       NaN  0.004643       NaN -2.903111 -2.472328       NaN   \n4     187105       NaN  0.003698       NaN -2.928112 -2.497329       NaN   \n...      ...       ...       ...       ...       ...       ...       ...   \n1783  201908 -0.016085  0.001625 -0.017710 -3.941330 -3.086025  0.188374   \n1784  201909  0.018791  0.001575  0.017216 -3.951689 -3.108987  0.193314   \n1785  201910  0.021621  0.001375  0.020246 -3.965984 -3.112869  0.176386   \n1786  201911  0.036206  0.001283  0.034923 -3.993568 -3.130267  0.182339   \n1787  201912  0.029788  0.001283  0.028505 -4.015896 -3.142629  0.160321   \n\n          BILL      BOND    TERM  ...     VOLL1    BILLL1    BONDL1  TERML1  \\\n0          NaN       NaN     NaN  ...       NaN       NaN       NaN     NaN   \n1          NaN       NaN     NaN  ...       NaN       NaN       NaN     NaN   \n2          NaN       NaN     NaN  ...       NaN       NaN       NaN     NaN   \n3          NaN       NaN     NaN  ...       NaN       NaN       NaN     NaN   \n4          NaN       NaN     NaN  ...       NaN       NaN       NaN     NaN   \n...        ...       ...     ...  ...       ...       ...       ...     ...   \n1783 -0.001725 -0.009958 -0.0047  ...  0.194472 -0.000908 -0.006742 -0.0011   \n1784 -0.003158 -0.007892 -0.0025  ...  0.188374 -0.001725 -0.009958 -0.0047   \n1785 -0.003558 -0.006283 -0.0018  ...  0.193314 -0.003158 -0.007892 -0.0025   \n1786 -0.005458 -0.004150  0.0016  ...  0.176386 -0.003558 -0.006283 -0.0018   \n1787 -0.005900 -0.002833  0.0032  ...  0.182339 -0.005458 -0.004150  0.0016   \n\n      CREDITL1    PPIGL1     IPGL1  MA112L1  MA312L1  MOM6L1  \n0          NaN       NaN       NaN      NaN      NaN     NaN  \n1          NaN       NaN       NaN      0.0      0.0     0.0  \n2          NaN       NaN       NaN      0.0      0.0     0.0  \n3          NaN       NaN       NaN      0.0      0.0     0.0  \n4          NaN       NaN       NaN      0.0      0.0     0.0  \n...        ...       ...       ...      ...      ...     ...  \n1783    0.0123  0.199700 -0.175883      1.0      1.0     1.0  \n1784    0.0135 -0.747384  0.705045      1.0      1.0     1.0  \n1785    0.0133 -0.401606 -0.347551      1.0      1.0     1.0  \n1786    0.0130  0.100806 -0.406952      1.0      1.0     1.0  \n1787    0.0125  0.201410  0.928027      1.0      1.0     1.0  \n\n[1788 rows x 28 columns]",
      "text/html": "<div>\n<style scoped>\n    .dataframe tbody tr th:only-of-type {\n        vertical-align: middle;\n    }\n\n    .dataframe tbody tr th {\n        vertical-align: top;\n    }\n\n    .dataframe thead th {\n        text-align: right;\n    }\n</style>\n<table border=\"1\" class=\"dataframe\">\n  <thead>\n    <tr style=\"text-align: right;\">\n      <th></th>\n      <th>yyyymm</th>\n      <th>Ret</th>\n      <th>Rfree</th>\n      <th>ExRet</th>\n      <th>DP</th>\n      <th>EP</th>\n      <th>VOL</th>\n      <th>BILL</th>\n      <th>BOND</th>\n      <th>TERM</th>\n      <th>...</th>\n      <th>VOLL1</th>\n      <th>BILLL1</th>\n      <th>BONDL1</th>\n      <th>TERML1</th>\n      <th>CREDITL1</th>\n      <th>PPIGL1</th>\n      <th>IPGL1</th>\n      <th>MA112L1</th>\n      <th>MA312L1</th>\n      <th>MOM6L1</th>\n    </tr>\n  </thead>\n  <tbody>\n    <tr>\n      <th>0</th>\n      <td>187101</td>\n      <td>NaN</td>\n      <td>0.004967</td>\n      <td>NaN</td>\n      <td>-2.837728</td>\n      <td>-2.406945</td>\n      <td>NaN</td>\n      <td>NaN</td>\n      <td>NaN</td>\n      <td>NaN</td>\n      <td>...</td>\n      <td>NaN</td>\n      <td>NaN</td>\n      <td>NaN</td>\n      <td>NaN</td>\n      <td>NaN</td>\n      <td>NaN</td>\n      <td>NaN</td>\n      <td>NaN</td>\n      <td>NaN</td>\n      <td>NaN</td>\n    </tr>\n    <tr>\n      <th>1</th>\n      <td>187102</td>\n      <td>NaN</td>\n      <td>0.004525</td>\n      <td>NaN</td>\n      <td>-2.851151</td>\n      <td>-2.420368</td>\n      <td>NaN</td>\n      <td>NaN</td>\n      <td>NaN</td>\n      <td>NaN</td>\n      <td>...</td>\n      <td>NaN</td>\n      <td>NaN</td>\n      <td>NaN</td>\n      <td>NaN</td>\n      <td>NaN</td>\n      <td>NaN</td>\n      <td>NaN</td>\n      <td>0.0</td>\n      <td>0.0</td>\n      <td>0.0</td>\n    </tr>\n    <tr>\n      <th>2</th>\n      <td>187103</td>\n      <td>NaN</td>\n      <td>0.004252</td>\n      <td>NaN</td>\n      <td>-2.875302</td>\n      <td>-2.444519</td>\n      <td>NaN</td>\n      <td>NaN</td>\n      <td>NaN</td>\n      <td>NaN</td>\n      <td>...</td>\n      <td>NaN</td>\n      <td>NaN</td>\n      <td>NaN</td>\n      <td>NaN</td>\n      <td>NaN</td>\n      <td>NaN</td>\n      <td>NaN</td>\n      <td>0.0</td>\n      <td>0.0</td>\n      <td>0.0</td>\n    </tr>\n    <tr>\n      <th>3</th>\n      <td>187104</td>\n      <td>NaN</td>\n      <td>0.004643</td>\n      <td>NaN</td>\n      <td>-2.903111</td>\n      <td>-2.472328</td>\n      <td>NaN</td>\n      <td>NaN</td>\n      <td>NaN</td>\n      <td>NaN</td>\n      <td>...</td>\n      <td>NaN</td>\n      <td>NaN</td>\n      <td>NaN</td>\n      <td>NaN</td>\n      <td>NaN</td>\n      <td>NaN</td>\n      <td>NaN</td>\n      <td>0.0</td>\n      <td>0.0</td>\n      <td>0.0</td>\n    </tr>\n    <tr>\n      <th>4</th>\n      <td>187105</td>\n      <td>NaN</td>\n      <td>0.003698</td>\n      <td>NaN</td>\n      <td>-2.928112</td>\n      <td>-2.497329</td>\n      <td>NaN</td>\n      <td>NaN</td>\n      <td>NaN</td>\n      <td>NaN</td>\n      <td>...</td>\n      <td>NaN</td>\n      <td>NaN</td>\n      <td>NaN</td>\n      <td>NaN</td>\n      <td>NaN</td>\n      <td>NaN</td>\n      <td>NaN</td>\n      <td>0.0</td>\n      <td>0.0</td>\n      <td>0.0</td>\n    </tr>\n    <tr>\n      <th>...</th>\n      <td>...</td>\n      <td>...</td>\n      <td>...</td>\n      <td>...</td>\n      <td>...</td>\n      <td>...</td>\n      <td>...</td>\n      <td>...</td>\n      <td>...</td>\n      <td>...</td>\n      <td>...</td>\n      <td>...</td>\n      <td>...</td>\n      <td>...</td>\n      <td>...</td>\n      <td>...</td>\n      <td>...</td>\n      <td>...</td>\n      <td>...</td>\n      <td>...</td>\n      <td>...</td>\n    </tr>\n    <tr>\n      <th>1783</th>\n      <td>201908</td>\n      <td>-0.016085</td>\n      <td>0.001625</td>\n      <td>-0.017710</td>\n      <td>-3.941330</td>\n      <td>-3.086025</td>\n      <td>0.188374</td>\n      <td>-0.001725</td>\n      <td>-0.009958</td>\n      <td>-0.0047</td>\n      <td>...</td>\n      <td>0.194472</td>\n      <td>-0.000908</td>\n      <td>-0.006742</td>\n      <td>-0.0011</td>\n      <td>0.0123</td>\n      <td>0.199700</td>\n      <td>-0.175883</td>\n      <td>1.0</td>\n      <td>1.0</td>\n      <td>1.0</td>\n    </tr>\n    <tr>\n      <th>1784</th>\n      <td>201909</td>\n      <td>0.018791</td>\n      <td>0.001575</td>\n      <td>0.017216</td>\n      <td>-3.951689</td>\n      <td>-3.108987</td>\n      <td>0.193314</td>\n      <td>-0.003158</td>\n      <td>-0.007892</td>\n      <td>-0.0025</td>\n      <td>...</td>\n      <td>0.188374</td>\n      <td>-0.001725</td>\n      <td>-0.009958</td>\n      <td>-0.0047</td>\n      <td>0.0135</td>\n      <td>-0.747384</td>\n      <td>0.705045</td>\n      <td>1.0</td>\n      <td>1.0</td>\n      <td>1.0</td>\n    </tr>\n    <tr>\n      <th>1785</th>\n      <td>201910</td>\n      <td>0.021621</td>\n      <td>0.001375</td>\n      <td>0.020246</td>\n      <td>-3.965984</td>\n      <td>-3.112869</td>\n      <td>0.176386</td>\n      <td>-0.003558</td>\n      <td>-0.006283</td>\n      <td>-0.0018</td>\n      <td>...</td>\n      <td>0.193314</td>\n      <td>-0.003158</td>\n      <td>-0.007892</td>\n      <td>-0.0025</td>\n      <td>0.0133</td>\n      <td>-0.401606</td>\n      <td>-0.347551</td>\n      <td>1.0</td>\n      <td>1.0</td>\n      <td>1.0</td>\n    </tr>\n    <tr>\n      <th>1786</th>\n      <td>201911</td>\n      <td>0.036206</td>\n      <td>0.001283</td>\n      <td>0.034923</td>\n      <td>-3.993568</td>\n      <td>-3.130267</td>\n      <td>0.182339</td>\n      <td>-0.005458</td>\n      <td>-0.004150</td>\n      <td>0.0016</td>\n      <td>...</td>\n      <td>0.176386</td>\n      <td>-0.003558</td>\n      <td>-0.006283</td>\n      <td>-0.0018</td>\n      <td>0.0130</td>\n      <td>0.100806</td>\n      <td>-0.406952</td>\n      <td>1.0</td>\n      <td>1.0</td>\n      <td>1.0</td>\n    </tr>\n    <tr>\n      <th>1787</th>\n      <td>201912</td>\n      <td>0.029788</td>\n      <td>0.001283</td>\n      <td>0.028505</td>\n      <td>-4.015896</td>\n      <td>-3.142629</td>\n      <td>0.160321</td>\n      <td>-0.005900</td>\n      <td>-0.002833</td>\n      <td>0.0032</td>\n      <td>...</td>\n      <td>0.182339</td>\n      <td>-0.005458</td>\n      <td>-0.004150</td>\n      <td>0.0016</td>\n      <td>0.0125</td>\n      <td>0.201410</td>\n      <td>0.928027</td>\n      <td>1.0</td>\n      <td>1.0</td>\n      <td>1.0</td>\n    </tr>\n  </tbody>\n</table>\n<p>1788 rows × 28 columns</p>\n</div>"
     },
     "execution_count": 6,
     "metadata": {},
     "output_type": "execute_result"
    }
   ],
   "source": [
    "data.columns = ['yyyymm', 'Ret', 'Rfree', 'ExRet',\n",
    "                'DP', 'EP', 'VOL', 'BILL', 'BOND', 'TERM', 'CREDIT', 'PPIG', 'IPG',\n",
    "                'MA112', 'MA312', 'MOM6', 'DPL1',\n",
    "                'EPL1', 'VOLL1', 'BILLL1', 'BONDL1', 'TERML1', 'CREDITL1', 'PPIGL1', 'IPGL1',\n",
    "                'MA112L1', 'MA312L1', 'MOM6L1']\n",
    "data"
   ],
   "metadata": {
    "collapsed": false
   }
  },
  {
   "cell_type": "code",
   "execution_count": 7,
   "outputs": [
    {
     "data": {
      "text/plain": "      yyyymm       Ret     Rfree     ExRet        DP        EP       VOL  \\\n0     192701 -0.002910  0.002692 -0.005602 -2.942374 -2.374773  0.133608   \n1     192702  0.045522  0.002742  0.042780 -2.979535 -2.430353  0.138032   \n2     192703  0.007324  0.002667  0.004657 -2.976535 -2.445079  0.119803   \n3     192704  0.013021  0.002825  0.010196 -2.984225 -2.471309  0.110576   \n4     192705  0.062353  0.002775  0.059578 -3.025963 -2.531446  0.128207   \n...      ...       ...       ...       ...       ...       ...       ...   \n1111  201908 -0.016085  0.001625 -0.017710 -3.941330 -3.086025  0.188374   \n1112  201909  0.018791  0.001575  0.017216 -3.951689 -3.108987  0.193314   \n1113  201910  0.021621  0.001375  0.020246 -3.965984 -3.112869  0.176386   \n1114  201911  0.036206  0.001283  0.034923 -3.993568 -3.130267  0.182339   \n1115  201912  0.029788  0.001283  0.028505 -4.015896 -3.142629  0.160321   \n\n          BILL      BOND    TERM  ...     VOLL1    BILLL1    BONDL1  TERML1  \\\n0    -0.001625 -0.001508  0.0044  ...  0.133201  0.000808 -0.001400  0.0019   \n1     0.000192 -0.001700  0.0024  ...  0.133608 -0.001625 -0.001508  0.0044   \n2     0.000700 -0.002967  0.0002  ...  0.138032  0.000192 -0.001700  0.0024   \n3    -0.000250 -0.002475  0.0013  ...  0.119803  0.000700 -0.002967  0.0002   \n4     0.001392 -0.002725 -0.0012  ...  0.110576 -0.000250 -0.002475  0.0013   \n...        ...       ...     ...  ...       ...       ...       ...     ...   \n1111 -0.001725 -0.009958 -0.0047  ...  0.194472 -0.000908 -0.006742 -0.0011   \n1112 -0.003158 -0.007892 -0.0025  ...  0.188374 -0.001725 -0.009958 -0.0047   \n1113 -0.003558 -0.006283 -0.0018  ...  0.193314 -0.003158 -0.007892 -0.0025   \n1114 -0.005458 -0.004150  0.0016  ...  0.176386 -0.003558 -0.006283 -0.0018   \n1115 -0.005900 -0.002833  0.0032  ...  0.182339 -0.005458 -0.004150  0.0016   \n\n      CREDITL1    PPIGL1     IPGL1  MA112L1  MA312L1  MOM6L1  \n0       0.0114 -0.588235 -0.400104      1.0      1.0     1.0  \n1       0.0115 -2.958580 -0.401711      1.0      1.0     1.0  \n2       0.0120  1.219512  0.806663      1.0      1.0     1.0  \n3       0.0131 -0.602410  1.200312      1.0      1.0     1.0  \n4       0.0125 -1.212121 -2.372151      1.0      1.0     1.0  \n...        ...       ...       ...      ...      ...     ...  \n1111    0.0123  0.199700 -0.175883      1.0      1.0     1.0  \n1112    0.0135 -0.747384  0.705045      1.0      1.0     1.0  \n1113    0.0133 -0.401606 -0.347551      1.0      1.0     1.0  \n1114    0.0130  0.100806 -0.406952      1.0      1.0     1.0  \n1115    0.0125  0.201410  0.928027      1.0      1.0     1.0  \n\n[1116 rows x 28 columns]",
      "text/html": "<div>\n<style scoped>\n    .dataframe tbody tr th:only-of-type {\n        vertical-align: middle;\n    }\n\n    .dataframe tbody tr th {\n        vertical-align: top;\n    }\n\n    .dataframe thead th {\n        text-align: right;\n    }\n</style>\n<table border=\"1\" class=\"dataframe\">\n  <thead>\n    <tr style=\"text-align: right;\">\n      <th></th>\n      <th>yyyymm</th>\n      <th>Ret</th>\n      <th>Rfree</th>\n      <th>ExRet</th>\n      <th>DP</th>\n      <th>EP</th>\n      <th>VOL</th>\n      <th>BILL</th>\n      <th>BOND</th>\n      <th>TERM</th>\n      <th>...</th>\n      <th>VOLL1</th>\n      <th>BILLL1</th>\n      <th>BONDL1</th>\n      <th>TERML1</th>\n      <th>CREDITL1</th>\n      <th>PPIGL1</th>\n      <th>IPGL1</th>\n      <th>MA112L1</th>\n      <th>MA312L1</th>\n      <th>MOM6L1</th>\n    </tr>\n  </thead>\n  <tbody>\n    <tr>\n      <th>0</th>\n      <td>192701</td>\n      <td>-0.002910</td>\n      <td>0.002692</td>\n      <td>-0.005602</td>\n      <td>-2.942374</td>\n      <td>-2.374773</td>\n      <td>0.133608</td>\n      <td>-0.001625</td>\n      <td>-0.001508</td>\n      <td>0.0044</td>\n      <td>...</td>\n      <td>0.133201</td>\n      <td>0.000808</td>\n      <td>-0.001400</td>\n      <td>0.0019</td>\n      <td>0.0114</td>\n      <td>-0.588235</td>\n      <td>-0.400104</td>\n      <td>1.0</td>\n      <td>1.0</td>\n      <td>1.0</td>\n    </tr>\n    <tr>\n      <th>1</th>\n      <td>192702</td>\n      <td>0.045522</td>\n      <td>0.002742</td>\n      <td>0.042780</td>\n      <td>-2.979535</td>\n      <td>-2.430353</td>\n      <td>0.138032</td>\n      <td>0.000192</td>\n      <td>-0.001700</td>\n      <td>0.0024</td>\n      <td>...</td>\n      <td>0.133608</td>\n      <td>-0.001625</td>\n      <td>-0.001508</td>\n      <td>0.0044</td>\n      <td>0.0115</td>\n      <td>-2.958580</td>\n      <td>-0.401711</td>\n      <td>1.0</td>\n      <td>1.0</td>\n      <td>1.0</td>\n    </tr>\n    <tr>\n      <th>2</th>\n      <td>192703</td>\n      <td>0.007324</td>\n      <td>0.002667</td>\n      <td>0.004657</td>\n      <td>-2.976535</td>\n      <td>-2.445079</td>\n      <td>0.119803</td>\n      <td>0.000700</td>\n      <td>-0.002967</td>\n      <td>0.0002</td>\n      <td>...</td>\n      <td>0.138032</td>\n      <td>0.000192</td>\n      <td>-0.001700</td>\n      <td>0.0024</td>\n      <td>0.0120</td>\n      <td>1.219512</td>\n      <td>0.806663</td>\n      <td>1.0</td>\n      <td>1.0</td>\n      <td>1.0</td>\n    </tr>\n    <tr>\n      <th>3</th>\n      <td>192704</td>\n      <td>0.013021</td>\n      <td>0.002825</td>\n      <td>0.010196</td>\n      <td>-2.984225</td>\n      <td>-2.471309</td>\n      <td>0.110576</td>\n      <td>-0.000250</td>\n      <td>-0.002475</td>\n      <td>0.0013</td>\n      <td>...</td>\n      <td>0.119803</td>\n      <td>0.000700</td>\n      <td>-0.002967</td>\n      <td>0.0002</td>\n      <td>0.0131</td>\n      <td>-0.602410</td>\n      <td>1.200312</td>\n      <td>1.0</td>\n      <td>1.0</td>\n      <td>1.0</td>\n    </tr>\n    <tr>\n      <th>4</th>\n      <td>192705</td>\n      <td>0.062353</td>\n      <td>0.002775</td>\n      <td>0.059578</td>\n      <td>-3.025963</td>\n      <td>-2.531446</td>\n      <td>0.128207</td>\n      <td>0.001392</td>\n      <td>-0.002725</td>\n      <td>-0.0012</td>\n      <td>...</td>\n      <td>0.110576</td>\n      <td>-0.000250</td>\n      <td>-0.002475</td>\n      <td>0.0013</td>\n      <td>0.0125</td>\n      <td>-1.212121</td>\n      <td>-2.372151</td>\n      <td>1.0</td>\n      <td>1.0</td>\n      <td>1.0</td>\n    </tr>\n    <tr>\n      <th>...</th>\n      <td>...</td>\n      <td>...</td>\n      <td>...</td>\n      <td>...</td>\n      <td>...</td>\n      <td>...</td>\n      <td>...</td>\n      <td>...</td>\n      <td>...</td>\n      <td>...</td>\n      <td>...</td>\n      <td>...</td>\n      <td>...</td>\n      <td>...</td>\n      <td>...</td>\n      <td>...</td>\n      <td>...</td>\n      <td>...</td>\n      <td>...</td>\n      <td>...</td>\n      <td>...</td>\n    </tr>\n    <tr>\n      <th>1111</th>\n      <td>201908</td>\n      <td>-0.016085</td>\n      <td>0.001625</td>\n      <td>-0.017710</td>\n      <td>-3.941330</td>\n      <td>-3.086025</td>\n      <td>0.188374</td>\n      <td>-0.001725</td>\n      <td>-0.009958</td>\n      <td>-0.0047</td>\n      <td>...</td>\n      <td>0.194472</td>\n      <td>-0.000908</td>\n      <td>-0.006742</td>\n      <td>-0.0011</td>\n      <td>0.0123</td>\n      <td>0.199700</td>\n      <td>-0.175883</td>\n      <td>1.0</td>\n      <td>1.0</td>\n      <td>1.0</td>\n    </tr>\n    <tr>\n      <th>1112</th>\n      <td>201909</td>\n      <td>0.018791</td>\n      <td>0.001575</td>\n      <td>0.017216</td>\n      <td>-3.951689</td>\n      <td>-3.108987</td>\n      <td>0.193314</td>\n      <td>-0.003158</td>\n      <td>-0.007892</td>\n      <td>-0.0025</td>\n      <td>...</td>\n      <td>0.188374</td>\n      <td>-0.001725</td>\n      <td>-0.009958</td>\n      <td>-0.0047</td>\n      <td>0.0135</td>\n      <td>-0.747384</td>\n      <td>0.705045</td>\n      <td>1.0</td>\n      <td>1.0</td>\n      <td>1.0</td>\n    </tr>\n    <tr>\n      <th>1113</th>\n      <td>201910</td>\n      <td>0.021621</td>\n      <td>0.001375</td>\n      <td>0.020246</td>\n      <td>-3.965984</td>\n      <td>-3.112869</td>\n      <td>0.176386</td>\n      <td>-0.003558</td>\n      <td>-0.006283</td>\n      <td>-0.0018</td>\n      <td>...</td>\n      <td>0.193314</td>\n      <td>-0.003158</td>\n      <td>-0.007892</td>\n      <td>-0.0025</td>\n      <td>0.0133</td>\n      <td>-0.401606</td>\n      <td>-0.347551</td>\n      <td>1.0</td>\n      <td>1.0</td>\n      <td>1.0</td>\n    </tr>\n    <tr>\n      <th>1114</th>\n      <td>201911</td>\n      <td>0.036206</td>\n      <td>0.001283</td>\n      <td>0.034923</td>\n      <td>-3.993568</td>\n      <td>-3.130267</td>\n      <td>0.182339</td>\n      <td>-0.005458</td>\n      <td>-0.004150</td>\n      <td>0.0016</td>\n      <td>...</td>\n      <td>0.176386</td>\n      <td>-0.003558</td>\n      <td>-0.006283</td>\n      <td>-0.0018</td>\n      <td>0.0130</td>\n      <td>0.100806</td>\n      <td>-0.406952</td>\n      <td>1.0</td>\n      <td>1.0</td>\n      <td>1.0</td>\n    </tr>\n    <tr>\n      <th>1115</th>\n      <td>201912</td>\n      <td>0.029788</td>\n      <td>0.001283</td>\n      <td>0.028505</td>\n      <td>-4.015896</td>\n      <td>-3.142629</td>\n      <td>0.160321</td>\n      <td>-0.005900</td>\n      <td>-0.002833</td>\n      <td>0.0032</td>\n      <td>...</td>\n      <td>0.182339</td>\n      <td>-0.005458</td>\n      <td>-0.004150</td>\n      <td>0.0016</td>\n      <td>0.0125</td>\n      <td>0.201410</td>\n      <td>0.928027</td>\n      <td>1.0</td>\n      <td>1.0</td>\n      <td>1.0</td>\n    </tr>\n  </tbody>\n</table>\n<p>1116 rows × 28 columns</p>\n</div>"
     },
     "execution_count": 7,
     "metadata": {},
     "output_type": "execute_result"
    }
   ],
   "source": [
    "data = data[data['yyyymm'] >= 192701]\n",
    "data.reset_index(drop=True, inplace=True)\n",
    "data"
   ],
   "metadata": {
    "collapsed": false
   }
  },
  {
   "cell_type": "code",
   "execution_count": 8,
   "outputs": [
    {
     "data": {
      "text/plain": "<Axes: >"
     },
     "execution_count": 8,
     "metadata": {},
     "output_type": "execute_result"
    },
    {
     "data": {
      "text/plain": "<Figure size 640x480 with 1 Axes>",
      "image/png": "[encoded data removed]"
     },
     "metadata": {},
     "output_type": "display_data"
    }
   ],
   "source": [
    "data['DP'].plot()"
   ],
   "metadata": {
    "collapsed": false
   }
  },
  {
   "cell_type": "code",
   "execution_count": 9,
   "outputs": [
    {
     "data": {
      "text/plain": "<Axes: >"
     },
     "execution_count": 9,
     "metadata": {},
     "output_type": "execute_result"
    },
    {
     "data": {
      "text/plain": "<Figure size 640x480 with 1 Axes>",
      "image/png": "[encoded data removed]"
     },
     "metadata": {},
     "output_type": "display_data"
    }
   ],
   "source": [
    "data['EP'].plot()"
   ],
   "metadata": {
    "collapsed": false
   }
  },
  {
   "cell_type": "code",
   "execution_count": 10,
   "outputs": [
    {
     "name": "stdout",
     "output_type": "stream",
     "text": [
      "         ExRet        DP\n",
      "0    -0.005602 -2.942374\n",
      "1     0.042780 -2.979535\n",
      "2     0.004657 -2.976535\n",
      "3     0.010196 -2.984225\n",
      "4     0.059578 -3.025963\n",
      "...        ...       ...\n",
      "1111 -0.017710 -3.941330\n",
      "1112  0.017216 -3.951689\n",
      "1113  0.020246 -3.965984\n",
      "1114  0.034923 -3.993568\n",
      "1115  0.028505 -4.015896\n",
      "\n",
      "[1116 rows x 2 columns]\n",
      "         ExRet        EP\n",
      "0    -0.005602 -2.374773\n",
      "1     0.042780 -2.430353\n",
      "2     0.004657 -2.445079\n",
      "3     0.010196 -2.471309\n",
      "4     0.059578 -2.531446\n",
      "...        ...       ...\n",
      "1111 -0.017710 -3.086025\n",
      "1112  0.017216 -3.108987\n",
      "1113  0.020246 -3.112869\n",
      "1114  0.034923 -3.130267\n",
      "1115  0.028505 -3.142629\n",
      "\n",
      "[1116 rows x 2 columns]\n",
      "         ExRet       VOL\n",
      "0    -0.005602  0.133608\n",
      "1     0.042780  0.138032\n",
      "2     0.004657  0.119803\n",
      "3     0.010196  0.110576\n",
      "4     0.059578  0.128207\n",
      "...        ...       ...\n",
      "1111 -0.017710  0.188374\n",
      "1112  0.017216  0.193314\n",
      "1113  0.020246  0.176386\n",
      "1114  0.034923  0.182339\n",
      "1115  0.028505  0.160321\n",
      "\n",
      "[1116 rows x 2 columns]\n",
      "         ExRet      BILL\n",
      "0    -0.005602 -0.001625\n",
      "1     0.042780  0.000192\n",
      "2     0.004657  0.000700\n",
      "3     0.010196 -0.000250\n",
      "4     0.059578  0.001392\n",
      "...        ...       ...\n",
      "1111 -0.017710 -0.001725\n",
      "1112  0.017216 -0.003158\n",
      "1113  0.020246 -0.003558\n",
      "1114  0.034923 -0.005458\n",
      "1115  0.028505 -0.005900\n",
      "\n",
      "[1116 rows x 2 columns]\n",
      "         ExRet      BOND\n",
      "0    -0.005602 -0.001508\n",
      "1     0.042780 -0.001700\n",
      "2     0.004657 -0.002967\n",
      "3     0.010196 -0.002475\n",
      "4     0.059578 -0.002725\n",
      "...        ...       ...\n",
      "1111 -0.017710 -0.009958\n",
      "1112  0.017216 -0.007892\n",
      "1113  0.020246 -0.006283\n",
      "1114  0.034923 -0.004150\n",
      "1115  0.028505 -0.002833\n",
      "\n",
      "[1116 rows x 2 columns]\n",
      "         ExRet    TERM\n",
      "0    -0.005602  0.0044\n",
      "1     0.042780  0.0024\n",
      "2     0.004657  0.0002\n",
      "3     0.010196  0.0013\n",
      "4     0.059578 -0.0012\n",
      "...        ...     ...\n",
      "1111 -0.017710 -0.0047\n",
      "1112  0.017216 -0.0025\n",
      "1113  0.020246 -0.0018\n",
      "1114  0.034923  0.0016\n",
      "1115  0.028505  0.0032\n",
      "\n",
      "[1116 rows x 2 columns]\n",
      "         ExRet  CREDIT\n",
      "0    -0.005602  0.0115\n",
      "1     0.042780  0.0120\n",
      "2     0.004657  0.0131\n",
      "3     0.010196  0.0125\n",
      "4     0.059578  0.0130\n",
      "...        ...     ...\n",
      "1111 -0.017710  0.0135\n",
      "1112  0.017216  0.0133\n",
      "1113  0.020246  0.0130\n",
      "1114  0.034923  0.0125\n",
      "1115  0.028505  0.0115\n",
      "\n",
      "[1116 rows x 2 columns]\n",
      "         ExRet      PPIG\n",
      "0    -0.005602 -2.958580\n",
      "1     0.042780  1.219512\n",
      "2     0.004657 -0.602410\n",
      "3     0.010196 -1.212121\n",
      "4     0.059578 -0.613497\n",
      "...        ...       ...\n",
      "1111 -0.017710 -0.747384\n",
      "1112  0.017216 -0.401606\n",
      "1113  0.020246  0.100806\n",
      "1114  0.034923  0.201410\n",
      "1115  0.028505  0.000000\n",
      "\n",
      "[1116 rows x 2 columns]\n",
      "         ExRet       IPG\n",
      "0    -0.005602 -0.401711\n",
      "1     0.042780  0.806663\n",
      "2     0.004657  1.200312\n",
      "3     0.010196 -2.372151\n",
      "4     0.059578  0.809930\n",
      "...        ...       ...\n",
      "1111 -0.017710  0.705045\n",
      "1112  0.017216 -0.347551\n",
      "1113  0.020246 -0.406952\n",
      "1114  0.034923  0.928027\n",
      "1115  0.028505 -0.366325\n",
      "\n",
      "[1116 rows x 2 columns]\n",
      "         ExRet  MA112\n",
      "0    -0.005602      1\n",
      "1     0.042780      1\n",
      "2     0.004657      1\n",
      "3     0.010196      1\n",
      "4     0.059578      1\n",
      "...        ...    ...\n",
      "1111 -0.017710      1\n",
      "1112  0.017216      1\n",
      "1113  0.020246      1\n",
      "1114  0.034923      1\n",
      "1115  0.028505      1\n",
      "\n",
      "[1116 rows x 2 columns]\n",
      "         ExRet  MA312\n",
      "0    -0.005602      1\n",
      "1     0.042780      1\n",
      "2     0.004657      1\n",
      "3     0.010196      1\n",
      "4     0.059578      1\n",
      "...        ...    ...\n",
      "1111 -0.017710      1\n",
      "1112  0.017216      1\n",
      "1113  0.020246      1\n",
      "1114  0.034923      1\n",
      "1115  0.028505      1\n",
      "\n",
      "[1116 rows x 2 columns]\n",
      "         ExRet  MOM6\n",
      "0    -0.005602     1\n",
      "1     0.042780     1\n",
      "2     0.004657     1\n",
      "3     0.010196     1\n",
      "4     0.059578     1\n",
      "...        ...   ...\n",
      "1111 -0.017710     1\n",
      "1112  0.017216     1\n",
      "1113  0.020246     1\n",
      "1114  0.034923     1\n",
      "1115  0.028505     1\n",
      "\n",
      "[1116 rows x 2 columns]\n"
     ]
    }
   ],
   "source": [
    "for i in data.columns[4:16]:\n",
    "    factor=i\n",
    "    print(data[['ExRet', i]])"
   ],
   "metadata": {
    "collapsed": false
   }
  },
  {
   "cell_type": "code",
   "execution_count": 11,
   "outputs": [
    {
     "name": "stdout",
     "output_type": "stream",
     "text": [
      "In-sample tests for one factor model with OLS:\n",
      "Predictor: DP\n",
      "Regressing Results: b = -0.016494, k = -0.006830\n",
      "Regressing Pvalues: p = 0.167258, p = 0.050744\n",
      "Inference: 在10%的显著性水平下有样本内预测能力\n",
      "In-sample tests for one factor model with OLS:\n",
      "Predictor: EP\n",
      "Regressing Results: b = -0.015230, k = -0.007963\n",
      "Regressing Pvalues: p = 0.160354, p = 0.041637\n",
      "Inference: 在5%的显著性水平下有样本内预测能力\n",
      "In-sample tests for one factor model with OLS:\n",
      "Predictor: VOL\n",
      "Regressing Results: b = -0.000123, k = 0.040301\n",
      "Regressing Pvalues: p = 0.971027, p = 0.023613\n",
      "Inference: 在5%的显著性水平下有样本内预测能力\n",
      "In-sample tests for one factor model with OLS:\n",
      "Predictor: BILL\n",
      "Regressing Results: b = 0.006610, k = -0.338122\n",
      "Regressing Pvalues: p = 0.000050, p = 0.111058\n",
      "Inference: 无样本内预测能力\n",
      "In-sample tests for one factor model with OLS:\n",
      "Predictor: BOND\n",
      "Regressing Results: b = 0.006481, k = -1.757020\n",
      "Regressing Pvalues: p = 0.000060, p = 0.000002\n",
      "Inference: 在1%的显著性水平下有样本内预测能力\n",
      "In-sample tests for one factor model with OLS:\n",
      "Predictor: TERM\n",
      "Regressing Results: b = 0.005105, k = 0.090130\n",
      "Regressing Pvalues: p = 0.055423, p = 0.469501\n",
      "Inference: 无样本内预测能力\n",
      "In-sample tests for one factor model with OLS:\n",
      "Predictor: CREDIT\n",
      "Regressing Results: b = 0.005278, k = 0.195136\n",
      "Regressing Pvalues: p = 0.094432, p = 0.616411\n",
      "Inference: 无样本内预测能力\n",
      "In-sample tests for one factor model with OLS:\n",
      "Predictor: PPIG\n",
      "Regressing Results: b = 0.005719, k = 0.004027\n",
      "Regressing Pvalues: p = 0.000581, p = 0.009460\n",
      "Inference: 在1%的显著性水平下有样本内预测能力\n",
      "In-sample tests for one factor model with OLS:\n",
      "Predictor: IPG\n",
      "Regressing Results: b = 0.005545, k = 0.004120\n",
      "Regressing Pvalues: p = 0.000682, p = 0.000007\n",
      "Inference: 在1%的显著性水平下有样本内预测能力\n",
      "In-sample tests for one factor model with OLS:\n",
      "Predictor: MA112\n",
      "Regressing Results: b = -0.019090, k = 0.037279\n",
      "Regressing Pvalues: p = 0.000000, p = 0.000000\n",
      "Inference: 在1%的显著性水平下有样本内预测能力\n",
      "In-sample tests for one factor model with OLS:\n",
      "Predictor: MA312\n",
      "Regressing Results: b = -0.004082, k = 0.015589\n",
      "Regressing Pvalues: p = 0.156579, p = 0.000008\n",
      "Inference: 在1%的显著性水平下有样本内预测能力\n",
      "In-sample tests for one factor model with OLS:\n",
      "Predictor: MOM6\n",
      "Regressing Results: b = -0.017435, k = 0.036100\n",
      "Regressing Pvalues: p = 0.000000, p = 0.000000\n",
      "Inference: 在1%的显著性水平下有样本内预测能力\n"
     ]
    }
   ],
   "source": [
    "for i in data.columns[4:16]:\n",
    "    factor=i\n",
    "    model = smf.ols(f'ExRet ~ {i}', data=data[['ExRet', i]])\n",
    "    results = model.fit()\n",
    "    rg_con = results.params['Intercept']\n",
    "    rg_con_pvalue = results.pvalues['Intercept']\n",
    "    rg_i = results.params[i]\n",
    "    rg_i_pvalue = results.pvalues[i]\n",
    "    if rg_i_pvalue <= 0.01:\n",
    "        jud = '在1%的显著性水平下有样本内预测能力'\n",
    "    elif (rg_i_pvalue > 0.01) & (rg_i_pvalue <= 0.05):\n",
    "        jud = '在5%的显著性水平下有样本内预测能力'\n",
    "    elif (rg_i_pvalue > 0.05) & (rg_i_pvalue <= 0.1):\n",
    "        jud = '在10%的显著性水平下有样本内预测能力'\n",
    "    else:\n",
    "        jud = '无样本内预测能力'\n",
    "    print('In-sample tests for one factor model with OLS:')\n",
    "    print('Predictor: {:s}'.format(factor))\n",
    "    print('Regressing Results: b = {:f}, k = {:f}'.format(rg_con, rg_i))\n",
    "    print('Regressing Pvalues: p = {:f}, p = {:f}'.format(rg_con_pvalue, rg_i_pvalue))\n",
    "    print('Inference: {:s}'.format(jud))\n"
   ],
   "metadata": {
    "collapsed": false
   }
  },
  {
   "cell_type": "code",
   "execution_count": 12,
   "outputs": [],
   "source": [
    "def myfun_stat_gains(rout, rmean, rreal):\n",
    "    R2os = 1 - np.sum((rreal-rout)**2)/np.sum((rreal-rmean)**2)\n",
    "    d = (rreal - rmean)**2 - ((rreal-rout)**2 - (rmean-rout)**2)\n",
    "    x = sm.add_constant(np.arange(len(d))+1)\n",
    "    model = sm.OLS(d, x)\n",
    "    fitres = model.fit()\n",
    "    MFSEadj = fitres.tvalues[0]\n",
    "    pvalue_MFSEadj = fitres.pvalues[0]\n",
    "\n",
    "    if (R2os > 0) & (pvalue_MFSEadj <= 0.01):\n",
    "        jud = '在1%的显著性水平下有样本外预测能力'\n",
    "    elif (R2os > 0) & (pvalue_MFSEadj > 0.01) & (pvalue_MFSEadj <= 0.05):\n",
    "        jud = '在5%的显著性水平下有样本外预测能力'\n",
    "    elif (R2os > 0) & (pvalue_MFSEadj > 0.05) & (pvalue_MFSEadj <= 0.1):\n",
    "        jud = '在10%的显著性水平下有样本外预测能力'\n",
    "    else:\n",
    "        jud = '无样本外预测能力'\n",
    "    print('Stat gains: R2os = {:f}, MFSEadj = {:f}, MFSEpvalue = {:f}'.format(R2os, MFSEadj, pvalue_MFSEadj))\n",
    "    print('Inference: {:s}'.format(jud))\n",
    "\n",
    "    return R2os, MFSEadj, pvalue_MFSEadj"
   ],
   "metadata": {
    "collapsed": false
   }
  },
  {
   "cell_type": "code",
   "execution_count": 13,
   "outputs": [],
   "source": [
    "def myfun_econ_gains(rout, rmean, rreal, rfree, volt2, gmm = 5):\n",
    "    omg_out = rout/volt2/gmm\n",
    "    rp_out = rfree + omg_out*rreal\n",
    "    Uout = np.mean(rp_out) - 0.5*gmm*np.var(rp_out)\n",
    "    omg_mean = rmean/volt2/gmm\n",
    "    rp_mean = rfree + omg_mean*rreal\n",
    "    Umean = np.mean(rp_mean) - 0.5*gmm*np.var(rp_mean)\n",
    "    DeltaU = Uout - Umean\n",
    "\n",
    "    if DeltaU < 10**-6:\n",
    "        jud = '没有经济意义'\n",
    "    else:\n",
    "        jud = '有经济意义'\n",
    "    print('Econ Gains: Delta U = {:f}, Upred = {:f}, Umean = {:f}'.format(DeltaU, Uout, Umean))\n",
    "    print('Inference: {:s}'.format(jud))\n",
    "\n",
    "    return Uout, Umean, DeltaU"
   ],
   "metadata": {
    "collapsed": false
   }
  },
  {
   "cell_type": "code",
   "execution_count": 14,
   "outputs": [
    {
     "name": "stdout",
     "output_type": "stream",
     "text": [
      "\n",
      "Out-of-sample tests for one factor model with OLS:\n",
      "Predictor: DP\n",
      "Stat gains: R2os = -0.005143, MFSEadj = 2.062252, MFSEpvalue = 0.039526\n",
      "Inference: 无样本外预测能力\n",
      "Econ Gains: Delta U = -0.000301, Upred = 0.003771, Umean = 0.004072\n",
      "Inference: 没有经济意义\n",
      "\n",
      "Out-of-sample tests for one factor model with OLS:\n",
      "Predictor: EP\n",
      "Stat gains: R2os = -0.015106, MFSEadj = 0.640065, MFSEpvalue = 0.522325\n",
      "Inference: 无样本外预测能力\n",
      "Econ Gains: Delta U = -0.000170, Upred = 0.003902, Umean = 0.004072\n",
      "Inference: 没有经济意义\n",
      "\n",
      "Out-of-sample tests for one factor model with OLS:\n",
      "Predictor: VOL\n",
      "Stat gains: R2os = 0.004113, MFSEadj = 2.097376, MFSEpvalue = 0.036293\n",
      "Inference: 在5%的显著性水平下有样本外预测能力\n",
      "Econ Gains: Delta U = -0.000069, Upred = 0.004003, Umean = 0.004072\n",
      "Inference: 没有经济意义\n",
      "\n",
      "Out-of-sample tests for one factor model with OLS:\n",
      "Predictor: BILL\n",
      "Stat gains: R2os = -0.000322, MFSEadj = 2.795891, MFSEpvalue = 0.005307\n",
      "Inference: 无样本外预测能力\n",
      "Econ Gains: Delta U = 0.000049, Upred = 0.004121, Umean = 0.004072\n",
      "Inference: 有经济意义\n",
      "\n",
      "Out-of-sample tests for one factor model with OLS:\n",
      "Predictor: BOND\n",
      "Stat gains: R2os = 0.011894, MFSEadj = 3.107020, MFSEpvalue = 0.001961\n",
      "Inference: 在1%的显著性水平下有样本外预测能力\n",
      "Econ Gains: Delta U = 0.000687, Upred = 0.004759, Umean = 0.004072\n",
      "Inference: 有经济意义\n",
      "\n",
      "Out-of-sample tests for one factor model with OLS:\n",
      "Predictor: TERM\n",
      "Stat gains: R2os = -0.001091, MFSEadj = 1.750775, MFSEpvalue = 0.080391\n",
      "Inference: 无样本外预测能力\n",
      "Econ Gains: Delta U = 0.000064, Upred = 0.004136, Umean = 0.004072\n",
      "Inference: 有经济意义\n",
      "\n",
      "Out-of-sample tests for one factor model with OLS:\n",
      "Predictor: CREDIT\n",
      "Stat gains: R2os = -0.000930, MFSEadj = 0.735414, MFSEpvalue = 0.462316\n",
      "Inference: 无样本外预测能力\n",
      "Econ Gains: Delta U = 0.000033, Upred = 0.004105, Umean = 0.004072\n",
      "Inference: 有经济意义\n",
      "\n",
      "Out-of-sample tests for one factor model with OLS:\n",
      "Predictor: PPIG\n",
      "Stat gains: R2os = -0.001019, MFSEadj = 0.862098, MFSEpvalue = 0.388908\n",
      "Inference: 无样本外预测能力\n",
      "Econ Gains: Delta U = -0.000006, Upred = 0.004066, Umean = 0.004072\n",
      "Inference: 没有经济意义\n",
      "\n",
      "Out-of-sample tests for one factor model with OLS:\n",
      "Predictor: IPG\n",
      "Stat gains: R2os = 0.000464, MFSEadj = -0.952251, MFSEpvalue = 0.341275\n",
      "Inference: 无样本外预测能力\n",
      "Econ Gains: Delta U = 0.000003, Upred = 0.004075, Umean = 0.004072\n",
      "Inference: 有经济意义\n",
      "\n",
      "Out-of-sample tests for one factor model with OLS:\n",
      "Predictor: MA112\n",
      "Stat gains: R2os = 0.001486, MFSEadj = 0.707132, MFSEpvalue = 0.479703\n",
      "Inference: 无样本外预测能力\n",
      "Econ Gains: Delta U = 0.000172, Upred = 0.004244, Umean = 0.004072\n",
      "Inference: 有经济意义\n",
      "\n",
      "Out-of-sample tests for one factor model with OLS:\n",
      "Predictor: MA312\n",
      "Stat gains: R2os = -0.001900, MFSEadj = 0.137456, MFSEpvalue = 0.890707\n",
      "Inference: 无样本外预测能力\n",
      "Econ Gains: Delta U = 0.000066, Upred = 0.004138, Umean = 0.004072\n",
      "Inference: 有经济意义\n",
      "\n",
      "Out-of-sample tests for one factor model with OLS:\n",
      "Predictor: MOM6\n",
      "Stat gains: R2os = -0.001505, MFSEadj = 0.490648, MFSEpvalue = 0.623818\n",
      "Inference: 无样本外预测能力\n",
      "Econ Gains: Delta U = 0.000062, Upred = 0.004134, Umean = 0.004072\n",
      "Inference: 有经济意义\n"
     ]
    }
   ],
   "source": [
    "# 样本外检验\n",
    "# 单因子模型: OLS线性拟合\n",
    "for j in data.columns[4:16]:\n",
    "    factor_out=j\n",
    "    datafit = data[['yyyymm', 'Ret', 'Rfree', 'ExRet', j, j+'L1']].copy(deep=True)\n",
    "    n_in = np.sum(datafit['yyyymm'] <= 195612)\n",
    "    n_out = np.sum(datafit['yyyymm'] > 195612)\n",
    "    rout = np.zeros(n_out)\n",
    "    rmean = np.zeros(n_out)\n",
    "    rreal = np.zeros(n_out)\n",
    "    rfree = np.zeros(n_out)\n",
    "    volt2 = np.zeros(n_out)\n",
    "    for i in range(n_out):\n",
    "        model = smf.ols('ExRet ~ '+j+'L1', data=datafit[['ExRet', j+'L1']].iloc[:(n_in+i),:])\n",
    "        results = model.fit()\n",
    "        b = results.params['Intercept']\n",
    "        k = results.params[j+'L1']\n",
    "        f = datafit[j].iloc[n_in+i-1]\n",
    "        rreal[i] = datafit['ExRet'].iloc[n_in+i]\n",
    "        rfree[i] = datafit['Rfree'].iloc[n_in+i]\n",
    "        rout[i] = k*f+b\n",
    "        rmean[i] = np.mean(datafit['ExRet'].iloc[:(n_in+i)].values)\n",
    "        volt2[i] = np.sum(datafit['Ret'].iloc[(n_in+i-12):(n_in+i)].values**2)\n",
    "    print()\n",
    "    print('Out-of-sample tests for one factor model with OLS:')\n",
    "    print('Predictor: {:s}'.format(factor_out))\n",
    "    R2os, MFSEadj, pvalue_MFSEadj = myfun_stat_gains(rout, rmean, rreal)\n",
    "    Uout, Umean, DeltaU = myfun_econ_gains(rout, rmean, rreal, rfree, volt2, gmm=5)\n",
    "    del datafit\n",
    "\n",
    "# factor_out = 'DP'\n",
    "# datafit = data[['yyyymm', 'Ret', 'Rfree', 'ExRet', 'DP', 'DPL1']].copy(deep=True)\n",
    "#\n",
    "# n_in = np.sum(datafit['yyyymm'] <= 195612)\n",
    "# n_out = np.sum(datafit['yyyymm'] > 195612)\n",
    "# rout = np.zeros(n_out)\n",
    "# rmean = np.zeros(n_out)\n",
    "# rreal = np.zeros(n_out)\n",
    "# rfree = np.zeros(n_out)\n",
    "# volt2 = np.zeros(n_out)\n",
    "# for i in range(n_out):\n",
    "#     model = smf.ols('ExRet ~ DPL1', data=datafit[['ExRet', 'DPL1']].iloc[:(n_in+i),:])\n",
    "#     results = model.fit()\n",
    "#     b = results.params['Intercept']\n",
    "#     k = results.params['DPL1']\n",
    "#     f = datafit['DP'].iloc[n_in+i-1]\n",
    "#     rreal[i] = datafit['ExRet'].iloc[n_in+i]\n",
    "#     rfree[i] = datafit['Rfree'].iloc[n_in+i]\n",
    "#     rout[i] = k*f+b\n",
    "#     rmean[i] = np.mean(datafit['ExRet'].iloc[:(n_in+i)].values)\n",
    "#     volt2[i] = np.sum(datafit['Ret'].iloc[(n_in+i-12):(n_in+i)].values**2)\n",
    "#\n",
    "# print()\n",
    "# print('Out-of-sample tests for one factor model with OLS:')\n",
    "# print('Predictor: {:s}'.format(factor_out))\n",
    "# R2os, MFSEadj, pvalue_MFSEadj = myfun_stat_gains(rout, rmean, rreal)\n",
    "# Uout, Umean, DeltaU = myfun_econ_gains(rout, rmean, rreal, rfree, volt2, gmm=5)\n",
    "# del datafit"
   ],
   "metadata": {
    "collapsed": false
   }
  },
  {
   "cell_type": "code",
   "execution_count": 15,
   "outputs": [
    {
     "name": "stdout",
     "output_type": "stream",
     "text": [
      "\n",
      "Out-of-sample tests for multi-factor model with OLS:\n",
      "Predictor: DP, EP, VOL, BILL, BOND, TERM, CREDIT, PPIG, IPG, MA112, MA312, MOM6\n",
      "Stat gains: R2os = -0.032711, MFSEadj = 2.848436, MFSEpvalue = 0.004513\n",
      "Inference: 无样本外预测能力\n",
      "Econ Gains: Delta U = 0.000494, Upred = 0.004566, Umean = 0.004072\n",
      "Inference: 有经济意义\n"
     ]
    },
    {
     "name": "stderr",
     "output_type": "stream",
     "text": [
      "找不到 E:\\大三下study\\蒋志强\\实验4\\实验代码\\datafit\n"
     ]
    }
   ],
   "source": [
    "# 样本外检验\n",
    "    # 多因子模型：OLS线性拟合\n",
    "factor_out = 'DP, EP, VOL, BILL, BOND, TERM, CREDIT, PPIG, IPG, MA112, MA312, MOM6'\n",
    "datafit = data.copy(deep=True)\n",
    "\n",
    "n_in = np.sum(datafit['yyyymm'] <= 195612)\n",
    "n_out = np.sum(datafit['yyyymm'] > 195612)\n",
    "rout = np.zeros(n_out)\n",
    "rmean = np.zeros(n_out)\n",
    "rreal = np.zeros(n_out)\n",
    "rfree = np.zeros(n_out)\n",
    "volt2 = np.zeros(n_out)\n",
    "\n",
    "for i in range(n_out):\n",
    "    model = smf.ols('ExRet ~ DPL1 + EPL1 + VOLL1 + BILLL1 + BONDL1 + TERML1 + CREDITL1 + '\n",
    "                    'PPIGL1 + IPGL1 + MA112L1 + MA312L1 + MOM6L1',\n",
    "                    data=datafit[['ExRet', 'DPL1', 'EPL1', 'VOLL1', 'BILLL1', 'BONDL1', 'TERML1',\n",
    "                                  'CREDITL1', 'PPIGL1', 'IPGL1', 'MA112L1', 'MA312L1', 'MOM6L1']].iloc[:(n_in+i), :])\n",
    "    results = model.fit()\n",
    "    k = results.params.values\n",
    "    f = datafit[['DP', 'EP', 'VOL', 'BILL', 'BOND', 'TERM', 'CREDIT', 'PPIG',\n",
    "                 'IPG', 'MA112', 'MA312', 'MOM6']].iloc[n_in+i-1, :].values\n",
    "    f = np.concatenate((np.array([1]), f))\n",
    "    rreal[i] = datafit['ExRet'].iloc[n_in+i]\n",
    "    rfree[i] = datafit['Rfree'].iloc[n_in+i]\n",
    "    rout[i] = np.sum(k*f)\n",
    "    rmean[i] = np.mean(datafit['ExRet'].iloc[:(n_in+i)].values)\n",
    "    volt2[i] = np.sum(datafit['Ret'].iloc[(n_in+i-12):(n_in+i)].values**2)\n",
    "\n",
    "\n",
    "print('Out-of-sample tests for multi-factor model with OLS:')\n",
    "print('Predictor: {:s}'.format(factor_out))\n",
    "R2os, MFSEadj, pvalue_MFSEadj = myfun_stat_gains(rout, rmean, rreal)\n",
    "Uout, Umean, DeltaU = myfun_econ_gains(rout, rmean, rreal, rfree, volt2, gmm=5)\n",
    "del datafit"
   ],
   "metadata": {
    "collapsed": false
   }
  },
  {
   "cell_type": "code",
   "execution_count": 26,
   "outputs": [
    {
     "name": "stdout",
     "output_type": "stream",
     "text": [
      "\n",
      "Out-of-sample tests for multi-factor model with ML method:\n",
      "Predictor: DP, EP, VOL, BILL, BOND, TERM, CREDIT, PPIG, IPG, MA112, MA312, MOM6\n",
      "Stat gains: R2os = -0.003283, MFSEadj = 0.941862, MFSEpvalue = 0.346565\n",
      "Inference: 无样本外预测能力\n",
      "Econ Gains: Delta U = -0.000134, Upred = 0.003938, Umean = 0.004072\n",
      "Inference: 没有经济意义\n",
      "\n",
      "Out-of-sample tests for multi-factor model with ML method:\n",
      "Predictor: DP, EP, VOL, BILL, BOND, TERM, CREDIT, PPIG, IPG, MA112, MA312, MOM6\n",
      "Stat gains: R2os = -0.016129, MFSEadj = 1.509745, MFSEpvalue = 0.131527\n",
      "Inference: 无样本外预测能力\n",
      "Econ Gains: Delta U = -0.000100, Upred = 0.003972, Umean = 0.004072\n",
      "Inference: 没有经济意义\n",
      "\n",
      "Out-of-sample tests for multi-factor model with ML method:\n",
      "Predictor: DP, EP, VOL, BILL, BOND, TERM, CREDIT, PPIG, IPG, MA112, MA312, MOM6\n",
      "Stat gains: R2os = -0.002174, MFSEadj = 0.922876, MFSEpvalue = 0.356367\n",
      "Inference: 无样本外预测能力\n",
      "Econ Gains: Delta U = -0.000127, Upred = 0.003945, Umean = 0.004072\n",
      "Inference: 没有经济意义\n"
     ]
    }
   ],
   "source": [
    "factor_out = 'DP, EP, VOL, BILL, BOND, TERM, CREDIT, PPIG, IPG, MA112, MA312, MOM6'\n",
    "factor_list = np.array(['DP', 'EP', 'VOL', 'BILL', 'BOND', 'TERM', 'CREDIT', 'PPIG', 'IPG', 'MA112', 'MA312', 'MOM6'])\n",
    "datafit = data.copy(deep=True)\n",
    "n_in = np.sum(datafit['yyyymm'] <= 195612)\n",
    "n_out = np.sum(datafit['yyyymm'] > 195612)\n",
    "rout = np.zeros(n_out)\n",
    "rmean = np.zeros(n_out)\n",
    "rreal = np.zeros(n_out)\n",
    "rfree = np.zeros(n_out)\n",
    "volt2 = np.zeros(n_out)\n",
    "# reg = sklm.LassoCV(random_state=0, cv=10, fit_intercept=True, normalize=True, precompute='auto', copy_X=True, n_jobs=-1, max_iter=10**9, tol=10-6)\n",
    "# reg_lasso = linear_model.LassoLarsCV(cv=10, fit_intercept=True, normalize=True, precompute='auto', copy_X=True, n_jobs=-1, max_iter=10000000)\n",
    "# reg = sklm.RidgeCV(cv=10, fit_intercept=True)\n",
    "# reg = sklm.ElasticNetCV(random_state=0, cv=10, fit_intercept=True, precompute='auto', copy_X=True, n_jobs=-1, max_iter=10**9, tol=10-6)\n",
    "for j in range(3):\n",
    "    if j==0:\n",
    "        reg = sklm.LassoCV(random_state=0, cv=10, fit_intercept=True,precompute='auto', copy_X=True, n_jobs=-1, max_iter=10**9, tol=10-6)\n",
    "    elif j==1:\n",
    "        reg = sklm.RidgeCV(cv=10, fit_intercept=True)\n",
    "    else:\n",
    "        reg = sklm.ElasticNetCV(random_state=0, cv=10, fit_intercept=True, precompute='auto', copy_X=True, n_jobs=-1, max_iter=10**9, tol=10-6)\n",
    "    for i in range(n_out):\n",
    "        X = datafit[['DPL1', 'EPL1', 'VOLL1', 'BILLL1', 'BONDL1', 'TERML1',\n",
    "                     'CREDITL1', 'PPIGL1', 'IPGL1', 'MA112L1', 'MA312L1', 'MOM6L1']].iloc[:(n_in+i), :].values\n",
    "        y = datafit['ExRet'].iloc[:(n_in+i)].values\n",
    "        reg.fit(X, y)\n",
    "        # print(factor_list[np.abs(reg.coef_) != 0])\n",
    "        k = np.concatenate((np.array([reg.intercept_]), reg.coef_))\n",
    "        f = datafit[['DP', 'EP', 'VOL', 'BILL', 'BOND', 'TERM', 'CREDIT', 'PPIG',\n",
    "                     'IPG', 'MA112', 'MA312', 'MOM6']].iloc[n_in+i-1, :].values\n",
    "        f = np.concatenate((np.array([1]), f))\n",
    "        rreal[i] = datafit['ExRet'].iloc[n_in+i]\n",
    "        rfree[i] = datafit['Rfree'].iloc[n_in+i]\n",
    "        rout[i] = np.sum(k*f)\n",
    "        rmean[i] = np.mean(datafit['ExRet'].iloc[:(n_in+i)].values)\n",
    "        volt2[i] = np.sum(datafit['Ret'].iloc[(n_in+i-12):(n_in+i)].values**2)\n",
    "    print('Out-of-sample tests for multi-factor model with ML method:')\n",
    "    print('Predictor: {:s}'.format(factor_out))\n",
    "    R2os, MFSEadj, pvalue_MFSEadj = myfun_stat_gains(rout, rmean, rreal)\n",
    "    Uout, Umean, DeltaU = myfun_econ_gains(rout, rmean, rreal, rfree, volt2, gmm=5)\n",
    "del datafit"
   ],
   "metadata": {
    "collapsed": false
   }
  },
  {
   "cell_type": "code",
   "execution_count": null,
   "outputs": [],
   "source": [],
   "metadata": {
    "collapsed": false
   }
  }
 ],
 "metadata": {
  "kernelspec": {
   "name": "base",
   "language": "python",
   "display_name": "base"
  },
  "language_info": {
   "codemirror_mode": {
    "name": "ipython",
    "version": 2
   },
   "file_extension": ".py",
   "mimetype": "text/x-python",
   "name": "python",
   "nbconvert_exporter": "python",
   "pygments_lexer": "ipython2",
   "version": "2.7.6"
  }
 },
 "nbformat": 4,
 "nbformat_minor": 0
}
