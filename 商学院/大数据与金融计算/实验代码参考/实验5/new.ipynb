{
 "cells": [
  {
   "cell_type": "code",
   "execution_count": 14,
   "metadata": {},
   "outputs": [],
   "source": [
    "import pandas as pd\n",
    "import numpy as np"
   ]
  },
  {
   "cell_type": "code",
   "execution_count": 25,
   "metadata": {},
   "outputs": [
    {
     "data": {
      "text/html": [
       "<div>\n",
       "<style scoped>\n",
       "    .dataframe tbody tr th:only-of-type {\n",
       "        vertical-align: middle;\n",
       "    }\n",
       "\n",
       "    .dataframe tbody tr th {\n",
       "        vertical-align: top;\n",
       "    }\n",
       "\n",
       "    .dataframe thead th {\n",
       "        text-align: right;\n",
       "    }\n",
       "</style>\n",
       "<table border=\"1\" class=\"dataframe\">\n",
       "  <thead>\n",
       "    <tr style=\"text-align: right;\">\n",
       "      <th></th>\n",
       "      <th>日期</th>\n",
       "      <th>市场指数</th>\n",
       "      <th>组合1</th>\n",
       "      <th>组合2</th>\n",
       "      <th>组合3</th>\n",
       "      <th>组合4</th>\n",
       "      <th>组合5</th>\n",
       "      <th>无风险利率</th>\n",
       "      <th>市场溢酬因子</th>\n",
       "      <th>市值因子</th>\n",
       "      <th>账面市值比因子</th>\n",
       "    </tr>\n",
       "  </thead>\n",
       "  <tbody>\n",
       "    <tr>\n",
       "      <th>0</th>\n",
       "      <td>20090109</td>\n",
       "      <td>1904.86</td>\n",
       "      <td>1727.01</td>\n",
       "      <td>1281.30</td>\n",
       "      <td>1591.43</td>\n",
       "      <td>2469.13</td>\n",
       "      <td>1822.58</td>\n",
       "      <td>0.000043</td>\n",
       "      <td>0.0204</td>\n",
       "      <td>0.0083</td>\n",
       "      <td>0.0010</td>\n",
       "    </tr>\n",
       "    <tr>\n",
       "      <th>1</th>\n",
       "      <td>20090112</td>\n",
       "      <td>1900.35</td>\n",
       "      <td>1715.86</td>\n",
       "      <td>1300.27</td>\n",
       "      <td>1590.85</td>\n",
       "      <td>2488.00</td>\n",
       "      <td>1829.90</td>\n",
       "      <td>0.000042</td>\n",
       "      <td>0.0044</td>\n",
       "      <td>0.0102</td>\n",
       "      <td>-0.0021</td>\n",
       "    </tr>\n",
       "    <tr>\n",
       "      <th>2</th>\n",
       "      <td>20090113</td>\n",
       "      <td>1863.37</td>\n",
       "      <td>1667.97</td>\n",
       "      <td>1273.80</td>\n",
       "      <td>1551.21</td>\n",
       "      <td>2407.01</td>\n",
       "      <td>1774.56</td>\n",
       "      <td>0.000041</td>\n",
       "      <td>-0.0249</td>\n",
       "      <td>-0.0019</td>\n",
       "      <td>0.0074</td>\n",
       "    </tr>\n",
       "    <tr>\n",
       "      <th>3</th>\n",
       "      <td>20090114</td>\n",
       "      <td>1928.87</td>\n",
       "      <td>1750.08</td>\n",
       "      <td>1329.63</td>\n",
       "      <td>1607.21</td>\n",
       "      <td>2463.77</td>\n",
       "      <td>1817.24</td>\n",
       "      <td>0.000041</td>\n",
       "      <td>0.0427</td>\n",
       "      <td>0.0029</td>\n",
       "      <td>-0.0022</td>\n",
       "    </tr>\n",
       "    <tr>\n",
       "      <th>4</th>\n",
       "      <td>20090115</td>\n",
       "      <td>1920.21</td>\n",
       "      <td>1739.64</td>\n",
       "      <td>1334.24</td>\n",
       "      <td>1614.49</td>\n",
       "      <td>2456.65</td>\n",
       "      <td>1814.10</td>\n",
       "      <td>0.000040</td>\n",
       "      <td>0.0033</td>\n",
       "      <td>0.0079</td>\n",
       "      <td>-0.0031</td>\n",
       "    </tr>\n",
       "    <tr>\n",
       "      <th>...</th>\n",
       "      <td>...</td>\n",
       "      <td>...</td>\n",
       "      <td>...</td>\n",
       "      <td>...</td>\n",
       "      <td>...</td>\n",
       "      <td>...</td>\n",
       "      <td>...</td>\n",
       "      <td>...</td>\n",
       "      <td>...</td>\n",
       "      <td>...</td>\n",
       "      <td>...</td>\n",
       "    </tr>\n",
       "    <tr>\n",
       "      <th>2422</th>\n",
       "      <td>20181224</td>\n",
       "      <td>2527.01</td>\n",
       "      <td>1289.12</td>\n",
       "      <td>1634.66</td>\n",
       "      <td>1869.08</td>\n",
       "      <td>7276.91</td>\n",
       "      <td>5275.89</td>\n",
       "      <td>0.000088</td>\n",
       "      <td>0.0056</td>\n",
       "      <td>-0.0008</td>\n",
       "      <td>-0.0045</td>\n",
       "    </tr>\n",
       "    <tr>\n",
       "      <th>2423</th>\n",
       "      <td>20181225</td>\n",
       "      <td>2504.82</td>\n",
       "      <td>1259.94</td>\n",
       "      <td>1605.20</td>\n",
       "      <td>1846.48</td>\n",
       "      <td>7256.91</td>\n",
       "      <td>5251.07</td>\n",
       "      <td>0.000090</td>\n",
       "      <td>-0.0088</td>\n",
       "      <td>-0.0034</td>\n",
       "      <td>-0.0057</td>\n",
       "    </tr>\n",
       "    <tr>\n",
       "      <th>2424</th>\n",
       "      <td>20181226</td>\n",
       "      <td>2498.29</td>\n",
       "      <td>1250.42</td>\n",
       "      <td>1598.94</td>\n",
       "      <td>1843.40</td>\n",
       "      <td>7216.06</td>\n",
       "      <td>5193.21</td>\n",
       "      <td>0.000091</td>\n",
       "      <td>-0.0030</td>\n",
       "      <td>0.0048</td>\n",
       "      <td>0.0030</td>\n",
       "    </tr>\n",
       "    <tr>\n",
       "      <th>2425</th>\n",
       "      <td>20181227</td>\n",
       "      <td>2483.09</td>\n",
       "      <td>1236.36</td>\n",
       "      <td>1587.71</td>\n",
       "      <td>1831.41</td>\n",
       "      <td>7233.59</td>\n",
       "      <td>5144.72</td>\n",
       "      <td>0.000091</td>\n",
       "      <td>-0.0080</td>\n",
       "      <td>-0.0095</td>\n",
       "      <td>0.0024</td>\n",
       "    </tr>\n",
       "    <tr>\n",
       "      <th>2426</th>\n",
       "      <td>20181228</td>\n",
       "      <td>2493.90</td>\n",
       "      <td>1225.71</td>\n",
       "      <td>1592.22</td>\n",
       "      <td>1848.19</td>\n",
       "      <td>7349.07</td>\n",
       "      <td>5177.93</td>\n",
       "      <td>0.000092</td>\n",
       "      <td>0.0039</td>\n",
       "      <td>-0.0031</td>\n",
       "      <td>-0.0009</td>\n",
       "    </tr>\n",
       "  </tbody>\n",
       "</table>\n",
       "<p>2427 rows × 11 columns</p>\n",
       "</div>"
      ],
      "text/plain": [
       "            日期     市场指数      组合1      组合2      组合3      组合4      组合5  \\\n",
       "0     20090109  1904.86  1727.01  1281.30  1591.43  2469.13  1822.58   \n",
       "1     20090112  1900.35  1715.86  1300.27  1590.85  2488.00  1829.90   \n",
       "2     20090113  1863.37  1667.97  1273.80  1551.21  2407.01  1774.56   \n",
       "3     20090114  1928.87  1750.08  1329.63  1607.21  2463.77  1817.24   \n",
       "4     20090115  1920.21  1739.64  1334.24  1614.49  2456.65  1814.10   \n",
       "...        ...      ...      ...      ...      ...      ...      ...   \n",
       "2422  20181224  2527.01  1289.12  1634.66  1869.08  7276.91  5275.89   \n",
       "2423  20181225  2504.82  1259.94  1605.20  1846.48  7256.91  5251.07   \n",
       "2424  20181226  2498.29  1250.42  1598.94  1843.40  7216.06  5193.21   \n",
       "2425  20181227  2483.09  1236.36  1587.71  1831.41  7233.59  5144.72   \n",
       "2426  20181228  2493.90  1225.71  1592.22  1848.19  7349.07  5177.93   \n",
       "\n",
       "         无风险利率   市场溢酬因子    市值因子   账面市值比因子   \n",
       "0     0.000043   0.0204  0.0083     0.0010  \n",
       "1     0.000042   0.0044  0.0102    -0.0021  \n",
       "2     0.000041  -0.0249 -0.0019     0.0074  \n",
       "3     0.000041   0.0427  0.0029    -0.0022  \n",
       "4     0.000040   0.0033  0.0079    -0.0031  \n",
       "...        ...      ...     ...        ...  \n",
       "2422  0.000088   0.0056 -0.0008    -0.0045  \n",
       "2423  0.000090  -0.0088 -0.0034    -0.0057  \n",
       "2424  0.000091  -0.0030  0.0048     0.0030  \n",
       "2425  0.000091  -0.0080 -0.0095     0.0024  \n",
       "2426  0.000092   0.0039 -0.0031    -0.0009  \n",
       "\n",
       "[2427 rows x 11 columns]"
      ]
     },
     "execution_count": 25,
     "metadata": {},
     "output_type": "execute_result"
    }
   ],
   "source": [
    "data = pd.read_csv('3-B_EXAM4.csv', encoding='GB2312')\n",
    "data"
   ]
  },
  {
   "cell_type": "code",
   "execution_count": 16,
   "metadata": {},
   "outputs": [
    {
     "data": {
      "text/plain": [
       "array([1727.01, 1715.86, 1667.97, ..., 1250.42, 1236.36, 1225.71])"
      ]
     },
     "execution_count": 16,
     "metadata": {},
     "output_type": "execute_result"
    }
   ],
   "source": [
    "p1 = data.iloc[:, 2].values\n",
    "p2 = data.iloc[:, 3].values\n",
    "p3 = data.iloc[:, 4].values\n",
    "p4 = data.iloc[:, 5].values\n",
    "p5 = data.iloc[:, 6].values\n",
    "rf = data.iloc[:, 7].values\n",
    "mkt = data.iloc[:, 8].values\n",
    "p1"
   ]
  },
  {
   "cell_type": "code",
   "execution_count": 17,
   "metadata": {},
   "outputs": [
    {
     "data": {
      "text/plain": [
       "array([-0.00647718, -0.02830709,  0.04805418, ..., -0.00758461,\n",
       "       -0.01130792, -0.00865131])"
      ]
     },
     "execution_count": 17,
     "metadata": {},
     "output_type": "execute_result"
    }
   ],
   "source": [
    "r1 = np.log(p1[1:]) - np.log(p1[:-1])\n",
    "r2 = np.log(p2[1:]) - np.log(p2[:-1])\n",
    "r3 = np.log(p3[1:]) - np.log(p3[:-1])\n",
    "r4 = np.log(p4[1:]) - np.log(p4[:-1])\n",
    "r5 = np.log(p5[1:]) - np.log(p5[:-1])\n",
    "r1"
   ]
  },
  {
   "cell_type": "code",
   "execution_count": 18,
   "metadata": {},
   "outputs": [
    {
     "data": {
      "text/plain": [
       "array([-0.00651918, -0.02834809,  0.04801318, ..., -0.00767561,\n",
       "       -0.01139892, -0.00874331])"
      ]
     },
     "execution_count": 18,
     "metadata": {},
     "output_type": "execute_result"
    }
   ],
   "source": [
    "rexc1 = r1 - rf[1:]\n",
    "rexc2 = r2 - rf[1:]\n",
    "rexc3 = r3 - rf[1:]\n",
    "rexc4 = r4 - rf[1:]\n",
    "rexc5 = r5 - rf[1:]\n",
    "rexc1"
   ]
  },
  {
   "cell_type": "code",
   "execution_count": 27,
   "metadata": {},
   "outputs": [
    {
     "data": {
      "text/plain": [
       "numpy.ndarray"
      ]
     },
     "execution_count": 27,
     "metadata": {},
     "output_type": "execute_result"
    }
   ],
   "source": [
    "R = np.concatenate([rexc1[:, None], \n",
    "                    rexc2[:, None],\n",
    "                    rexc3[:, None], \n",
    "                    rexc4[:, None],\n",
    "                    rexc5[:, None]], \n",
    "                   axis=1)\n",
    "type(R)"
   ]
  },
  {
   "cell_type": "code",
   "execution_count": 28,
   "metadata": {},
   "outputs": [
    {
     "data": {
      "text/plain": [
       "numpy.ndarray"
      ]
     },
     "execution_count": 28,
     "metadata": {},
     "output_type": "execute_result"
    }
   ],
   "source": [
    "Cov_Sample = np.mat(np.cov(R, rowvar=False))\n",
    "Cov_Sample  ##方法1：样本方差-协方差矩阵\n",
    "type(np.cov(R, rowvar=False))"
   ]
  },
  {
   "cell_type": "code",
   "execution_count": 21,
   "metadata": {},
   "outputs": [
    {
     "data": {
      "text/plain": [
       "matrix([[ 1.    ,  0.0044],\n",
       "        [ 1.    , -0.0249],\n",
       "        [ 1.    ,  0.0427],\n",
       "        ...,\n",
       "        [ 1.    , -0.003 ],\n",
       "        [ 1.    , -0.008 ],\n",
       "        [ 1.    ,  0.0039]])"
      ]
     },
     "execution_count": 21,
     "metadata": {},
     "output_type": "execute_result"
    }
   ],
   "source": [
    "X = np.mat(np.concatenate([np.ones((len(mkt)-1, 1)), mkt[1:, None]], axis=1))\n",
    "X  #这里就是的X就是常数项和市场超额收益率的系数"
   ]
  },
  {
   "cell_type": "code",
   "execution_count": 29,
   "metadata": {},
   "outputs": [
    {
     "data": {
      "text/plain": [
       "array([[9.02498281e-05, 0.00000000e+00, 0.00000000e+00, 0.00000000e+00,\n",
       "        0.00000000e+00],\n",
       "       [0.00000000e+00, 6.25901678e-05, 0.00000000e+00, 0.00000000e+00,\n",
       "        0.00000000e+00],\n",
       "       [0.00000000e+00, 0.00000000e+00, 4.46072446e-05, 0.00000000e+00,\n",
       "        0.00000000e+00],\n",
       "       [0.00000000e+00, 0.00000000e+00, 0.00000000e+00, 7.58804669e-05,\n",
       "        0.00000000e+00],\n",
       "       [0.00000000e+00, 0.00000000e+00, 0.00000000e+00, 0.00000000e+00,\n",
       "        1.13345790e-04]])"
      ]
     },
     "execution_count": 29,
     "metadata": {},
     "output_type": "execute_result"
    }
   ],
   "source": [
    "Y = np.mat(R)\n",
    "AB_hat = (X.T*X).I*(X.T*Y)\n",
    "ALPHA = AB_hat[0]#这里取的是AB_hat的第一行，总之就是常数项的系数\n",
    "BETA = AB_hat[1]#这里取的是AB_hat的第二行，总之就是市场超额收益率的系数\n",
    "RESD = Y - X*AB_hat\n",
    "covfactor = np.cov(mkt[1:])\n",
    "covresidual = np.diag(np.diag(np.cov(RESD, rowvar=False)))\n",
    "Cov_Factor = BETA.T*covfactor*BETA + covresidual\n",
    "Cov_Factor##方法3：因子模型估计法\n",
    "covresidual"
   ]
  },
  {
   "cell_type": "code",
   "execution_count": 23,
   "metadata": {},
   "outputs": [
    {
     "data": {
      "text/plain": [
       "matrix([[0.00036161, 0.00030257, 0.00026619, 0.00022084, 0.00020533],\n",
       "        [0.00030257, 0.00036965, 0.00028306, 0.00024205, 0.00023079],\n",
       "        [0.00026619, 0.00028306, 0.00029853, 0.0002197 , 0.00020996],\n",
       "        [0.00022084, 0.00024205, 0.0002197 , 0.00026741, 0.00020887],\n",
       "        [0.00020533, 0.00023079, 0.00020996, 0.00020887, 0.0002925 ]])"
      ]
     },
     "execution_count": 23,
     "metadata": {},
     "output_type": "execute_result"
    }
   ],
   "source": [
    "c = 0.5\n",
    "Cov_Shrink = c*Cov_Sample + (1-c)*Cov_Factor\n",
    "##这里要注意c是加反的\n",
    "Cov_Shrink"
   ]
  },
  {
   "cell_type": "code",
   "execution_count": 37,
   "metadata": {},
   "outputs": [
    {
     "name": "stdout",
     "output_type": "stream",
     "text": [
      "[[ 0.32532288]\n",
      " [-0.21248216]\n",
      " [ 0.38898507]\n",
      " [ 0.23881412]\n",
      " [ 0.25936009]]\n",
      "\n",
      "[[ 0.39904587]\n",
      " [-0.32861957]\n",
      " [ 0.38202395]\n",
      " [ 0.23869463]\n",
      " [ 0.30885513]]\n"
     ]
    },
    {
     "data": {
      "text/plain": [
       "matrix([[7.49300704e-05],\n",
       "        [1.00000000e+00]])"
      ]
     },
     "execution_count": 37,
     "metadata": {},
     "output_type": "execute_result"
    }
   ],
   "source": [
    "uhat = np.mean(R, axis=0)\n",
    "A = np.mat(np.concatenate([uhat[:, None], np.ones((len(uhat), 1))], axis=1)).T\n",
    "up = np.mean(uhat)\n",
    "b = np.mat(np.array([up, 1])[:, None])\n",
    "\n",
    "omega_Shrink = Cov_Shrink.I*A.T*(A*Cov_Shrink.I*A.T).I*b\n",
    "print(omega_Shrink)\n",
    "omega_Sample = Cov_Sample.I*A.T*(A*Cov_Sample.I*A.T).I*b\n",
    "print()\n",
    "print(omega_Sample)\n",
    "b"
   ]
  },
  {
   "cell_type": "code",
   "execution_count": null,
   "metadata": {},
   "outputs": [],
   "source": []
  },
  {
   "cell_type": "code",
   "execution_count": null,
   "metadata": {},
   "outputs": [],
   "source": []
  }
 ],
 "metadata": {
  "kernelspec": {
   "display_name": "base",
   "language": "python",
   "name": "base"
  },
  "language_info": {
   "codemirror_mode": {
    "name": "ipython",
    "version": 3
   },
   "file_extension": ".py",
   "mimetype": "text/x-python",
   "name": "python",
   "nbconvert_exporter": "python",
   "pygments_lexer": "ipython3",
   "version": "3.10.9"
  }
 },
 "nbformat": 4,
 "nbformat_minor": 1
}
